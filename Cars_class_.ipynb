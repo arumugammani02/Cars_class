{
  "nbformat": 4,
  "nbformat_minor": 0,
  "metadata": {
    "colab": {
      "provenance": [],
      "collapsed_sections": [],
      "authorship_tag": "ABX9TyNnyA3V9JoIqdrIlKBFimtt",
      "include_colab_link": true
    },
    "kernelspec": {
      "name": "python3",
      "display_name": "Python 3"
    },
    "language_info": {
      "name": "python"
    }
  },
  "cells": [
    {
      "cell_type": "markdown",
      "metadata": {
        "id": "view-in-github",
        "colab_type": "text"
      },
      "source": [
        "<a href=\"https://colab.research.google.com/github/arumugammani02/Cars_class/blob/main/Cars_class_.ipynb\" target=\"_parent\"><img src=\"https://colab.research.google.com/assets/colab-badge.svg\" alt=\"Open In Colab\"/></a>"
      ]
    },
    {
      "cell_type": "markdown",
      "source": [
        "# Cars class"
      ],
      "metadata": {
        "id": "p_Zzt6PwVe7G"
      }
    },
    {
      "cell_type": "code",
      "source": [
        "#import pandas\n",
        "import pandas as pd"
      ],
      "metadata": {
        "id": "fCxizvYVVlF3"
      },
      "execution_count": 176,
      "outputs": []
    },
    {
      "cell_type": "code",
      "source": [
        "#import source data\n",
        "data = pd.read_csv('cars_class.csv')"
      ],
      "metadata": {
        "id": "K1jeLNotV1hN"
      },
      "execution_count": 177,
      "outputs": []
    },
    {
      "cell_type": "code",
      "source": [
        "data.shape"
      ],
      "metadata": {
        "colab": {
          "base_uri": "https://localhost:8080/"
        },
        "id": "uQMEdFe9WQl0",
        "outputId": "4520a49f-2b1c-472e-c2bc-3f042caa3274"
      },
      "execution_count": 178,
      "outputs": [
        {
          "output_type": "execute_result",
          "data": {
            "text/plain": [
              "(719, 20)"
            ]
          },
          "metadata": {},
          "execution_count": 178
        }
      ]
    },
    {
      "cell_type": "code",
      "source": [
        "data.head()"
      ],
      "metadata": {
        "colab": {
          "base_uri": "https://localhost:8080/",
          "height": 206
        },
        "id": "x7n5JAIsWU4P",
        "outputId": "76a2ac71-8f24-4faa-b0b9-83a977a57824"
      },
      "execution_count": 179,
      "outputs": [
        {
          "output_type": "execute_result",
          "data": {
            "text/plain": [
              "   ID  Comp  Circ  D.Circ  Rad.Ra  Pr.Axis.Ra  Max.L.Ra  Scat.Ra  Elong  \\\n",
              "0   1    88    39      70     166          66         7      148     44   \n",
              "1   2    85    35      64     129          57         6      116     57   \n",
              "2   3    91    41      84     141          57         9      149     45   \n",
              "3   4   102    54      98     177          56        10      219     31   \n",
              "4   5    87    39      74     152          58         6      151     44   \n",
              "\n",
              "   Pr.Axis.Rect  Max.L.Rect  Sc.Var.Maxis  Sc.Var.maxis  Ra.Gyr  Skew.Maxis  \\\n",
              "0            19         134           167           332     143          69   \n",
              "1            17         125           138           200     123          65   \n",
              "2            19         143           170           330     158          72   \n",
              "3            25         171           219           706     223          72   \n",
              "4            19         136           174           337     140          70   \n",
              "\n",
              "   Skew.maxis  Kurt.maxis  Kurt.Maxis  Holl.Ra  Class  \n",
              "0           5          13         193      201      0  \n",
              "1           1          23         196      203      3  \n",
              "2           9          14         189      199      3  \n",
              "3           5          17         186      196      1  \n",
              "4           1          33         187      196      2  "
            ],
            "text/html": [
              "\n",
              "  <div id=\"df-b6eb6abe-8cbb-482d-a6ee-7eb75b7b2ca9\">\n",
              "    <div class=\"colab-df-container\">\n",
              "      <div>\n",
              "<style scoped>\n",
              "    .dataframe tbody tr th:only-of-type {\n",
              "        vertical-align: middle;\n",
              "    }\n",
              "\n",
              "    .dataframe tbody tr th {\n",
              "        vertical-align: top;\n",
              "    }\n",
              "\n",
              "    .dataframe thead th {\n",
              "        text-align: right;\n",
              "    }\n",
              "</style>\n",
              "<table border=\"1\" class=\"dataframe\">\n",
              "  <thead>\n",
              "    <tr style=\"text-align: right;\">\n",
              "      <th></th>\n",
              "      <th>ID</th>\n",
              "      <th>Comp</th>\n",
              "      <th>Circ</th>\n",
              "      <th>D.Circ</th>\n",
              "      <th>Rad.Ra</th>\n",
              "      <th>Pr.Axis.Ra</th>\n",
              "      <th>Max.L.Ra</th>\n",
              "      <th>Scat.Ra</th>\n",
              "      <th>Elong</th>\n",
              "      <th>Pr.Axis.Rect</th>\n",
              "      <th>Max.L.Rect</th>\n",
              "      <th>Sc.Var.Maxis</th>\n",
              "      <th>Sc.Var.maxis</th>\n",
              "      <th>Ra.Gyr</th>\n",
              "      <th>Skew.Maxis</th>\n",
              "      <th>Skew.maxis</th>\n",
              "      <th>Kurt.maxis</th>\n",
              "      <th>Kurt.Maxis</th>\n",
              "      <th>Holl.Ra</th>\n",
              "      <th>Class</th>\n",
              "    </tr>\n",
              "  </thead>\n",
              "  <tbody>\n",
              "    <tr>\n",
              "      <th>0</th>\n",
              "      <td>1</td>\n",
              "      <td>88</td>\n",
              "      <td>39</td>\n",
              "      <td>70</td>\n",
              "      <td>166</td>\n",
              "      <td>66</td>\n",
              "      <td>7</td>\n",
              "      <td>148</td>\n",
              "      <td>44</td>\n",
              "      <td>19</td>\n",
              "      <td>134</td>\n",
              "      <td>167</td>\n",
              "      <td>332</td>\n",
              "      <td>143</td>\n",
              "      <td>69</td>\n",
              "      <td>5</td>\n",
              "      <td>13</td>\n",
              "      <td>193</td>\n",
              "      <td>201</td>\n",
              "      <td>0</td>\n",
              "    </tr>\n",
              "    <tr>\n",
              "      <th>1</th>\n",
              "      <td>2</td>\n",
              "      <td>85</td>\n",
              "      <td>35</td>\n",
              "      <td>64</td>\n",
              "      <td>129</td>\n",
              "      <td>57</td>\n",
              "      <td>6</td>\n",
              "      <td>116</td>\n",
              "      <td>57</td>\n",
              "      <td>17</td>\n",
              "      <td>125</td>\n",
              "      <td>138</td>\n",
              "      <td>200</td>\n",
              "      <td>123</td>\n",
              "      <td>65</td>\n",
              "      <td>1</td>\n",
              "      <td>23</td>\n",
              "      <td>196</td>\n",
              "      <td>203</td>\n",
              "      <td>3</td>\n",
              "    </tr>\n",
              "    <tr>\n",
              "      <th>2</th>\n",
              "      <td>3</td>\n",
              "      <td>91</td>\n",
              "      <td>41</td>\n",
              "      <td>84</td>\n",
              "      <td>141</td>\n",
              "      <td>57</td>\n",
              "      <td>9</td>\n",
              "      <td>149</td>\n",
              "      <td>45</td>\n",
              "      <td>19</td>\n",
              "      <td>143</td>\n",
              "      <td>170</td>\n",
              "      <td>330</td>\n",
              "      <td>158</td>\n",
              "      <td>72</td>\n",
              "      <td>9</td>\n",
              "      <td>14</td>\n",
              "      <td>189</td>\n",
              "      <td>199</td>\n",
              "      <td>3</td>\n",
              "    </tr>\n",
              "    <tr>\n",
              "      <th>3</th>\n",
              "      <td>4</td>\n",
              "      <td>102</td>\n",
              "      <td>54</td>\n",
              "      <td>98</td>\n",
              "      <td>177</td>\n",
              "      <td>56</td>\n",
              "      <td>10</td>\n",
              "      <td>219</td>\n",
              "      <td>31</td>\n",
              "      <td>25</td>\n",
              "      <td>171</td>\n",
              "      <td>219</td>\n",
              "      <td>706</td>\n",
              "      <td>223</td>\n",
              "      <td>72</td>\n",
              "      <td>5</td>\n",
              "      <td>17</td>\n",
              "      <td>186</td>\n",
              "      <td>196</td>\n",
              "      <td>1</td>\n",
              "    </tr>\n",
              "    <tr>\n",
              "      <th>4</th>\n",
              "      <td>5</td>\n",
              "      <td>87</td>\n",
              "      <td>39</td>\n",
              "      <td>74</td>\n",
              "      <td>152</td>\n",
              "      <td>58</td>\n",
              "      <td>6</td>\n",
              "      <td>151</td>\n",
              "      <td>44</td>\n",
              "      <td>19</td>\n",
              "      <td>136</td>\n",
              "      <td>174</td>\n",
              "      <td>337</td>\n",
              "      <td>140</td>\n",
              "      <td>70</td>\n",
              "      <td>1</td>\n",
              "      <td>33</td>\n",
              "      <td>187</td>\n",
              "      <td>196</td>\n",
              "      <td>2</td>\n",
              "    </tr>\n",
              "  </tbody>\n",
              "</table>\n",
              "</div>\n",
              "      <button class=\"colab-df-convert\" onclick=\"convertToInteractive('df-b6eb6abe-8cbb-482d-a6ee-7eb75b7b2ca9')\"\n",
              "              title=\"Convert this dataframe to an interactive table.\"\n",
              "              style=\"display:none;\">\n",
              "        \n",
              "  <svg xmlns=\"http://www.w3.org/2000/svg\" height=\"24px\"viewBox=\"0 0 24 24\"\n",
              "       width=\"24px\">\n",
              "    <path d=\"M0 0h24v24H0V0z\" fill=\"none\"/>\n",
              "    <path d=\"M18.56 5.44l.94 2.06.94-2.06 2.06-.94-2.06-.94-.94-2.06-.94 2.06-2.06.94zm-11 1L8.5 8.5l.94-2.06 2.06-.94-2.06-.94L8.5 2.5l-.94 2.06-2.06.94zm10 10l.94 2.06.94-2.06 2.06-.94-2.06-.94-.94-2.06-.94 2.06-2.06.94z\"/><path d=\"M17.41 7.96l-1.37-1.37c-.4-.4-.92-.59-1.43-.59-.52 0-1.04.2-1.43.59L10.3 9.45l-7.72 7.72c-.78.78-.78 2.05 0 2.83L4 21.41c.39.39.9.59 1.41.59.51 0 1.02-.2 1.41-.59l7.78-7.78 2.81-2.81c.8-.78.8-2.07 0-2.86zM5.41 20L4 18.59l7.72-7.72 1.47 1.35L5.41 20z\"/>\n",
              "  </svg>\n",
              "      </button>\n",
              "      \n",
              "  <style>\n",
              "    .colab-df-container {\n",
              "      display:flex;\n",
              "      flex-wrap:wrap;\n",
              "      gap: 12px;\n",
              "    }\n",
              "\n",
              "    .colab-df-convert {\n",
              "      background-color: #E8F0FE;\n",
              "      border: none;\n",
              "      border-radius: 50%;\n",
              "      cursor: pointer;\n",
              "      display: none;\n",
              "      fill: #1967D2;\n",
              "      height: 32px;\n",
              "      padding: 0 0 0 0;\n",
              "      width: 32px;\n",
              "    }\n",
              "\n",
              "    .colab-df-convert:hover {\n",
              "      background-color: #E2EBFA;\n",
              "      box-shadow: 0px 1px 2px rgba(60, 64, 67, 0.3), 0px 1px 3px 1px rgba(60, 64, 67, 0.15);\n",
              "      fill: #174EA6;\n",
              "    }\n",
              "\n",
              "    [theme=dark] .colab-df-convert {\n",
              "      background-color: #3B4455;\n",
              "      fill: #D2E3FC;\n",
              "    }\n",
              "\n",
              "    [theme=dark] .colab-df-convert:hover {\n",
              "      background-color: #434B5C;\n",
              "      box-shadow: 0px 1px 3px 1px rgba(0, 0, 0, 0.15);\n",
              "      filter: drop-shadow(0px 1px 2px rgba(0, 0, 0, 0.3));\n",
              "      fill: #FFFFFF;\n",
              "    }\n",
              "  </style>\n",
              "\n",
              "      <script>\n",
              "        const buttonEl =\n",
              "          document.querySelector('#df-b6eb6abe-8cbb-482d-a6ee-7eb75b7b2ca9 button.colab-df-convert');\n",
              "        buttonEl.style.display =\n",
              "          google.colab.kernel.accessAllowed ? 'block' : 'none';\n",
              "\n",
              "        async function convertToInteractive(key) {\n",
              "          const element = document.querySelector('#df-b6eb6abe-8cbb-482d-a6ee-7eb75b7b2ca9');\n",
              "          const dataTable =\n",
              "            await google.colab.kernel.invokeFunction('convertToInteractive',\n",
              "                                                     [key], {});\n",
              "          if (!dataTable) return;\n",
              "\n",
              "          const docLinkHtml = 'Like what you see? Visit the ' +\n",
              "            '<a target=\"_blank\" href=https://colab.research.google.com/notebooks/data_table.ipynb>data table notebook</a>'\n",
              "            + ' to learn more about interactive tables.';\n",
              "          element.innerHTML = '';\n",
              "          dataTable['output_type'] = 'display_data';\n",
              "          await google.colab.output.renderOutput(dataTable, element);\n",
              "          const docLink = document.createElement('div');\n",
              "          docLink.innerHTML = docLinkHtml;\n",
              "          element.appendChild(docLink);\n",
              "        }\n",
              "      </script>\n",
              "    </div>\n",
              "  </div>\n",
              "  "
            ]
          },
          "metadata": {},
          "execution_count": 179
        }
      ]
    },
    {
      "cell_type": "code",
      "source": [
        "data.info()"
      ],
      "metadata": {
        "colab": {
          "base_uri": "https://localhost:8080/"
        },
        "id": "mwf1McNuWXXW",
        "outputId": "889831e2-4bcc-41c3-e36c-92182f05cd21"
      },
      "execution_count": 180,
      "outputs": [
        {
          "output_type": "stream",
          "name": "stdout",
          "text": [
            "<class 'pandas.core.frame.DataFrame'>\n",
            "RangeIndex: 719 entries, 0 to 718\n",
            "Data columns (total 20 columns):\n",
            " #   Column        Non-Null Count  Dtype\n",
            "---  ------        --------------  -----\n",
            " 0   ID            719 non-null    int64\n",
            " 1   Comp          719 non-null    int64\n",
            " 2   Circ          719 non-null    int64\n",
            " 3   D.Circ        719 non-null    int64\n",
            " 4   Rad.Ra        719 non-null    int64\n",
            " 5   Pr.Axis.Ra    719 non-null    int64\n",
            " 6   Max.L.Ra      719 non-null    int64\n",
            " 7   Scat.Ra       719 non-null    int64\n",
            " 8   Elong         719 non-null    int64\n",
            " 9   Pr.Axis.Rect  719 non-null    int64\n",
            " 10  Max.L.Rect    719 non-null    int64\n",
            " 11  Sc.Var.Maxis  719 non-null    int64\n",
            " 12  Sc.Var.maxis  719 non-null    int64\n",
            " 13  Ra.Gyr        719 non-null    int64\n",
            " 14  Skew.Maxis    719 non-null    int64\n",
            " 15  Skew.maxis    719 non-null    int64\n",
            " 16  Kurt.maxis    719 non-null    int64\n",
            " 17  Kurt.Maxis    719 non-null    int64\n",
            " 18  Holl.Ra       719 non-null    int64\n",
            " 19  Class         719 non-null    int64\n",
            "dtypes: int64(20)\n",
            "memory usage: 112.5 KB\n"
          ]
        }
      ]
    },
    {
      "cell_type": "markdown",
      "source": [
        "Duplicates rows finding"
      ],
      "metadata": {
        "id": "-Uveuqn-Ta13"
      }
    },
    {
      "cell_type": "code",
      "source": [
        "data.duplicated().sum()"
      ],
      "metadata": {
        "colab": {
          "base_uri": "https://localhost:8080/"
        },
        "id": "EVCsxiXiWkr2",
        "outputId": "0c61e704-888c-4b00-f5a4-5120e79e83e7"
      },
      "execution_count": 181,
      "outputs": [
        {
          "output_type": "execute_result",
          "data": {
            "text/plain": [
              "0"
            ]
          },
          "metadata": {},
          "execution_count": 181
        }
      ]
    },
    {
      "cell_type": "markdown",
      "source": [
        "Missing values\n"
      ],
      "metadata": {
        "id": "xevnglC2TRcv"
      }
    },
    {
      "cell_type": "code",
      "source": [
        "data.isnull().sum()"
      ],
      "metadata": {
        "colab": {
          "base_uri": "https://localhost:8080/"
        },
        "id": "aeJCUuLMWqT-",
        "outputId": "151605f0-5260-405d-fc3d-e716b6656a71"
      },
      "execution_count": 182,
      "outputs": [
        {
          "output_type": "execute_result",
          "data": {
            "text/plain": [
              "ID              0\n",
              "Comp            0\n",
              "Circ            0\n",
              "D.Circ          0\n",
              "Rad.Ra          0\n",
              "Pr.Axis.Ra      0\n",
              "Max.L.Ra        0\n",
              "Scat.Ra         0\n",
              "Elong           0\n",
              "Pr.Axis.Rect    0\n",
              "Max.L.Rect      0\n",
              "Sc.Var.Maxis    0\n",
              "Sc.Var.maxis    0\n",
              "Ra.Gyr          0\n",
              "Skew.Maxis      0\n",
              "Skew.maxis      0\n",
              "Kurt.maxis      0\n",
              "Kurt.Maxis      0\n",
              "Holl.Ra         0\n",
              "Class           0\n",
              "dtype: int64"
            ]
          },
          "metadata": {},
          "execution_count": 182
        }
      ]
    },
    {
      "cell_type": "code",
      "source": [
        "data.describe()"
      ],
      "metadata": {
        "colab": {
          "base_uri": "https://localhost:8080/",
          "height": 364
        },
        "id": "8bYBhW90WxwG",
        "outputId": "5068a200-fbac-40a6-c2f5-c2237cfd99c8"
      },
      "execution_count": 183,
      "outputs": [
        {
          "output_type": "execute_result",
          "data": {
            "text/plain": [
              "               ID        Comp        Circ      D.Circ      Rad.Ra  Pr.Axis.Ra  \\\n",
              "count  719.000000  719.000000  719.000000  719.000000  719.000000  719.000000   \n",
              "mean   360.000000   93.435327   44.851182   81.723227  168.579972   61.847010   \n",
              "std    207.701709    8.111406    6.150286   15.528208   33.809172    8.259136   \n",
              "min      1.000000   73.000000   33.000000   40.000000  105.000000   47.000000   \n",
              "25%    180.500000   87.000000   40.000000   70.000000  141.000000   57.000000   \n",
              "50%    360.000000   93.000000   44.000000   79.000000  166.000000   61.000000   \n",
              "75%    539.500000   99.000000   49.000000   96.000000  194.500000   65.000000   \n",
              "max    719.000000  119.000000   59.000000  110.000000  333.000000  138.000000   \n",
              "\n",
              "         Max.L.Ra     Scat.Ra       Elong  Pr.Axis.Rect  Max.L.Rect  \\\n",
              "count  719.000000  719.000000  719.000000    719.000000  719.000000   \n",
              "mean     8.625869  168.137691   41.075104     20.531293  148.030598   \n",
              "std      4.916908   32.937591    7.764459      2.560969   14.560092   \n",
              "min      2.000000  112.000000   26.000000     17.000000  118.000000   \n",
              "25%      6.000000  146.000000   33.000000     19.000000  137.000000   \n",
              "50%      8.000000  157.000000   43.000000     20.000000  146.000000   \n",
              "75%     10.000000  197.500000   46.000000     23.000000  159.000000   \n",
              "max     55.000000  265.000000   61.000000     29.000000  188.000000   \n",
              "\n",
              "       Sc.Var.Maxis  Sc.Var.maxis      Ra.Gyr  Skew.Maxis  Skew.maxis  \\\n",
              "count    719.000000    719.000000  719.000000  719.000000  719.000000   \n",
              "mean     188.168289    436.215577  174.726008   72.682893    6.343533   \n",
              "std       31.235395    174.964977   32.149568    7.542055    4.856169   \n",
              "min      130.000000    184.000000  109.000000   59.000000    0.000000   \n",
              "25%      167.000000    317.000000  149.000000   68.000000    2.000000   \n",
              "50%      178.000000    362.000000  174.000000   72.000000    6.000000   \n",
              "75%      216.000000    584.500000  198.000000   76.000000    9.000000   \n",
              "max      320.000000   1018.000000  262.000000  135.000000   22.000000   \n",
              "\n",
              "       Kurt.maxis  Kurt.Maxis     Holl.Ra       Class  \n",
              "count  719.000000  719.000000  719.000000  719.000000  \n",
              "mean    12.394993  188.798331  195.407510    1.470097  \n",
              "std      8.742511    6.048522    7.235166    1.126477  \n",
              "min      0.000000  176.000000  181.000000    0.000000  \n",
              "25%      5.500000  184.000000  190.000000    0.000000  \n",
              "50%     11.000000  188.000000  196.000000    1.000000  \n",
              "75%     18.000000  193.000000  201.000000    2.000000  \n",
              "max     41.000000  204.000000  211.000000    3.000000  "
            ],
            "text/html": [
              "\n",
              "  <div id=\"df-5d241727-b489-4277-9be4-f536466c45bb\">\n",
              "    <div class=\"colab-df-container\">\n",
              "      <div>\n",
              "<style scoped>\n",
              "    .dataframe tbody tr th:only-of-type {\n",
              "        vertical-align: middle;\n",
              "    }\n",
              "\n",
              "    .dataframe tbody tr th {\n",
              "        vertical-align: top;\n",
              "    }\n",
              "\n",
              "    .dataframe thead th {\n",
              "        text-align: right;\n",
              "    }\n",
              "</style>\n",
              "<table border=\"1\" class=\"dataframe\">\n",
              "  <thead>\n",
              "    <tr style=\"text-align: right;\">\n",
              "      <th></th>\n",
              "      <th>ID</th>\n",
              "      <th>Comp</th>\n",
              "      <th>Circ</th>\n",
              "      <th>D.Circ</th>\n",
              "      <th>Rad.Ra</th>\n",
              "      <th>Pr.Axis.Ra</th>\n",
              "      <th>Max.L.Ra</th>\n",
              "      <th>Scat.Ra</th>\n",
              "      <th>Elong</th>\n",
              "      <th>Pr.Axis.Rect</th>\n",
              "      <th>Max.L.Rect</th>\n",
              "      <th>Sc.Var.Maxis</th>\n",
              "      <th>Sc.Var.maxis</th>\n",
              "      <th>Ra.Gyr</th>\n",
              "      <th>Skew.Maxis</th>\n",
              "      <th>Skew.maxis</th>\n",
              "      <th>Kurt.maxis</th>\n",
              "      <th>Kurt.Maxis</th>\n",
              "      <th>Holl.Ra</th>\n",
              "      <th>Class</th>\n",
              "    </tr>\n",
              "  </thead>\n",
              "  <tbody>\n",
              "    <tr>\n",
              "      <th>count</th>\n",
              "      <td>719.000000</td>\n",
              "      <td>719.000000</td>\n",
              "      <td>719.000000</td>\n",
              "      <td>719.000000</td>\n",
              "      <td>719.000000</td>\n",
              "      <td>719.000000</td>\n",
              "      <td>719.000000</td>\n",
              "      <td>719.000000</td>\n",
              "      <td>719.000000</td>\n",
              "      <td>719.000000</td>\n",
              "      <td>719.000000</td>\n",
              "      <td>719.000000</td>\n",
              "      <td>719.000000</td>\n",
              "      <td>719.000000</td>\n",
              "      <td>719.000000</td>\n",
              "      <td>719.000000</td>\n",
              "      <td>719.000000</td>\n",
              "      <td>719.000000</td>\n",
              "      <td>719.000000</td>\n",
              "      <td>719.000000</td>\n",
              "    </tr>\n",
              "    <tr>\n",
              "      <th>mean</th>\n",
              "      <td>360.000000</td>\n",
              "      <td>93.435327</td>\n",
              "      <td>44.851182</td>\n",
              "      <td>81.723227</td>\n",
              "      <td>168.579972</td>\n",
              "      <td>61.847010</td>\n",
              "      <td>8.625869</td>\n",
              "      <td>168.137691</td>\n",
              "      <td>41.075104</td>\n",
              "      <td>20.531293</td>\n",
              "      <td>148.030598</td>\n",
              "      <td>188.168289</td>\n",
              "      <td>436.215577</td>\n",
              "      <td>174.726008</td>\n",
              "      <td>72.682893</td>\n",
              "      <td>6.343533</td>\n",
              "      <td>12.394993</td>\n",
              "      <td>188.798331</td>\n",
              "      <td>195.407510</td>\n",
              "      <td>1.470097</td>\n",
              "    </tr>\n",
              "    <tr>\n",
              "      <th>std</th>\n",
              "      <td>207.701709</td>\n",
              "      <td>8.111406</td>\n",
              "      <td>6.150286</td>\n",
              "      <td>15.528208</td>\n",
              "      <td>33.809172</td>\n",
              "      <td>8.259136</td>\n",
              "      <td>4.916908</td>\n",
              "      <td>32.937591</td>\n",
              "      <td>7.764459</td>\n",
              "      <td>2.560969</td>\n",
              "      <td>14.560092</td>\n",
              "      <td>31.235395</td>\n",
              "      <td>174.964977</td>\n",
              "      <td>32.149568</td>\n",
              "      <td>7.542055</td>\n",
              "      <td>4.856169</td>\n",
              "      <td>8.742511</td>\n",
              "      <td>6.048522</td>\n",
              "      <td>7.235166</td>\n",
              "      <td>1.126477</td>\n",
              "    </tr>\n",
              "    <tr>\n",
              "      <th>min</th>\n",
              "      <td>1.000000</td>\n",
              "      <td>73.000000</td>\n",
              "      <td>33.000000</td>\n",
              "      <td>40.000000</td>\n",
              "      <td>105.000000</td>\n",
              "      <td>47.000000</td>\n",
              "      <td>2.000000</td>\n",
              "      <td>112.000000</td>\n",
              "      <td>26.000000</td>\n",
              "      <td>17.000000</td>\n",
              "      <td>118.000000</td>\n",
              "      <td>130.000000</td>\n",
              "      <td>184.000000</td>\n",
              "      <td>109.000000</td>\n",
              "      <td>59.000000</td>\n",
              "      <td>0.000000</td>\n",
              "      <td>0.000000</td>\n",
              "      <td>176.000000</td>\n",
              "      <td>181.000000</td>\n",
              "      <td>0.000000</td>\n",
              "    </tr>\n",
              "    <tr>\n",
              "      <th>25%</th>\n",
              "      <td>180.500000</td>\n",
              "      <td>87.000000</td>\n",
              "      <td>40.000000</td>\n",
              "      <td>70.000000</td>\n",
              "      <td>141.000000</td>\n",
              "      <td>57.000000</td>\n",
              "      <td>6.000000</td>\n",
              "      <td>146.000000</td>\n",
              "      <td>33.000000</td>\n",
              "      <td>19.000000</td>\n",
              "      <td>137.000000</td>\n",
              "      <td>167.000000</td>\n",
              "      <td>317.000000</td>\n",
              "      <td>149.000000</td>\n",
              "      <td>68.000000</td>\n",
              "      <td>2.000000</td>\n",
              "      <td>5.500000</td>\n",
              "      <td>184.000000</td>\n",
              "      <td>190.000000</td>\n",
              "      <td>0.000000</td>\n",
              "    </tr>\n",
              "    <tr>\n",
              "      <th>50%</th>\n",
              "      <td>360.000000</td>\n",
              "      <td>93.000000</td>\n",
              "      <td>44.000000</td>\n",
              "      <td>79.000000</td>\n",
              "      <td>166.000000</td>\n",
              "      <td>61.000000</td>\n",
              "      <td>8.000000</td>\n",
              "      <td>157.000000</td>\n",
              "      <td>43.000000</td>\n",
              "      <td>20.000000</td>\n",
              "      <td>146.000000</td>\n",
              "      <td>178.000000</td>\n",
              "      <td>362.000000</td>\n",
              "      <td>174.000000</td>\n",
              "      <td>72.000000</td>\n",
              "      <td>6.000000</td>\n",
              "      <td>11.000000</td>\n",
              "      <td>188.000000</td>\n",
              "      <td>196.000000</td>\n",
              "      <td>1.000000</td>\n",
              "    </tr>\n",
              "    <tr>\n",
              "      <th>75%</th>\n",
              "      <td>539.500000</td>\n",
              "      <td>99.000000</td>\n",
              "      <td>49.000000</td>\n",
              "      <td>96.000000</td>\n",
              "      <td>194.500000</td>\n",
              "      <td>65.000000</td>\n",
              "      <td>10.000000</td>\n",
              "      <td>197.500000</td>\n",
              "      <td>46.000000</td>\n",
              "      <td>23.000000</td>\n",
              "      <td>159.000000</td>\n",
              "      <td>216.000000</td>\n",
              "      <td>584.500000</td>\n",
              "      <td>198.000000</td>\n",
              "      <td>76.000000</td>\n",
              "      <td>9.000000</td>\n",
              "      <td>18.000000</td>\n",
              "      <td>193.000000</td>\n",
              "      <td>201.000000</td>\n",
              "      <td>2.000000</td>\n",
              "    </tr>\n",
              "    <tr>\n",
              "      <th>max</th>\n",
              "      <td>719.000000</td>\n",
              "      <td>119.000000</td>\n",
              "      <td>59.000000</td>\n",
              "      <td>110.000000</td>\n",
              "      <td>333.000000</td>\n",
              "      <td>138.000000</td>\n",
              "      <td>55.000000</td>\n",
              "      <td>265.000000</td>\n",
              "      <td>61.000000</td>\n",
              "      <td>29.000000</td>\n",
              "      <td>188.000000</td>\n",
              "      <td>320.000000</td>\n",
              "      <td>1018.000000</td>\n",
              "      <td>262.000000</td>\n",
              "      <td>135.000000</td>\n",
              "      <td>22.000000</td>\n",
              "      <td>41.000000</td>\n",
              "      <td>204.000000</td>\n",
              "      <td>211.000000</td>\n",
              "      <td>3.000000</td>\n",
              "    </tr>\n",
              "  </tbody>\n",
              "</table>\n",
              "</div>\n",
              "      <button class=\"colab-df-convert\" onclick=\"convertToInteractive('df-5d241727-b489-4277-9be4-f536466c45bb')\"\n",
              "              title=\"Convert this dataframe to an interactive table.\"\n",
              "              style=\"display:none;\">\n",
              "        \n",
              "  <svg xmlns=\"http://www.w3.org/2000/svg\" height=\"24px\"viewBox=\"0 0 24 24\"\n",
              "       width=\"24px\">\n",
              "    <path d=\"M0 0h24v24H0V0z\" fill=\"none\"/>\n",
              "    <path d=\"M18.56 5.44l.94 2.06.94-2.06 2.06-.94-2.06-.94-.94-2.06-.94 2.06-2.06.94zm-11 1L8.5 8.5l.94-2.06 2.06-.94-2.06-.94L8.5 2.5l-.94 2.06-2.06.94zm10 10l.94 2.06.94-2.06 2.06-.94-2.06-.94-.94-2.06-.94 2.06-2.06.94z\"/><path d=\"M17.41 7.96l-1.37-1.37c-.4-.4-.92-.59-1.43-.59-.52 0-1.04.2-1.43.59L10.3 9.45l-7.72 7.72c-.78.78-.78 2.05 0 2.83L4 21.41c.39.39.9.59 1.41.59.51 0 1.02-.2 1.41-.59l7.78-7.78 2.81-2.81c.8-.78.8-2.07 0-2.86zM5.41 20L4 18.59l7.72-7.72 1.47 1.35L5.41 20z\"/>\n",
              "  </svg>\n",
              "      </button>\n",
              "      \n",
              "  <style>\n",
              "    .colab-df-container {\n",
              "      display:flex;\n",
              "      flex-wrap:wrap;\n",
              "      gap: 12px;\n",
              "    }\n",
              "\n",
              "    .colab-df-convert {\n",
              "      background-color: #E8F0FE;\n",
              "      border: none;\n",
              "      border-radius: 50%;\n",
              "      cursor: pointer;\n",
              "      display: none;\n",
              "      fill: #1967D2;\n",
              "      height: 32px;\n",
              "      padding: 0 0 0 0;\n",
              "      width: 32px;\n",
              "    }\n",
              "\n",
              "    .colab-df-convert:hover {\n",
              "      background-color: #E2EBFA;\n",
              "      box-shadow: 0px 1px 2px rgba(60, 64, 67, 0.3), 0px 1px 3px 1px rgba(60, 64, 67, 0.15);\n",
              "      fill: #174EA6;\n",
              "    }\n",
              "\n",
              "    [theme=dark] .colab-df-convert {\n",
              "      background-color: #3B4455;\n",
              "      fill: #D2E3FC;\n",
              "    }\n",
              "\n",
              "    [theme=dark] .colab-df-convert:hover {\n",
              "      background-color: #434B5C;\n",
              "      box-shadow: 0px 1px 3px 1px rgba(0, 0, 0, 0.15);\n",
              "      filter: drop-shadow(0px 1px 2px rgba(0, 0, 0, 0.3));\n",
              "      fill: #FFFFFF;\n",
              "    }\n",
              "  </style>\n",
              "\n",
              "      <script>\n",
              "        const buttonEl =\n",
              "          document.querySelector('#df-5d241727-b489-4277-9be4-f536466c45bb button.colab-df-convert');\n",
              "        buttonEl.style.display =\n",
              "          google.colab.kernel.accessAllowed ? 'block' : 'none';\n",
              "\n",
              "        async function convertToInteractive(key) {\n",
              "          const element = document.querySelector('#df-5d241727-b489-4277-9be4-f536466c45bb');\n",
              "          const dataTable =\n",
              "            await google.colab.kernel.invokeFunction('convertToInteractive',\n",
              "                                                     [key], {});\n",
              "          if (!dataTable) return;\n",
              "\n",
              "          const docLinkHtml = 'Like what you see? Visit the ' +\n",
              "            '<a target=\"_blank\" href=https://colab.research.google.com/notebooks/data_table.ipynb>data table notebook</a>'\n",
              "            + ' to learn more about interactive tables.';\n",
              "          element.innerHTML = '';\n",
              "          dataTable['output_type'] = 'display_data';\n",
              "          await google.colab.output.renderOutput(dataTable, element);\n",
              "          const docLink = document.createElement('div');\n",
              "          docLink.innerHTML = docLinkHtml;\n",
              "          element.appendChild(docLink);\n",
              "        }\n",
              "      </script>\n",
              "    </div>\n",
              "  </div>\n",
              "  "
            ]
          },
          "metadata": {},
          "execution_count": 183
        }
      ]
    },
    {
      "cell_type": "code",
      "source": [
        "data.describe().round(2).style.background_gradient()"
      ],
      "metadata": {
        "colab": {
          "base_uri": "https://localhost:8080/",
          "height": 320
        },
        "id": "ZlQ9dZVIauwM",
        "outputId": "0aa66f93-9fa5-445a-9278-ec7efc68de08"
      },
      "execution_count": 184,
      "outputs": [
        {
          "output_type": "execute_result",
          "data": {
            "text/plain": [
              "<pandas.io.formats.style.Styler at 0x7f31375d4fd0>"
            ],
            "text/html": [
              "<style type=\"text/css\">\n",
              "#T_0380e_row0_col0, #T_0380e_row0_col1, #T_0380e_row0_col2, #T_0380e_row0_col3, #T_0380e_row0_col4, #T_0380e_row0_col5, #T_0380e_row0_col6, #T_0380e_row0_col7, #T_0380e_row0_col8, #T_0380e_row0_col9, #T_0380e_row0_col10, #T_0380e_row0_col11, #T_0380e_row0_col13, #T_0380e_row0_col14, #T_0380e_row0_col15, #T_0380e_row0_col16, #T_0380e_row0_col17, #T_0380e_row0_col18, #T_0380e_row0_col19, #T_0380e_row7_col0, #T_0380e_row7_col12 {\n",
              "  background-color: #023858;\n",
              "  color: #f1f1f1;\n",
              "}\n",
              "#T_0380e_row0_col12 {\n",
              "  background-color: #2d8abd;\n",
              "  color: #f1f1f1;\n",
              "}\n",
              "#T_0380e_row1_col0, #T_0380e_row5_col0 {\n",
              "  background-color: #73a9cf;\n",
              "  color: #f1f1f1;\n",
              "}\n",
              "#T_0380e_row1_col1, #T_0380e_row5_col1 {\n",
              "  background-color: #ede8f3;\n",
              "  color: #000000;\n",
              "}\n",
              "#T_0380e_row1_col2, #T_0380e_row3_col5, #T_0380e_row5_col2, #T_0380e_row6_col8, #T_0380e_row7_col16 {\n",
              "  background-color: #f7f0f7;\n",
              "  color: #000000;\n",
              "}\n",
              "#T_0380e_row1_col3, #T_0380e_row6_col14 {\n",
              "  background-color: #f1ebf4;\n",
              "  color: #000000;\n",
              "}\n",
              "#T_0380e_row1_col4, #T_0380e_row1_col7, #T_0380e_row4_col11 {\n",
              "  background-color: #dcdaeb;\n",
              "  color: #000000;\n",
              "}\n",
              "#T_0380e_row1_col5, #T_0380e_row4_col3, #T_0380e_row7_col8 {\n",
              "  background-color: #f4edf6;\n",
              "  color: #000000;\n",
              "}\n",
              "#T_0380e_row1_col6, #T_0380e_row1_col15, #T_0380e_row3_col12, #T_0380e_row5_col6, #T_0380e_row5_col15, #T_0380e_row6_col6 {\n",
              "  background-color: #fef6fa;\n",
              "  color: #000000;\n",
              "}\n",
              "#T_0380e_row1_col8, #T_0380e_row4_col2, #T_0380e_row5_col8 {\n",
              "  background-color: #f8f1f8;\n",
              "  color: #000000;\n",
              "}\n",
              "#T_0380e_row1_col9, #T_0380e_row3_col8, #T_0380e_row5_col9, #T_0380e_row6_col16 {\n",
              "  background-color: #fbf4f9;\n",
              "  color: #000000;\n",
              "}\n",
              "#T_0380e_row1_col10 {\n",
              "  background-color: #dedcec;\n",
              "  color: #000000;\n",
              "}\n",
              "#T_0380e_row1_col11 {\n",
              "  background-color: #d5d5e8;\n",
              "  color: #000000;\n",
              "}\n",
              "#T_0380e_row1_col12 {\n",
              "  background-color: #bcc7e1;\n",
              "  color: #000000;\n",
              "}\n",
              "#T_0380e_row1_col13, #T_0380e_row5_col11 {\n",
              "  background-color: #d9d8ea;\n",
              "  color: #000000;\n",
              "}\n",
              "#T_0380e_row1_col14, #T_0380e_row3_col1, #T_0380e_row5_col3, #T_0380e_row5_col14 {\n",
              "  background-color: #f1ebf5;\n",
              "  color: #000000;\n",
              "}\n",
              "#T_0380e_row1_col16, #T_0380e_row2_col16, #T_0380e_row5_col16, #T_0380e_row6_col15 {\n",
              "  background-color: #fdf5fa;\n",
              "  color: #000000;\n",
              "}\n",
              "#T_0380e_row1_col17, #T_0380e_row4_col18, #T_0380e_row5_col17 {\n",
              "  background-color: #ced0e6;\n",
              "  color: #000000;\n",
              "}\n",
              "#T_0380e_row1_col18, #T_0380e_row5_col18, #T_0380e_row6_col17 {\n",
              "  background-color: #cccfe5;\n",
              "  color: #000000;\n",
              "}\n",
              "#T_0380e_row1_col19, #T_0380e_row2_col1, #T_0380e_row2_col2, #T_0380e_row2_col3, #T_0380e_row2_col4, #T_0380e_row2_col5, #T_0380e_row2_col7, #T_0380e_row2_col8, #T_0380e_row2_col9, #T_0380e_row2_col10, #T_0380e_row2_col11, #T_0380e_row2_col12, #T_0380e_row2_col13, #T_0380e_row2_col14, #T_0380e_row2_col17, #T_0380e_row2_col18, #T_0380e_row2_col19, #T_0380e_row3_col0, #T_0380e_row3_col6, #T_0380e_row3_col15, #T_0380e_row3_col16, #T_0380e_row3_col19, #T_0380e_row4_col15, #T_0380e_row4_col19, #T_0380e_row5_col19, #T_0380e_row6_col19 {\n",
              "  background-color: #fff7fb;\n",
              "  color: #000000;\n",
              "}\n",
              "#T_0380e_row2_col0, #T_0380e_row7_col18 {\n",
              "  background-color: #c4cbe3;\n",
              "  color: #000000;\n",
              "}\n",
              "#T_0380e_row2_col6, #T_0380e_row2_col15, #T_0380e_row4_col6, #T_0380e_row4_col16, #T_0380e_row7_col19 {\n",
              "  background-color: #fef6fb;\n",
              "  color: #000000;\n",
              "}\n",
              "#T_0380e_row3_col2, #T_0380e_row4_col8, #T_0380e_row7_col9 {\n",
              "  background-color: #faf2f8;\n",
              "  color: #000000;\n",
              "}\n",
              "#T_0380e_row3_col3 {\n",
              "  background-color: #faf3f9;\n",
              "  color: #000000;\n",
              "}\n",
              "#T_0380e_row3_col4 {\n",
              "  background-color: #f0eaf4;\n",
              "  color: #000000;\n",
              "}\n",
              "#T_0380e_row3_col7, #T_0380e_row6_col3 {\n",
              "  background-color: #eee8f3;\n",
              "  color: #000000;\n",
              "}\n",
              "#T_0380e_row3_col9, #T_0380e_row4_col9 {\n",
              "  background-color: #fcf4fa;\n",
              "  color: #000000;\n",
              "}\n",
              "#T_0380e_row3_col10 {\n",
              "  background-color: #e7e3f0;\n",
              "  color: #000000;\n",
              "}\n",
              "#T_0380e_row3_col11 {\n",
              "  background-color: #e8e4f0;\n",
              "  color: #000000;\n",
              "}\n",
              "#T_0380e_row3_col13, #T_0380e_row4_col1 {\n",
              "  background-color: #eee9f3;\n",
              "  color: #000000;\n",
              "}\n",
              "#T_0380e_row3_col14, #T_0380e_row5_col5, #T_0380e_row7_col2, #T_0380e_row7_col6 {\n",
              "  background-color: #f4eef6;\n",
              "  color: #000000;\n",
              "}\n",
              "#T_0380e_row3_col17, #T_0380e_row6_col7, #T_0380e_row6_col13 {\n",
              "  background-color: #d2d3e7;\n",
              "  color: #000000;\n",
              "}\n",
              "#T_0380e_row3_col18 {\n",
              "  background-color: #d2d2e7;\n",
              "  color: #000000;\n",
              "}\n",
              "#T_0380e_row4_col0 {\n",
              "  background-color: #d0d1e6;\n",
              "  color: #000000;\n",
              "}\n",
              "#T_0380e_row4_col4 {\n",
              "  background-color: #e5e1ef;\n",
              "  color: #000000;\n",
              "}\n",
              "#T_0380e_row4_col5 {\n",
              "  background-color: #f5eef6;\n",
              "  color: #000000;\n",
              "}\n",
              "#T_0380e_row4_col7 {\n",
              "  background-color: #e3e0ee;\n",
              "  color: #000000;\n",
              "}\n",
              "#T_0380e_row4_col10 {\n",
              "  background-color: #e1dfed;\n",
              "  color: #000000;\n",
              "}\n",
              "#T_0380e_row4_col12, #T_0380e_row4_col13 {\n",
              "  background-color: #e2dfee;\n",
              "  color: #000000;\n",
              "}\n",
              "#T_0380e_row4_col14 {\n",
              "  background-color: #f2ecf5;\n",
              "  color: #000000;\n",
              "}\n",
              "#T_0380e_row4_col17, #T_0380e_row7_col10 {\n",
              "  background-color: #d1d2e6;\n",
              "  color: #000000;\n",
              "}\n",
              "#T_0380e_row5_col4 {\n",
              "  background-color: #dddbec;\n",
              "  color: #000000;\n",
              "}\n",
              "#T_0380e_row5_col7, #T_0380e_row7_col5 {\n",
              "  background-color: #e0dded;\n",
              "  color: #000000;\n",
              "}\n",
              "#T_0380e_row5_col10 {\n",
              "  background-color: #dfddec;\n",
              "  color: #000000;\n",
              "}\n",
              "#T_0380e_row5_col12 {\n",
              "  background-color: #d7d6e9;\n",
              "  color: #000000;\n",
              "}\n",
              "#T_0380e_row5_col13, #T_0380e_row6_col10 {\n",
              "  background-color: #dad9ea;\n",
              "  color: #000000;\n",
              "}\n",
              "#T_0380e_row6_col0 {\n",
              "  background-color: #056faf;\n",
              "  color: #f1f1f1;\n",
              "}\n",
              "#T_0380e_row6_col1 {\n",
              "  background-color: #ece7f2;\n",
              "  color: #000000;\n",
              "}\n",
              "#T_0380e_row6_col2 {\n",
              "  background-color: #f6eff7;\n",
              "  color: #000000;\n",
              "}\n",
              "#T_0380e_row6_col4 {\n",
              "  background-color: #d3d4e7;\n",
              "  color: #000000;\n",
              "}\n",
              "#T_0380e_row6_col5 {\n",
              "  background-color: #f3edf5;\n",
              "  color: #000000;\n",
              "}\n",
              "#T_0380e_row6_col9, #T_0380e_row7_col15 {\n",
              "  background-color: #fbf3f9;\n",
              "  color: #000000;\n",
              "}\n",
              "#T_0380e_row6_col11 {\n",
              "  background-color: #cacee5;\n",
              "  color: #000000;\n",
              "}\n",
              "#T_0380e_row6_col12 {\n",
              "  background-color: #79abd0;\n",
              "  color: #f1f1f1;\n",
              "}\n",
              "#T_0380e_row6_col18 {\n",
              "  background-color: #c9cee4;\n",
              "  color: #000000;\n",
              "}\n",
              "#T_0380e_row7_col1 {\n",
              "  background-color: #e6e2ef;\n",
              "  color: #000000;\n",
              "}\n",
              "#T_0380e_row7_col3 {\n",
              "  background-color: #eae6f1;\n",
              "  color: #000000;\n",
              "}\n",
              "#T_0380e_row7_col4 {\n",
              "  background-color: #8eb3d5;\n",
              "  color: #000000;\n",
              "}\n",
              "#T_0380e_row7_col7 {\n",
              "  background-color: #b3c3de;\n",
              "  color: #000000;\n",
              "}\n",
              "#T_0380e_row7_col11 {\n",
              "  background-color: #94b6d7;\n",
              "  color: #000000;\n",
              "}\n",
              "#T_0380e_row7_col13 {\n",
              "  background-color: #b4c4df;\n",
              "  color: #000000;\n",
              "}\n",
              "#T_0380e_row7_col14 {\n",
              "  background-color: #e0deed;\n",
              "  color: #000000;\n",
              "}\n",
              "#T_0380e_row7_col17 {\n",
              "  background-color: #c6cce3;\n",
              "  color: #000000;\n",
              "}\n",
              "</style>\n",
              "<table id=\"T_0380e_\" class=\"dataframe\">\n",
              "  <thead>\n",
              "    <tr>\n",
              "      <th class=\"blank level0\" >&nbsp;</th>\n",
              "      <th class=\"col_heading level0 col0\" >ID</th>\n",
              "      <th class=\"col_heading level0 col1\" >Comp</th>\n",
              "      <th class=\"col_heading level0 col2\" >Circ</th>\n",
              "      <th class=\"col_heading level0 col3\" >D.Circ</th>\n",
              "      <th class=\"col_heading level0 col4\" >Rad.Ra</th>\n",
              "      <th class=\"col_heading level0 col5\" >Pr.Axis.Ra</th>\n",
              "      <th class=\"col_heading level0 col6\" >Max.L.Ra</th>\n",
              "      <th class=\"col_heading level0 col7\" >Scat.Ra</th>\n",
              "      <th class=\"col_heading level0 col8\" >Elong</th>\n",
              "      <th class=\"col_heading level0 col9\" >Pr.Axis.Rect</th>\n",
              "      <th class=\"col_heading level0 col10\" >Max.L.Rect</th>\n",
              "      <th class=\"col_heading level0 col11\" >Sc.Var.Maxis</th>\n",
              "      <th class=\"col_heading level0 col12\" >Sc.Var.maxis</th>\n",
              "      <th class=\"col_heading level0 col13\" >Ra.Gyr</th>\n",
              "      <th class=\"col_heading level0 col14\" >Skew.Maxis</th>\n",
              "      <th class=\"col_heading level0 col15\" >Skew.maxis</th>\n",
              "      <th class=\"col_heading level0 col16\" >Kurt.maxis</th>\n",
              "      <th class=\"col_heading level0 col17\" >Kurt.Maxis</th>\n",
              "      <th class=\"col_heading level0 col18\" >Holl.Ra</th>\n",
              "      <th class=\"col_heading level0 col19\" >Class</th>\n",
              "    </tr>\n",
              "  </thead>\n",
              "  <tbody>\n",
              "    <tr>\n",
              "      <th id=\"T_0380e_level0_row0\" class=\"row_heading level0 row0\" >count</th>\n",
              "      <td id=\"T_0380e_row0_col0\" class=\"data row0 col0\" >719.000000</td>\n",
              "      <td id=\"T_0380e_row0_col1\" class=\"data row0 col1\" >719.000000</td>\n",
              "      <td id=\"T_0380e_row0_col2\" class=\"data row0 col2\" >719.000000</td>\n",
              "      <td id=\"T_0380e_row0_col3\" class=\"data row0 col3\" >719.000000</td>\n",
              "      <td id=\"T_0380e_row0_col4\" class=\"data row0 col4\" >719.000000</td>\n",
              "      <td id=\"T_0380e_row0_col5\" class=\"data row0 col5\" >719.000000</td>\n",
              "      <td id=\"T_0380e_row0_col6\" class=\"data row0 col6\" >719.000000</td>\n",
              "      <td id=\"T_0380e_row0_col7\" class=\"data row0 col7\" >719.000000</td>\n",
              "      <td id=\"T_0380e_row0_col8\" class=\"data row0 col8\" >719.000000</td>\n",
              "      <td id=\"T_0380e_row0_col9\" class=\"data row0 col9\" >719.000000</td>\n",
              "      <td id=\"T_0380e_row0_col10\" class=\"data row0 col10\" >719.000000</td>\n",
              "      <td id=\"T_0380e_row0_col11\" class=\"data row0 col11\" >719.000000</td>\n",
              "      <td id=\"T_0380e_row0_col12\" class=\"data row0 col12\" >719.000000</td>\n",
              "      <td id=\"T_0380e_row0_col13\" class=\"data row0 col13\" >719.000000</td>\n",
              "      <td id=\"T_0380e_row0_col14\" class=\"data row0 col14\" >719.000000</td>\n",
              "      <td id=\"T_0380e_row0_col15\" class=\"data row0 col15\" >719.000000</td>\n",
              "      <td id=\"T_0380e_row0_col16\" class=\"data row0 col16\" >719.000000</td>\n",
              "      <td id=\"T_0380e_row0_col17\" class=\"data row0 col17\" >719.000000</td>\n",
              "      <td id=\"T_0380e_row0_col18\" class=\"data row0 col18\" >719.000000</td>\n",
              "      <td id=\"T_0380e_row0_col19\" class=\"data row0 col19\" >719.000000</td>\n",
              "    </tr>\n",
              "    <tr>\n",
              "      <th id=\"T_0380e_level0_row1\" class=\"row_heading level0 row1\" >mean</th>\n",
              "      <td id=\"T_0380e_row1_col0\" class=\"data row1 col0\" >360.000000</td>\n",
              "      <td id=\"T_0380e_row1_col1\" class=\"data row1 col1\" >93.440000</td>\n",
              "      <td id=\"T_0380e_row1_col2\" class=\"data row1 col2\" >44.850000</td>\n",
              "      <td id=\"T_0380e_row1_col3\" class=\"data row1 col3\" >81.720000</td>\n",
              "      <td id=\"T_0380e_row1_col4\" class=\"data row1 col4\" >168.580000</td>\n",
              "      <td id=\"T_0380e_row1_col5\" class=\"data row1 col5\" >61.850000</td>\n",
              "      <td id=\"T_0380e_row1_col6\" class=\"data row1 col6\" >8.630000</td>\n",
              "      <td id=\"T_0380e_row1_col7\" class=\"data row1 col7\" >168.140000</td>\n",
              "      <td id=\"T_0380e_row1_col8\" class=\"data row1 col8\" >41.080000</td>\n",
              "      <td id=\"T_0380e_row1_col9\" class=\"data row1 col9\" >20.530000</td>\n",
              "      <td id=\"T_0380e_row1_col10\" class=\"data row1 col10\" >148.030000</td>\n",
              "      <td id=\"T_0380e_row1_col11\" class=\"data row1 col11\" >188.170000</td>\n",
              "      <td id=\"T_0380e_row1_col12\" class=\"data row1 col12\" >436.220000</td>\n",
              "      <td id=\"T_0380e_row1_col13\" class=\"data row1 col13\" >174.730000</td>\n",
              "      <td id=\"T_0380e_row1_col14\" class=\"data row1 col14\" >72.680000</td>\n",
              "      <td id=\"T_0380e_row1_col15\" class=\"data row1 col15\" >6.340000</td>\n",
              "      <td id=\"T_0380e_row1_col16\" class=\"data row1 col16\" >12.390000</td>\n",
              "      <td id=\"T_0380e_row1_col17\" class=\"data row1 col17\" >188.800000</td>\n",
              "      <td id=\"T_0380e_row1_col18\" class=\"data row1 col18\" >195.410000</td>\n",
              "      <td id=\"T_0380e_row1_col19\" class=\"data row1 col19\" >1.470000</td>\n",
              "    </tr>\n",
              "    <tr>\n",
              "      <th id=\"T_0380e_level0_row2\" class=\"row_heading level0 row2\" >std</th>\n",
              "      <td id=\"T_0380e_row2_col0\" class=\"data row2 col0\" >207.700000</td>\n",
              "      <td id=\"T_0380e_row2_col1\" class=\"data row2 col1\" >8.110000</td>\n",
              "      <td id=\"T_0380e_row2_col2\" class=\"data row2 col2\" >6.150000</td>\n",
              "      <td id=\"T_0380e_row2_col3\" class=\"data row2 col3\" >15.530000</td>\n",
              "      <td id=\"T_0380e_row2_col4\" class=\"data row2 col4\" >33.810000</td>\n",
              "      <td id=\"T_0380e_row2_col5\" class=\"data row2 col5\" >8.260000</td>\n",
              "      <td id=\"T_0380e_row2_col6\" class=\"data row2 col6\" >4.920000</td>\n",
              "      <td id=\"T_0380e_row2_col7\" class=\"data row2 col7\" >32.940000</td>\n",
              "      <td id=\"T_0380e_row2_col8\" class=\"data row2 col8\" >7.760000</td>\n",
              "      <td id=\"T_0380e_row2_col9\" class=\"data row2 col9\" >2.560000</td>\n",
              "      <td id=\"T_0380e_row2_col10\" class=\"data row2 col10\" >14.560000</td>\n",
              "      <td id=\"T_0380e_row2_col11\" class=\"data row2 col11\" >31.240000</td>\n",
              "      <td id=\"T_0380e_row2_col12\" class=\"data row2 col12\" >174.960000</td>\n",
              "      <td id=\"T_0380e_row2_col13\" class=\"data row2 col13\" >32.150000</td>\n",
              "      <td id=\"T_0380e_row2_col14\" class=\"data row2 col14\" >7.540000</td>\n",
              "      <td id=\"T_0380e_row2_col15\" class=\"data row2 col15\" >4.860000</td>\n",
              "      <td id=\"T_0380e_row2_col16\" class=\"data row2 col16\" >8.740000</td>\n",
              "      <td id=\"T_0380e_row2_col17\" class=\"data row2 col17\" >6.050000</td>\n",
              "      <td id=\"T_0380e_row2_col18\" class=\"data row2 col18\" >7.240000</td>\n",
              "      <td id=\"T_0380e_row2_col19\" class=\"data row2 col19\" >1.130000</td>\n",
              "    </tr>\n",
              "    <tr>\n",
              "      <th id=\"T_0380e_level0_row3\" class=\"row_heading level0 row3\" >min</th>\n",
              "      <td id=\"T_0380e_row3_col0\" class=\"data row3 col0\" >1.000000</td>\n",
              "      <td id=\"T_0380e_row3_col1\" class=\"data row3 col1\" >73.000000</td>\n",
              "      <td id=\"T_0380e_row3_col2\" class=\"data row3 col2\" >33.000000</td>\n",
              "      <td id=\"T_0380e_row3_col3\" class=\"data row3 col3\" >40.000000</td>\n",
              "      <td id=\"T_0380e_row3_col4\" class=\"data row3 col4\" >105.000000</td>\n",
              "      <td id=\"T_0380e_row3_col5\" class=\"data row3 col5\" >47.000000</td>\n",
              "      <td id=\"T_0380e_row3_col6\" class=\"data row3 col6\" >2.000000</td>\n",
              "      <td id=\"T_0380e_row3_col7\" class=\"data row3 col7\" >112.000000</td>\n",
              "      <td id=\"T_0380e_row3_col8\" class=\"data row3 col8\" >26.000000</td>\n",
              "      <td id=\"T_0380e_row3_col9\" class=\"data row3 col9\" >17.000000</td>\n",
              "      <td id=\"T_0380e_row3_col10\" class=\"data row3 col10\" >118.000000</td>\n",
              "      <td id=\"T_0380e_row3_col11\" class=\"data row3 col11\" >130.000000</td>\n",
              "      <td id=\"T_0380e_row3_col12\" class=\"data row3 col12\" >184.000000</td>\n",
              "      <td id=\"T_0380e_row3_col13\" class=\"data row3 col13\" >109.000000</td>\n",
              "      <td id=\"T_0380e_row3_col14\" class=\"data row3 col14\" >59.000000</td>\n",
              "      <td id=\"T_0380e_row3_col15\" class=\"data row3 col15\" >0.000000</td>\n",
              "      <td id=\"T_0380e_row3_col16\" class=\"data row3 col16\" >0.000000</td>\n",
              "      <td id=\"T_0380e_row3_col17\" class=\"data row3 col17\" >176.000000</td>\n",
              "      <td id=\"T_0380e_row3_col18\" class=\"data row3 col18\" >181.000000</td>\n",
              "      <td id=\"T_0380e_row3_col19\" class=\"data row3 col19\" >0.000000</td>\n",
              "    </tr>\n",
              "    <tr>\n",
              "      <th id=\"T_0380e_level0_row4\" class=\"row_heading level0 row4\" >25%</th>\n",
              "      <td id=\"T_0380e_row4_col0\" class=\"data row4 col0\" >180.500000</td>\n",
              "      <td id=\"T_0380e_row4_col1\" class=\"data row4 col1\" >87.000000</td>\n",
              "      <td id=\"T_0380e_row4_col2\" class=\"data row4 col2\" >40.000000</td>\n",
              "      <td id=\"T_0380e_row4_col3\" class=\"data row4 col3\" >70.000000</td>\n",
              "      <td id=\"T_0380e_row4_col4\" class=\"data row4 col4\" >141.000000</td>\n",
              "      <td id=\"T_0380e_row4_col5\" class=\"data row4 col5\" >57.000000</td>\n",
              "      <td id=\"T_0380e_row4_col6\" class=\"data row4 col6\" >6.000000</td>\n",
              "      <td id=\"T_0380e_row4_col7\" class=\"data row4 col7\" >146.000000</td>\n",
              "      <td id=\"T_0380e_row4_col8\" class=\"data row4 col8\" >33.000000</td>\n",
              "      <td id=\"T_0380e_row4_col9\" class=\"data row4 col9\" >19.000000</td>\n",
              "      <td id=\"T_0380e_row4_col10\" class=\"data row4 col10\" >137.000000</td>\n",
              "      <td id=\"T_0380e_row4_col11\" class=\"data row4 col11\" >167.000000</td>\n",
              "      <td id=\"T_0380e_row4_col12\" class=\"data row4 col12\" >317.000000</td>\n",
              "      <td id=\"T_0380e_row4_col13\" class=\"data row4 col13\" >149.000000</td>\n",
              "      <td id=\"T_0380e_row4_col14\" class=\"data row4 col14\" >68.000000</td>\n",
              "      <td id=\"T_0380e_row4_col15\" class=\"data row4 col15\" >2.000000</td>\n",
              "      <td id=\"T_0380e_row4_col16\" class=\"data row4 col16\" >5.500000</td>\n",
              "      <td id=\"T_0380e_row4_col17\" class=\"data row4 col17\" >184.000000</td>\n",
              "      <td id=\"T_0380e_row4_col18\" class=\"data row4 col18\" >190.000000</td>\n",
              "      <td id=\"T_0380e_row4_col19\" class=\"data row4 col19\" >0.000000</td>\n",
              "    </tr>\n",
              "    <tr>\n",
              "      <th id=\"T_0380e_level0_row5\" class=\"row_heading level0 row5\" >50%</th>\n",
              "      <td id=\"T_0380e_row5_col0\" class=\"data row5 col0\" >360.000000</td>\n",
              "      <td id=\"T_0380e_row5_col1\" class=\"data row5 col1\" >93.000000</td>\n",
              "      <td id=\"T_0380e_row5_col2\" class=\"data row5 col2\" >44.000000</td>\n",
              "      <td id=\"T_0380e_row5_col3\" class=\"data row5 col3\" >79.000000</td>\n",
              "      <td id=\"T_0380e_row5_col4\" class=\"data row5 col4\" >166.000000</td>\n",
              "      <td id=\"T_0380e_row5_col5\" class=\"data row5 col5\" >61.000000</td>\n",
              "      <td id=\"T_0380e_row5_col6\" class=\"data row5 col6\" >8.000000</td>\n",
              "      <td id=\"T_0380e_row5_col7\" class=\"data row5 col7\" >157.000000</td>\n",
              "      <td id=\"T_0380e_row5_col8\" class=\"data row5 col8\" >43.000000</td>\n",
              "      <td id=\"T_0380e_row5_col9\" class=\"data row5 col9\" >20.000000</td>\n",
              "      <td id=\"T_0380e_row5_col10\" class=\"data row5 col10\" >146.000000</td>\n",
              "      <td id=\"T_0380e_row5_col11\" class=\"data row5 col11\" >178.000000</td>\n",
              "      <td id=\"T_0380e_row5_col12\" class=\"data row5 col12\" >362.000000</td>\n",
              "      <td id=\"T_0380e_row5_col13\" class=\"data row5 col13\" >174.000000</td>\n",
              "      <td id=\"T_0380e_row5_col14\" class=\"data row5 col14\" >72.000000</td>\n",
              "      <td id=\"T_0380e_row5_col15\" class=\"data row5 col15\" >6.000000</td>\n",
              "      <td id=\"T_0380e_row5_col16\" class=\"data row5 col16\" >11.000000</td>\n",
              "      <td id=\"T_0380e_row5_col17\" class=\"data row5 col17\" >188.000000</td>\n",
              "      <td id=\"T_0380e_row5_col18\" class=\"data row5 col18\" >196.000000</td>\n",
              "      <td id=\"T_0380e_row5_col19\" class=\"data row5 col19\" >1.000000</td>\n",
              "    </tr>\n",
              "    <tr>\n",
              "      <th id=\"T_0380e_level0_row6\" class=\"row_heading level0 row6\" >75%</th>\n",
              "      <td id=\"T_0380e_row6_col0\" class=\"data row6 col0\" >539.500000</td>\n",
              "      <td id=\"T_0380e_row6_col1\" class=\"data row6 col1\" >99.000000</td>\n",
              "      <td id=\"T_0380e_row6_col2\" class=\"data row6 col2\" >49.000000</td>\n",
              "      <td id=\"T_0380e_row6_col3\" class=\"data row6 col3\" >96.000000</td>\n",
              "      <td id=\"T_0380e_row6_col4\" class=\"data row6 col4\" >194.500000</td>\n",
              "      <td id=\"T_0380e_row6_col5\" class=\"data row6 col5\" >65.000000</td>\n",
              "      <td id=\"T_0380e_row6_col6\" class=\"data row6 col6\" >10.000000</td>\n",
              "      <td id=\"T_0380e_row6_col7\" class=\"data row6 col7\" >197.500000</td>\n",
              "      <td id=\"T_0380e_row6_col8\" class=\"data row6 col8\" >46.000000</td>\n",
              "      <td id=\"T_0380e_row6_col9\" class=\"data row6 col9\" >23.000000</td>\n",
              "      <td id=\"T_0380e_row6_col10\" class=\"data row6 col10\" >159.000000</td>\n",
              "      <td id=\"T_0380e_row6_col11\" class=\"data row6 col11\" >216.000000</td>\n",
              "      <td id=\"T_0380e_row6_col12\" class=\"data row6 col12\" >584.500000</td>\n",
              "      <td id=\"T_0380e_row6_col13\" class=\"data row6 col13\" >198.000000</td>\n",
              "      <td id=\"T_0380e_row6_col14\" class=\"data row6 col14\" >76.000000</td>\n",
              "      <td id=\"T_0380e_row6_col15\" class=\"data row6 col15\" >9.000000</td>\n",
              "      <td id=\"T_0380e_row6_col16\" class=\"data row6 col16\" >18.000000</td>\n",
              "      <td id=\"T_0380e_row6_col17\" class=\"data row6 col17\" >193.000000</td>\n",
              "      <td id=\"T_0380e_row6_col18\" class=\"data row6 col18\" >201.000000</td>\n",
              "      <td id=\"T_0380e_row6_col19\" class=\"data row6 col19\" >2.000000</td>\n",
              "    </tr>\n",
              "    <tr>\n",
              "      <th id=\"T_0380e_level0_row7\" class=\"row_heading level0 row7\" >max</th>\n",
              "      <td id=\"T_0380e_row7_col0\" class=\"data row7 col0\" >719.000000</td>\n",
              "      <td id=\"T_0380e_row7_col1\" class=\"data row7 col1\" >119.000000</td>\n",
              "      <td id=\"T_0380e_row7_col2\" class=\"data row7 col2\" >59.000000</td>\n",
              "      <td id=\"T_0380e_row7_col3\" class=\"data row7 col3\" >110.000000</td>\n",
              "      <td id=\"T_0380e_row7_col4\" class=\"data row7 col4\" >333.000000</td>\n",
              "      <td id=\"T_0380e_row7_col5\" class=\"data row7 col5\" >138.000000</td>\n",
              "      <td id=\"T_0380e_row7_col6\" class=\"data row7 col6\" >55.000000</td>\n",
              "      <td id=\"T_0380e_row7_col7\" class=\"data row7 col7\" >265.000000</td>\n",
              "      <td id=\"T_0380e_row7_col8\" class=\"data row7 col8\" >61.000000</td>\n",
              "      <td id=\"T_0380e_row7_col9\" class=\"data row7 col9\" >29.000000</td>\n",
              "      <td id=\"T_0380e_row7_col10\" class=\"data row7 col10\" >188.000000</td>\n",
              "      <td id=\"T_0380e_row7_col11\" class=\"data row7 col11\" >320.000000</td>\n",
              "      <td id=\"T_0380e_row7_col12\" class=\"data row7 col12\" >1018.000000</td>\n",
              "      <td id=\"T_0380e_row7_col13\" class=\"data row7 col13\" >262.000000</td>\n",
              "      <td id=\"T_0380e_row7_col14\" class=\"data row7 col14\" >135.000000</td>\n",
              "      <td id=\"T_0380e_row7_col15\" class=\"data row7 col15\" >22.000000</td>\n",
              "      <td id=\"T_0380e_row7_col16\" class=\"data row7 col16\" >41.000000</td>\n",
              "      <td id=\"T_0380e_row7_col17\" class=\"data row7 col17\" >204.000000</td>\n",
              "      <td id=\"T_0380e_row7_col18\" class=\"data row7 col18\" >211.000000</td>\n",
              "      <td id=\"T_0380e_row7_col19\" class=\"data row7 col19\" >3.000000</td>\n",
              "    </tr>\n",
              "  </tbody>\n",
              "</table>\n"
            ]
          },
          "metadata": {},
          "execution_count": 184
        }
      ]
    },
    {
      "cell_type": "code",
      "source": [
        "data.dtypes"
      ],
      "metadata": {
        "colab": {
          "base_uri": "https://localhost:8080/"
        },
        "id": "GfRwNgGhei61",
        "outputId": "eeab8c03-1a72-466e-f26b-348a762ee900"
      },
      "execution_count": 185,
      "outputs": [
        {
          "output_type": "execute_result",
          "data": {
            "text/plain": [
              "ID              int64\n",
              "Comp            int64\n",
              "Circ            int64\n",
              "D.Circ          int64\n",
              "Rad.Ra          int64\n",
              "Pr.Axis.Ra      int64\n",
              "Max.L.Ra        int64\n",
              "Scat.Ra         int64\n",
              "Elong           int64\n",
              "Pr.Axis.Rect    int64\n",
              "Max.L.Rect      int64\n",
              "Sc.Var.Maxis    int64\n",
              "Sc.Var.maxis    int64\n",
              "Ra.Gyr          int64\n",
              "Skew.Maxis      int64\n",
              "Skew.maxis      int64\n",
              "Kurt.maxis      int64\n",
              "Kurt.Maxis      int64\n",
              "Holl.Ra         int64\n",
              "Class           int64\n",
              "dtype: object"
            ]
          },
          "metadata": {},
          "execution_count": 185
        }
      ]
    },
    {
      "cell_type": "code",
      "source": [
        "X=data.iloc[:, 0:-1]"
      ],
      "metadata": {
        "id": "D2tX9XZYh-Sl"
      },
      "execution_count": 186,
      "outputs": []
    },
    {
      "cell_type": "code",
      "source": [
        "y = data.iloc[:, -1]"
      ],
      "metadata": {
        "id": "ZpyfqGmGiHVk"
      },
      "execution_count": 187,
      "outputs": []
    },
    {
      "cell_type": "code",
      "source": [
        "X.head()"
      ],
      "metadata": {
        "colab": {
          "base_uri": "https://localhost:8080/",
          "height": 206
        },
        "id": "MBrb6QOZiTVz",
        "outputId": "f78bcab3-3c06-4c51-c1be-c191e0a8b08d"
      },
      "execution_count": 188,
      "outputs": [
        {
          "output_type": "execute_result",
          "data": {
            "text/plain": [
              "   ID  Comp  Circ  D.Circ  Rad.Ra  Pr.Axis.Ra  Max.L.Ra  Scat.Ra  Elong  \\\n",
              "0   1    88    39      70     166          66         7      148     44   \n",
              "1   2    85    35      64     129          57         6      116     57   \n",
              "2   3    91    41      84     141          57         9      149     45   \n",
              "3   4   102    54      98     177          56        10      219     31   \n",
              "4   5    87    39      74     152          58         6      151     44   \n",
              "\n",
              "   Pr.Axis.Rect  Max.L.Rect  Sc.Var.Maxis  Sc.Var.maxis  Ra.Gyr  Skew.Maxis  \\\n",
              "0            19         134           167           332     143          69   \n",
              "1            17         125           138           200     123          65   \n",
              "2            19         143           170           330     158          72   \n",
              "3            25         171           219           706     223          72   \n",
              "4            19         136           174           337     140          70   \n",
              "\n",
              "   Skew.maxis  Kurt.maxis  Kurt.Maxis  Holl.Ra  \n",
              "0           5          13         193      201  \n",
              "1           1          23         196      203  \n",
              "2           9          14         189      199  \n",
              "3           5          17         186      196  \n",
              "4           1          33         187      196  "
            ],
            "text/html": [
              "\n",
              "  <div id=\"df-663018a3-96be-439c-a159-4b269a6a29ae\">\n",
              "    <div class=\"colab-df-container\">\n",
              "      <div>\n",
              "<style scoped>\n",
              "    .dataframe tbody tr th:only-of-type {\n",
              "        vertical-align: middle;\n",
              "    }\n",
              "\n",
              "    .dataframe tbody tr th {\n",
              "        vertical-align: top;\n",
              "    }\n",
              "\n",
              "    .dataframe thead th {\n",
              "        text-align: right;\n",
              "    }\n",
              "</style>\n",
              "<table border=\"1\" class=\"dataframe\">\n",
              "  <thead>\n",
              "    <tr style=\"text-align: right;\">\n",
              "      <th></th>\n",
              "      <th>ID</th>\n",
              "      <th>Comp</th>\n",
              "      <th>Circ</th>\n",
              "      <th>D.Circ</th>\n",
              "      <th>Rad.Ra</th>\n",
              "      <th>Pr.Axis.Ra</th>\n",
              "      <th>Max.L.Ra</th>\n",
              "      <th>Scat.Ra</th>\n",
              "      <th>Elong</th>\n",
              "      <th>Pr.Axis.Rect</th>\n",
              "      <th>Max.L.Rect</th>\n",
              "      <th>Sc.Var.Maxis</th>\n",
              "      <th>Sc.Var.maxis</th>\n",
              "      <th>Ra.Gyr</th>\n",
              "      <th>Skew.Maxis</th>\n",
              "      <th>Skew.maxis</th>\n",
              "      <th>Kurt.maxis</th>\n",
              "      <th>Kurt.Maxis</th>\n",
              "      <th>Holl.Ra</th>\n",
              "    </tr>\n",
              "  </thead>\n",
              "  <tbody>\n",
              "    <tr>\n",
              "      <th>0</th>\n",
              "      <td>1</td>\n",
              "      <td>88</td>\n",
              "      <td>39</td>\n",
              "      <td>70</td>\n",
              "      <td>166</td>\n",
              "      <td>66</td>\n",
              "      <td>7</td>\n",
              "      <td>148</td>\n",
              "      <td>44</td>\n",
              "      <td>19</td>\n",
              "      <td>134</td>\n",
              "      <td>167</td>\n",
              "      <td>332</td>\n",
              "      <td>143</td>\n",
              "      <td>69</td>\n",
              "      <td>5</td>\n",
              "      <td>13</td>\n",
              "      <td>193</td>\n",
              "      <td>201</td>\n",
              "    </tr>\n",
              "    <tr>\n",
              "      <th>1</th>\n",
              "      <td>2</td>\n",
              "      <td>85</td>\n",
              "      <td>35</td>\n",
              "      <td>64</td>\n",
              "      <td>129</td>\n",
              "      <td>57</td>\n",
              "      <td>6</td>\n",
              "      <td>116</td>\n",
              "      <td>57</td>\n",
              "      <td>17</td>\n",
              "      <td>125</td>\n",
              "      <td>138</td>\n",
              "      <td>200</td>\n",
              "      <td>123</td>\n",
              "      <td>65</td>\n",
              "      <td>1</td>\n",
              "      <td>23</td>\n",
              "      <td>196</td>\n",
              "      <td>203</td>\n",
              "    </tr>\n",
              "    <tr>\n",
              "      <th>2</th>\n",
              "      <td>3</td>\n",
              "      <td>91</td>\n",
              "      <td>41</td>\n",
              "      <td>84</td>\n",
              "      <td>141</td>\n",
              "      <td>57</td>\n",
              "      <td>9</td>\n",
              "      <td>149</td>\n",
              "      <td>45</td>\n",
              "      <td>19</td>\n",
              "      <td>143</td>\n",
              "      <td>170</td>\n",
              "      <td>330</td>\n",
              "      <td>158</td>\n",
              "      <td>72</td>\n",
              "      <td>9</td>\n",
              "      <td>14</td>\n",
              "      <td>189</td>\n",
              "      <td>199</td>\n",
              "    </tr>\n",
              "    <tr>\n",
              "      <th>3</th>\n",
              "      <td>4</td>\n",
              "      <td>102</td>\n",
              "      <td>54</td>\n",
              "      <td>98</td>\n",
              "      <td>177</td>\n",
              "      <td>56</td>\n",
              "      <td>10</td>\n",
              "      <td>219</td>\n",
              "      <td>31</td>\n",
              "      <td>25</td>\n",
              "      <td>171</td>\n",
              "      <td>219</td>\n",
              "      <td>706</td>\n",
              "      <td>223</td>\n",
              "      <td>72</td>\n",
              "      <td>5</td>\n",
              "      <td>17</td>\n",
              "      <td>186</td>\n",
              "      <td>196</td>\n",
              "    </tr>\n",
              "    <tr>\n",
              "      <th>4</th>\n",
              "      <td>5</td>\n",
              "      <td>87</td>\n",
              "      <td>39</td>\n",
              "      <td>74</td>\n",
              "      <td>152</td>\n",
              "      <td>58</td>\n",
              "      <td>6</td>\n",
              "      <td>151</td>\n",
              "      <td>44</td>\n",
              "      <td>19</td>\n",
              "      <td>136</td>\n",
              "      <td>174</td>\n",
              "      <td>337</td>\n",
              "      <td>140</td>\n",
              "      <td>70</td>\n",
              "      <td>1</td>\n",
              "      <td>33</td>\n",
              "      <td>187</td>\n",
              "      <td>196</td>\n",
              "    </tr>\n",
              "  </tbody>\n",
              "</table>\n",
              "</div>\n",
              "      <button class=\"colab-df-convert\" onclick=\"convertToInteractive('df-663018a3-96be-439c-a159-4b269a6a29ae')\"\n",
              "              title=\"Convert this dataframe to an interactive table.\"\n",
              "              style=\"display:none;\">\n",
              "        \n",
              "  <svg xmlns=\"http://www.w3.org/2000/svg\" height=\"24px\"viewBox=\"0 0 24 24\"\n",
              "       width=\"24px\">\n",
              "    <path d=\"M0 0h24v24H0V0z\" fill=\"none\"/>\n",
              "    <path d=\"M18.56 5.44l.94 2.06.94-2.06 2.06-.94-2.06-.94-.94-2.06-.94 2.06-2.06.94zm-11 1L8.5 8.5l.94-2.06 2.06-.94-2.06-.94L8.5 2.5l-.94 2.06-2.06.94zm10 10l.94 2.06.94-2.06 2.06-.94-2.06-.94-.94-2.06-.94 2.06-2.06.94z\"/><path d=\"M17.41 7.96l-1.37-1.37c-.4-.4-.92-.59-1.43-.59-.52 0-1.04.2-1.43.59L10.3 9.45l-7.72 7.72c-.78.78-.78 2.05 0 2.83L4 21.41c.39.39.9.59 1.41.59.51 0 1.02-.2 1.41-.59l7.78-7.78 2.81-2.81c.8-.78.8-2.07 0-2.86zM5.41 20L4 18.59l7.72-7.72 1.47 1.35L5.41 20z\"/>\n",
              "  </svg>\n",
              "      </button>\n",
              "      \n",
              "  <style>\n",
              "    .colab-df-container {\n",
              "      display:flex;\n",
              "      flex-wrap:wrap;\n",
              "      gap: 12px;\n",
              "    }\n",
              "\n",
              "    .colab-df-convert {\n",
              "      background-color: #E8F0FE;\n",
              "      border: none;\n",
              "      border-radius: 50%;\n",
              "      cursor: pointer;\n",
              "      display: none;\n",
              "      fill: #1967D2;\n",
              "      height: 32px;\n",
              "      padding: 0 0 0 0;\n",
              "      width: 32px;\n",
              "    }\n",
              "\n",
              "    .colab-df-convert:hover {\n",
              "      background-color: #E2EBFA;\n",
              "      box-shadow: 0px 1px 2px rgba(60, 64, 67, 0.3), 0px 1px 3px 1px rgba(60, 64, 67, 0.15);\n",
              "      fill: #174EA6;\n",
              "    }\n",
              "\n",
              "    [theme=dark] .colab-df-convert {\n",
              "      background-color: #3B4455;\n",
              "      fill: #D2E3FC;\n",
              "    }\n",
              "\n",
              "    [theme=dark] .colab-df-convert:hover {\n",
              "      background-color: #434B5C;\n",
              "      box-shadow: 0px 1px 3px 1px rgba(0, 0, 0, 0.15);\n",
              "      filter: drop-shadow(0px 1px 2px rgba(0, 0, 0, 0.3));\n",
              "      fill: #FFFFFF;\n",
              "    }\n",
              "  </style>\n",
              "\n",
              "      <script>\n",
              "        const buttonEl =\n",
              "          document.querySelector('#df-663018a3-96be-439c-a159-4b269a6a29ae button.colab-df-convert');\n",
              "        buttonEl.style.display =\n",
              "          google.colab.kernel.accessAllowed ? 'block' : 'none';\n",
              "\n",
              "        async function convertToInteractive(key) {\n",
              "          const element = document.querySelector('#df-663018a3-96be-439c-a159-4b269a6a29ae');\n",
              "          const dataTable =\n",
              "            await google.colab.kernel.invokeFunction('convertToInteractive',\n",
              "                                                     [key], {});\n",
              "          if (!dataTable) return;\n",
              "\n",
              "          const docLinkHtml = 'Like what you see? Visit the ' +\n",
              "            '<a target=\"_blank\" href=https://colab.research.google.com/notebooks/data_table.ipynb>data table notebook</a>'\n",
              "            + ' to learn more about interactive tables.';\n",
              "          element.innerHTML = '';\n",
              "          dataTable['output_type'] = 'display_data';\n",
              "          await google.colab.output.renderOutput(dataTable, element);\n",
              "          const docLink = document.createElement('div');\n",
              "          docLink.innerHTML = docLinkHtml;\n",
              "          element.appendChild(docLink);\n",
              "        }\n",
              "      </script>\n",
              "    </div>\n",
              "  </div>\n",
              "  "
            ]
          },
          "metadata": {},
          "execution_count": 188
        }
      ]
    },
    {
      "cell_type": "code",
      "source": [
        "X.shape"
      ],
      "metadata": {
        "colab": {
          "base_uri": "https://localhost:8080/"
        },
        "id": "0KjEsuCiin0u",
        "outputId": "fc2b9467-2790-48c4-e7f2-c4871e2ad048"
      },
      "execution_count": 189,
      "outputs": [
        {
          "output_type": "execute_result",
          "data": {
            "text/plain": [
              "(719, 19)"
            ]
          },
          "metadata": {},
          "execution_count": 189
        }
      ]
    },
    {
      "cell_type": "code",
      "source": [
        "data.Circ.unique()"
      ],
      "metadata": {
        "colab": {
          "base_uri": "https://localhost:8080/"
        },
        "id": "dH53-sZSW44C",
        "outputId": "70025b35-6894-4695-fd23-ace0ca1456f9"
      },
      "execution_count": 190,
      "outputs": [
        {
          "output_type": "execute_result",
          "data": {
            "text/plain": [
              "array([39, 35, 41, 54, 46, 37, 55, 38, 40, 45, 36, 34, 52, 51, 47, 44, 53,\n",
              "       43, 57, 50, 42, 59, 48, 56, 33, 58, 49])"
            ]
          },
          "metadata": {},
          "execution_count": 190
        }
      ]
    },
    {
      "cell_type": "code",
      "source": [
        "data.Comp.unique()"
      ],
      "metadata": {
        "colab": {
          "base_uri": "https://localhost:8080/"
        },
        "id": "rPBfJWcyXGvJ",
        "outputId": "72a6a91c-f87e-4434-ed8f-82e435d59fdf"
      },
      "execution_count": 191,
      "outputs": [
        {
          "output_type": "execute_result",
          "data": {
            "text/plain": [
              "array([ 88,  85,  91, 102,  87,  95,  97,  96, 107,  86,  89,  92, 104,\n",
              "        81,  94,  93, 111,  82, 106,  99,  78,  83,  84, 100, 109,  90,\n",
              "       101,  79, 117,  98, 105, 108,  80, 103, 110, 112,  77, 115, 119,\n",
              "        73, 114,  76, 113])"
            ]
          },
          "metadata": {},
          "execution_count": 191
        }
      ]
    },
    {
      "cell_type": "code",
      "source": [
        "data['D.Circ'].unique()"
      ],
      "metadata": {
        "colab": {
          "base_uri": "https://localhost:8080/"
        },
        "id": "vbrxPwn6XaIF",
        "outputId": "0e16424f-ac80-4490-a64d-9c932afdc5f1"
      },
      "execution_count": 192,
      "outputs": [
        {
          "output_type": "execute_result",
          "data": {
            "text/plain": [
              "array([ 70,  64,  84,  98,  74,  76,  66,  89,  58,  83,  78, 109,  71,\n",
              "        53,  82, 103,  59,  68, 100, 101, 104,  63,  69,  77,  96,  92,\n",
              "        81, 105,  73,  88,  80, 107,  72, 106,  85,  65,  79,  75, 108,\n",
              "        87,  86,  54, 110,  47,  90,  40,  95,  60,  61,  93,  94, 102,\n",
              "        62,  91,  52,  44,  57,  55,  51,  49])"
            ]
          },
          "metadata": {},
          "execution_count": 192
        }
      ]
    },
    {
      "cell_type": "code",
      "source": [
        "data['Rad.Ra'].unique()"
      ],
      "metadata": {
        "colab": {
          "base_uri": "https://localhost:8080/"
        },
        "id": "ButFlC7KXjlB",
        "outputId": "fe850a87-ec7c-4c99-99e2-9cd8a6132733"
      },
      "execution_count": 193,
      "outputs": [
        {
          "output_type": "execute_result",
          "data": {
            "text/plain": [
              "array([166, 129, 141, 177, 152, 162, 151, 199, 176, 137, 154, 186, 175,\n",
              "       149, 230, 117, 213, 145, 171, 163, 134, 169, 224, 219, 208, 115,\n",
              "       127, 142, 153, 188, 194, 143, 183, 164, 225, 180, 140, 207, 133,\n",
              "       209, 147, 210, 113, 150, 206, 187, 139, 123, 132, 227, 306, 228,\n",
              "       110, 159, 170, 201, 202, 182, 189, 195, 128, 131, 155, 116, 181,\n",
              "       172, 197, 119, 173, 121, 231, 135, 220, 204, 130, 126, 111, 203,\n",
              "       161, 165, 191, 185, 179, 212, 223, 222, 125, 192, 160, 218, 148,\n",
              "       136, 211, 124, 178, 198, 193, 174, 144, 167, 122, 157, 138, 158,\n",
              "       146, 196, 168, 322, 156, 221, 190, 120, 205, 184, 214, 215, 252,\n",
              "       114, 235, 109, 234, 246, 250, 216, 200, 118, 238, 105, 217, 112,\n",
              "       333, 226])"
            ]
          },
          "metadata": {},
          "execution_count": 193
        }
      ]
    },
    {
      "cell_type": "code",
      "source": [
        "data['Pr.Axis.Ra'].unique()"
      ],
      "metadata": {
        "colab": {
          "base_uri": "https://localhost:8080/"
        },
        "id": "1_fXnNqlQhFZ",
        "outputId": "adfec5dc-eeee-4f7a-ca5c-71db7792c89f"
      },
      "execution_count": 194,
      "outputs": [
        {
          "output_type": "execute_result",
          "data": {
            "text/plain": [
              "array([ 66,  57,  56,  58,  64,  74,  59,  73,  60,  55,  67,  61,  71,\n",
              "        50,  63,  68,  51,  54,  75,  62,  70,  65, 126,  53,  69,  52,\n",
              "        97,  48,  72,  49,  47, 133, 103, 105,  76, 102, 138])"
            ]
          },
          "metadata": {},
          "execution_count": 194
        }
      ]
    },
    {
      "cell_type": "code",
      "source": [
        "data['Max.L.Ra'].unique()"
      ],
      "metadata": {
        "colab": {
          "base_uri": "https://localhost:8080/"
        },
        "id": "GA8zqGBPSG7r",
        "outputId": "e51d7082-5836-44b3-a995-b32e4dc7dc42"
      },
      "execution_count": 195,
      "outputs": [
        {
          "output_type": "execute_result",
          "data": {
            "text/plain": [
              "array([ 7,  6,  9, 10, 11,  8,  5, 12,  4, 49,  3, 13, 22, 46,  2, 48, 52,\n",
              "       25, 55, 43, 19])"
            ]
          },
          "metadata": {},
          "execution_count": 195
        }
      ]
    },
    {
      "cell_type": "code",
      "source": [
        "data['Sc.Var.Maxis'].unique()"
      ],
      "metadata": {
        "colab": {
          "base_uri": "https://localhost:8080/"
        },
        "id": "QHzXE7I0SQh7",
        "outputId": "48634cf6-f1ea-40dd-f171-87c47ca3e533"
      },
      "execution_count": 196,
      "outputs": [
        {
          "output_type": "execute_result",
          "data": {
            "text/plain": [
              "array([167, 138, 170, 219, 174, 175, 148, 188, 258, 190, 146, 185, 180,\n",
              "       168, 230, 177, 204, 227, 173, 151, 225, 222, 228, 210, 162, 155,\n",
              "       158, 165, 159, 206, 247, 153, 193, 226, 171, 214, 166, 234, 223,\n",
              "       181, 208, 169, 161, 189, 184, 172, 231, 272, 256, 136, 147, 197,\n",
              "       203, 211, 236, 186, 213, 164, 154, 156, 130, 262, 141, 137, 179,\n",
              "       217, 235, 202, 200, 176, 232, 196, 199, 182, 265, 229, 160, 149,\n",
              "       218, 152, 163, 220, 139, 221, 157, 280, 209, 195, 140, 216, 212,\n",
              "       194, 238, 183, 191, 142, 266, 143, 207, 224, 187, 215, 150, 178,\n",
              "       275, 237, 269, 285, 144, 134, 241, 240, 264, 135, 192, 145, 205,\n",
              "       267, 246, 287, 288, 320, 263, 254])"
            ]
          },
          "metadata": {},
          "execution_count": 196
        }
      ]
    },
    {
      "cell_type": "code",
      "source": [
        "data['Kurt.Maxis'].unique()"
      ],
      "metadata": {
        "colab": {
          "base_uri": "https://localhost:8080/"
        },
        "id": "_QuLKFXTkVQT",
        "outputId": "6052067b-0da4-4cbb-9f8f-46d8e2404c5b"
      },
      "execution_count": 197,
      "outputs": [
        {
          "output_type": "execute_result",
          "data": {
            "text/plain": [
              "array([193, 196, 189, 186, 187, 184, 195, 199, 198, 197, 191, 182, 180,\n",
              "       183, 190, 179, 185, 181, 204, 201, 188, 194, 192, 177, 178, 200,\n",
              "       203, 202, 176])"
            ]
          },
          "metadata": {},
          "execution_count": 197
        }
      ]
    },
    {
      "cell_type": "code",
      "source": [
        "data['Class'].unique()"
      ],
      "metadata": {
        "colab": {
          "base_uri": "https://localhost:8080/"
        },
        "id": "CAsyUlRTXrSr",
        "outputId": "44987d97-74e7-4c9e-9bf9-dac238d5ce82"
      },
      "execution_count": 198,
      "outputs": [
        {
          "output_type": "execute_result",
          "data": {
            "text/plain": [
              "array([0, 3, 1, 2])"
            ]
          },
          "metadata": {},
          "execution_count": 198
        }
      ]
    },
    {
      "cell_type": "markdown",
      "source": [
        "# **Features**"
      ],
      "metadata": {
        "id": "gyREFvErkiXb"
      }
    },
    {
      "cell_type": "markdown",
      "source": [
        "Again gather the info of the data to find the data type"
      ],
      "metadata": {
        "id": "GCHta5YHk8Gl"
      }
    },
    {
      "cell_type": "code",
      "source": [
        "data.info()"
      ],
      "metadata": {
        "colab": {
          "base_uri": "https://localhost:8080/"
        },
        "id": "MNAJPrGKkJcj",
        "outputId": "0d109f9a-4284-477b-975a-5cd26c71f16c"
      },
      "execution_count": 199,
      "outputs": [
        {
          "output_type": "stream",
          "name": "stdout",
          "text": [
            "<class 'pandas.core.frame.DataFrame'>\n",
            "RangeIndex: 719 entries, 0 to 718\n",
            "Data columns (total 20 columns):\n",
            " #   Column        Non-Null Count  Dtype\n",
            "---  ------        --------------  -----\n",
            " 0   ID            719 non-null    int64\n",
            " 1   Comp          719 non-null    int64\n",
            " 2   Circ          719 non-null    int64\n",
            " 3   D.Circ        719 non-null    int64\n",
            " 4   Rad.Ra        719 non-null    int64\n",
            " 5   Pr.Axis.Ra    719 non-null    int64\n",
            " 6   Max.L.Ra      719 non-null    int64\n",
            " 7   Scat.Ra       719 non-null    int64\n",
            " 8   Elong         719 non-null    int64\n",
            " 9   Pr.Axis.Rect  719 non-null    int64\n",
            " 10  Max.L.Rect    719 non-null    int64\n",
            " 11  Sc.Var.Maxis  719 non-null    int64\n",
            " 12  Sc.Var.maxis  719 non-null    int64\n",
            " 13  Ra.Gyr        719 non-null    int64\n",
            " 14  Skew.Maxis    719 non-null    int64\n",
            " 15  Skew.maxis    719 non-null    int64\n",
            " 16  Kurt.maxis    719 non-null    int64\n",
            " 17  Kurt.Maxis    719 non-null    int64\n",
            " 18  Holl.Ra       719 non-null    int64\n",
            " 19  Class         719 non-null    int64\n",
            "dtypes: int64(20)\n",
            "memory usage: 112.5 KB\n"
          ]
        }
      ]
    },
    {
      "cell_type": "markdown",
      "source": [
        "we don't need to change the type of features,All the features are Numerical types only"
      ],
      "metadata": {
        "id": "Mor3QF1VlrwZ"
      }
    },
    {
      "cell_type": "markdown",
      "source": [
        "# Features Relevance"
      ],
      "metadata": {
        "id": "-aLDZ7L0mMTp"
      }
    },
    {
      "cell_type": "code",
      "source": [
        "import seaborn as sns"
      ],
      "metadata": {
        "id": "9yvcgeOgmHHm"
      },
      "execution_count": 200,
      "outputs": []
    },
    {
      "cell_type": "code",
      "source": [
        "class1 = sns.stripplot( x = ('Comp'), y = ('Class'), data=data, size=6)"
      ],
      "metadata": {
        "colab": {
          "base_uri": "https://localhost:8080/",
          "height": 279
        },
        "id": "JTkt5ioQmfPs",
        "outputId": "77ca19d6-6ade-4a54-cb2a-4499819d2c53"
      },
      "execution_count": 201,
      "outputs": [
        {
          "output_type": "display_data",
          "data": {
            "text/plain": [
              "<Figure size 432x288 with 1 Axes>"
            ],
            "image/png": "[encoded data removed]"
          },
          "metadata": {
            "needs_background": "light"
          }
        }
      ]
    },
    {
      "cell_type": "markdown",
      "source": [
        "## Imbalance Check"
      ],
      "metadata": {
        "id": "EcAyemvqoLLJ"
      }
    },
    {
      "cell_type": "code",
      "source": [
        "from pandas._libs.hashtable import value_count\n",
        "#first we need to find the imbalance of the data\n",
        "\n",
        "data.Class.value_counts()"
      ],
      "metadata": {
        "colab": {
          "base_uri": "https://localhost:8080/"
        },
        "id": "SLIpOYc7nXU5",
        "outputId": "139380f7-dccf-45b7-ae16-2ee4843f814d"
      },
      "execution_count": 202,
      "outputs": [
        {
          "output_type": "execute_result",
          "data": {
            "text/plain": [
              "0    189\n",
              "1    180\n",
              "3    177\n",
              "2    173\n",
              "Name: Class, dtype: int64"
            ]
          },
          "metadata": {},
          "execution_count": 202
        }
      ]
    },
    {
      "cell_type": "markdown",
      "source": [
        "data is balanced condition only so hence don't need any balancing\n"
      ],
      "metadata": {
        "id": "d1a3UP0WvluR"
      }
    },
    {
      "cell_type": "markdown",
      "source": [
        "# X and Y split"
      ],
      "metadata": {
        "id": "aMma2Jz3v7AZ"
      }
    },
    {
      "cell_type": "code",
      "source": [
        "x = data.drop('Class',axis=1)"
      ],
      "metadata": {
        "id": "1a1YJjeNve4K"
      },
      "execution_count": 203,
      "outputs": []
    },
    {
      "cell_type": "code",
      "source": [
        "y = data['Class']"
      ],
      "metadata": {
        "id": "Rmh6qzi8wRjX"
      },
      "execution_count": 204,
      "outputs": []
    },
    {
      "cell_type": "markdown",
      "source": [
        "So here we are split the data into X and Y for train the data and test the data for the scalling the features"
      ],
      "metadata": {
        "id": "8Jk08hZZwpOG"
      }
    },
    {
      "cell_type": "markdown",
      "source": [
        "# Train and Test data spliting"
      ],
      "metadata": {
        "id": "Q607aBG8xLoZ"
      }
    },
    {
      "cell_type": "code",
      "source": [
        "from sklearn.model_selection import train_test_split                                  "
      ],
      "metadata": {
        "id": "cu4OQ-_vwXIW"
      },
      "execution_count": 205,
      "outputs": []
    },
    {
      "cell_type": "code",
      "source": [
        "X_train,X_test,y_train,y_test = train_test_split(X,y,test_size=0.3,random_state=1)"
      ],
      "metadata": {
        "id": "kleMNLQnxfQW"
      },
      "execution_count": 206,
      "outputs": []
    },
    {
      "cell_type": "code",
      "source": [
        "X_train"
      ],
      "metadata": {
        "colab": {
          "base_uri": "https://localhost:8080/",
          "height": 424
        },
        "id": "8K1GyD3GyDMY",
        "outputId": "a9020680-3cf0-495d-c646-9855bf7e5e8d"
      },
      "execution_count": 207,
      "outputs": [
        {
          "output_type": "execute_result",
          "data": {
            "text/plain": [
              "      ID  Comp  Circ  D.Circ  Rad.Ra  Pr.Axis.Ra  Max.L.Ra  Scat.Ra  Elong  \\\n",
              "529  530    85    42      64     121          55         7      149     46   \n",
              "310  311   101    53     108     184          54        12      216     31   \n",
              "635  636    85    42      66     122          54         6      148     46   \n",
              "619  620    82    44      72     150          64         7      154     44   \n",
              "550  551    93    35      72     172          62         7      149     44   \n",
              "..   ...   ...   ...     ...     ...         ...       ...      ...    ...   \n",
              "645  646   104    53     108     206          61        11      217     31   \n",
              "715  716    93    43      76     149          57         7      149     44   \n",
              "72    73    79    47      74     141          61         7      153     43   \n",
              "235  236    92    46      79     176          64         8      162     41   \n",
              "37    38    97    47      81     183          64         8      168     39   \n",
              "\n",
              "     Pr.Axis.Rect  Max.L.Rect  Sc.Var.Maxis  Sc.Var.maxis  Ra.Gyr  Skew.Maxis  \\\n",
              "529            19         146           167           323     172          85   \n",
              "310            24         172           220           685     187          68   \n",
              "635            19         141           172           317     174          88   \n",
              "619            19         144           181           350     177          80   \n",
              "550            19         124           169           334     125          62   \n",
              "..            ...         ...           ...           ...     ...         ...   \n",
              "645            24         168           226           694     209          67   \n",
              "715            19         143           172           335     176          69   \n",
              "72             19         149           175           349     199          77   \n",
              "235            20         149           183           396     178          67   \n",
              "37             20         150           193           426     182          70   \n",
              "\n",
              "     Skew.maxis  Kurt.maxis  Kurt.Maxis  Holl.Ra  \n",
              "529           1           6         179      182  \n",
              "310           4          24         190      201  \n",
              "635           6          14         180      182  \n",
              "619           0          16         183      187  \n",
              "550           5          30         203      210  \n",
              "..          ...         ...         ...      ...  \n",
              "645           0           9         188      201  \n",
              "715          14           0         189      194  \n",
              "72            6          10         183      189  \n",
              "235           2          10         191      198  \n",
              "37           11           2         192      198  \n",
              "\n",
              "[503 rows x 19 columns]"
            ],
            "text/html": [
              "\n",
              "  <div id=\"df-52b33936-ca89-4785-af6a-ed05cf9e57b6\">\n",
              "    <div class=\"colab-df-container\">\n",
              "      <div>\n",
              "<style scoped>\n",
              "    .dataframe tbody tr th:only-of-type {\n",
              "        vertical-align: middle;\n",
              "    }\n",
              "\n",
              "    .dataframe tbody tr th {\n",
              "        vertical-align: top;\n",
              "    }\n",
              "\n",
              "    .dataframe thead th {\n",
              "        text-align: right;\n",
              "    }\n",
              "</style>\n",
              "<table border=\"1\" class=\"dataframe\">\n",
              "  <thead>\n",
              "    <tr style=\"text-align: right;\">\n",
              "      <th></th>\n",
              "      <th>ID</th>\n",
              "      <th>Comp</th>\n",
              "      <th>Circ</th>\n",
              "      <th>D.Circ</th>\n",
              "      <th>Rad.Ra</th>\n",
              "      <th>Pr.Axis.Ra</th>\n",
              "      <th>Max.L.Ra</th>\n",
              "      <th>Scat.Ra</th>\n",
              "      <th>Elong</th>\n",
              "      <th>Pr.Axis.Rect</th>\n",
              "      <th>Max.L.Rect</th>\n",
              "      <th>Sc.Var.Maxis</th>\n",
              "      <th>Sc.Var.maxis</th>\n",
              "      <th>Ra.Gyr</th>\n",
              "      <th>Skew.Maxis</th>\n",
              "      <th>Skew.maxis</th>\n",
              "      <th>Kurt.maxis</th>\n",
              "      <th>Kurt.Maxis</th>\n",
              "      <th>Holl.Ra</th>\n",
              "    </tr>\n",
              "  </thead>\n",
              "  <tbody>\n",
              "    <tr>\n",
              "      <th>529</th>\n",
              "      <td>530</td>\n",
              "      <td>85</td>\n",
              "      <td>42</td>\n",
              "      <td>64</td>\n",
              "      <td>121</td>\n",
              "      <td>55</td>\n",
              "      <td>7</td>\n",
              "      <td>149</td>\n",
              "      <td>46</td>\n",
              "      <td>19</td>\n",
              "      <td>146</td>\n",
              "      <td>167</td>\n",
              "      <td>323</td>\n",
              "      <td>172</td>\n",
              "      <td>85</td>\n",
              "      <td>1</td>\n",
              "      <td>6</td>\n",
              "      <td>179</td>\n",
              "      <td>182</td>\n",
              "    </tr>\n",
              "    <tr>\n",
              "      <th>310</th>\n",
              "      <td>311</td>\n",
              "      <td>101</td>\n",
              "      <td>53</td>\n",
              "      <td>108</td>\n",
              "      <td>184</td>\n",
              "      <td>54</td>\n",
              "      <td>12</td>\n",
              "      <td>216</td>\n",
              "      <td>31</td>\n",
              "      <td>24</td>\n",
              "      <td>172</td>\n",
              "      <td>220</td>\n",
              "      <td>685</td>\n",
              "      <td>187</td>\n",
              "      <td>68</td>\n",
              "      <td>4</td>\n",
              "      <td>24</td>\n",
              "      <td>190</td>\n",
              "      <td>201</td>\n",
              "    </tr>\n",
              "    <tr>\n",
              "      <th>635</th>\n",
              "      <td>636</td>\n",
              "      <td>85</td>\n",
              "      <td>42</td>\n",
              "      <td>66</td>\n",
              "      <td>122</td>\n",
              "      <td>54</td>\n",
              "      <td>6</td>\n",
              "      <td>148</td>\n",
              "      <td>46</td>\n",
              "      <td>19</td>\n",
              "      <td>141</td>\n",
              "      <td>172</td>\n",
              "      <td>317</td>\n",
              "      <td>174</td>\n",
              "      <td>88</td>\n",
              "      <td>6</td>\n",
              "      <td>14</td>\n",
              "      <td>180</td>\n",
              "      <td>182</td>\n",
              "    </tr>\n",
              "    <tr>\n",
              "      <th>619</th>\n",
              "      <td>620</td>\n",
              "      <td>82</td>\n",
              "      <td>44</td>\n",
              "      <td>72</td>\n",
              "      <td>150</td>\n",
              "      <td>64</td>\n",
              "      <td>7</td>\n",
              "      <td>154</td>\n",
              "      <td>44</td>\n",
              "      <td>19</td>\n",
              "      <td>144</td>\n",
              "      <td>181</td>\n",
              "      <td>350</td>\n",
              "      <td>177</td>\n",
              "      <td>80</td>\n",
              "      <td>0</td>\n",
              "      <td>16</td>\n",
              "      <td>183</td>\n",
              "      <td>187</td>\n",
              "    </tr>\n",
              "    <tr>\n",
              "      <th>550</th>\n",
              "      <td>551</td>\n",
              "      <td>93</td>\n",
              "      <td>35</td>\n",
              "      <td>72</td>\n",
              "      <td>172</td>\n",
              "      <td>62</td>\n",
              "      <td>7</td>\n",
              "      <td>149</td>\n",
              "      <td>44</td>\n",
              "      <td>19</td>\n",
              "      <td>124</td>\n",
              "      <td>169</td>\n",
              "      <td>334</td>\n",
              "      <td>125</td>\n",
              "      <td>62</td>\n",
              "      <td>5</td>\n",
              "      <td>30</td>\n",
              "      <td>203</td>\n",
              "      <td>210</td>\n",
              "    </tr>\n",
              "    <tr>\n",
              "      <th>...</th>\n",
              "      <td>...</td>\n",
              "      <td>...</td>\n",
              "      <td>...</td>\n",
              "      <td>...</td>\n",
              "      <td>...</td>\n",
              "      <td>...</td>\n",
              "      <td>...</td>\n",
              "      <td>...</td>\n",
              "      <td>...</td>\n",
              "      <td>...</td>\n",
              "      <td>...</td>\n",
              "      <td>...</td>\n",
              "      <td>...</td>\n",
              "      <td>...</td>\n",
              "      <td>...</td>\n",
              "      <td>...</td>\n",
              "      <td>...</td>\n",
              "      <td>...</td>\n",
              "      <td>...</td>\n",
              "    </tr>\n",
              "    <tr>\n",
              "      <th>645</th>\n",
              "      <td>646</td>\n",
              "      <td>104</td>\n",
              "      <td>53</td>\n",
              "      <td>108</td>\n",
              "      <td>206</td>\n",
              "      <td>61</td>\n",
              "      <td>11</td>\n",
              "      <td>217</td>\n",
              "      <td>31</td>\n",
              "      <td>24</td>\n",
              "      <td>168</td>\n",
              "      <td>226</td>\n",
              "      <td>694</td>\n",
              "      <td>209</td>\n",
              "      <td>67</td>\n",
              "      <td>0</td>\n",
              "      <td>9</td>\n",
              "      <td>188</td>\n",
              "      <td>201</td>\n",
              "    </tr>\n",
              "    <tr>\n",
              "      <th>715</th>\n",
              "      <td>716</td>\n",
              "      <td>93</td>\n",
              "      <td>43</td>\n",
              "      <td>76</td>\n",
              "      <td>149</td>\n",
              "      <td>57</td>\n",
              "      <td>7</td>\n",
              "      <td>149</td>\n",
              "      <td>44</td>\n",
              "      <td>19</td>\n",
              "      <td>143</td>\n",
              "      <td>172</td>\n",
              "      <td>335</td>\n",
              "      <td>176</td>\n",
              "      <td>69</td>\n",
              "      <td>14</td>\n",
              "      <td>0</td>\n",
              "      <td>189</td>\n",
              "      <td>194</td>\n",
              "    </tr>\n",
              "    <tr>\n",
              "      <th>72</th>\n",
              "      <td>73</td>\n",
              "      <td>79</td>\n",
              "      <td>47</td>\n",
              "      <td>74</td>\n",
              "      <td>141</td>\n",
              "      <td>61</td>\n",
              "      <td>7</td>\n",
              "      <td>153</td>\n",
              "      <td>43</td>\n",
              "      <td>19</td>\n",
              "      <td>149</td>\n",
              "      <td>175</td>\n",
              "      <td>349</td>\n",
              "      <td>199</td>\n",
              "      <td>77</td>\n",
              "      <td>6</td>\n",
              "      <td>10</td>\n",
              "      <td>183</td>\n",
              "      <td>189</td>\n",
              "    </tr>\n",
              "    <tr>\n",
              "      <th>235</th>\n",
              "      <td>236</td>\n",
              "      <td>92</td>\n",
              "      <td>46</td>\n",
              "      <td>79</td>\n",
              "      <td>176</td>\n",
              "      <td>64</td>\n",
              "      <td>8</td>\n",
              "      <td>162</td>\n",
              "      <td>41</td>\n",
              "      <td>20</td>\n",
              "      <td>149</td>\n",
              "      <td>183</td>\n",
              "      <td>396</td>\n",
              "      <td>178</td>\n",
              "      <td>67</td>\n",
              "      <td>2</td>\n",
              "      <td>10</td>\n",
              "      <td>191</td>\n",
              "      <td>198</td>\n",
              "    </tr>\n",
              "    <tr>\n",
              "      <th>37</th>\n",
              "      <td>38</td>\n",
              "      <td>97</td>\n",
              "      <td>47</td>\n",
              "      <td>81</td>\n",
              "      <td>183</td>\n",
              "      <td>64</td>\n",
              "      <td>8</td>\n",
              "      <td>168</td>\n",
              "      <td>39</td>\n",
              "      <td>20</td>\n",
              "      <td>150</td>\n",
              "      <td>193</td>\n",
              "      <td>426</td>\n",
              "      <td>182</td>\n",
              "      <td>70</td>\n",
              "      <td>11</td>\n",
              "      <td>2</td>\n",
              "      <td>192</td>\n",
              "      <td>198</td>\n",
              "    </tr>\n",
              "  </tbody>\n",
              "</table>\n",
              "<p>503 rows × 19 columns</p>\n",
              "</div>\n",
              "      <button class=\"colab-df-convert\" onclick=\"convertToInteractive('df-52b33936-ca89-4785-af6a-ed05cf9e57b6')\"\n",
              "              title=\"Convert this dataframe to an interactive table.\"\n",
              "              style=\"display:none;\">\n",
              "        \n",
              "  <svg xmlns=\"http://www.w3.org/2000/svg\" height=\"24px\"viewBox=\"0 0 24 24\"\n",
              "       width=\"24px\">\n",
              "    <path d=\"M0 0h24v24H0V0z\" fill=\"none\"/>\n",
              "    <path d=\"M18.56 5.44l.94 2.06.94-2.06 2.06-.94-2.06-.94-.94-2.06-.94 2.06-2.06.94zm-11 1L8.5 8.5l.94-2.06 2.06-.94-2.06-.94L8.5 2.5l-.94 2.06-2.06.94zm10 10l.94 2.06.94-2.06 2.06-.94-2.06-.94-.94-2.06-.94 2.06-2.06.94z\"/><path d=\"M17.41 7.96l-1.37-1.37c-.4-.4-.92-.59-1.43-.59-.52 0-1.04.2-1.43.59L10.3 9.45l-7.72 7.72c-.78.78-.78 2.05 0 2.83L4 21.41c.39.39.9.59 1.41.59.51 0 1.02-.2 1.41-.59l7.78-7.78 2.81-2.81c.8-.78.8-2.07 0-2.86zM5.41 20L4 18.59l7.72-7.72 1.47 1.35L5.41 20z\"/>\n",
              "  </svg>\n",
              "      </button>\n",
              "      \n",
              "  <style>\n",
              "    .colab-df-container {\n",
              "      display:flex;\n",
              "      flex-wrap:wrap;\n",
              "      gap: 12px;\n",
              "    }\n",
              "\n",
              "    .colab-df-convert {\n",
              "      background-color: #E8F0FE;\n",
              "      border: none;\n",
              "      border-radius: 50%;\n",
              "      cursor: pointer;\n",
              "      display: none;\n",
              "      fill: #1967D2;\n",
              "      height: 32px;\n",
              "      padding: 0 0 0 0;\n",
              "      width: 32px;\n",
              "    }\n",
              "\n",
              "    .colab-df-convert:hover {\n",
              "      background-color: #E2EBFA;\n",
              "      box-shadow: 0px 1px 2px rgba(60, 64, 67, 0.3), 0px 1px 3px 1px rgba(60, 64, 67, 0.15);\n",
              "      fill: #174EA6;\n",
              "    }\n",
              "\n",
              "    [theme=dark] .colab-df-convert {\n",
              "      background-color: #3B4455;\n",
              "      fill: #D2E3FC;\n",
              "    }\n",
              "\n",
              "    [theme=dark] .colab-df-convert:hover {\n",
              "      background-color: #434B5C;\n",
              "      box-shadow: 0px 1px 3px 1px rgba(0, 0, 0, 0.15);\n",
              "      filter: drop-shadow(0px 1px 2px rgba(0, 0, 0, 0.3));\n",
              "      fill: #FFFFFF;\n",
              "    }\n",
              "  </style>\n",
              "\n",
              "      <script>\n",
              "        const buttonEl =\n",
              "          document.querySelector('#df-52b33936-ca89-4785-af6a-ed05cf9e57b6 button.colab-df-convert');\n",
              "        buttonEl.style.display =\n",
              "          google.colab.kernel.accessAllowed ? 'block' : 'none';\n",
              "\n",
              "        async function convertToInteractive(key) {\n",
              "          const element = document.querySelector('#df-52b33936-ca89-4785-af6a-ed05cf9e57b6');\n",
              "          const dataTable =\n",
              "            await google.colab.kernel.invokeFunction('convertToInteractive',\n",
              "                                                     [key], {});\n",
              "          if (!dataTable) return;\n",
              "\n",
              "          const docLinkHtml = 'Like what you see? Visit the ' +\n",
              "            '<a target=\"_blank\" href=https://colab.research.google.com/notebooks/data_table.ipynb>data table notebook</a>'\n",
              "            + ' to learn more about interactive tables.';\n",
              "          element.innerHTML = '';\n",
              "          dataTable['output_type'] = 'display_data';\n",
              "          await google.colab.output.renderOutput(dataTable, element);\n",
              "          const docLink = document.createElement('div');\n",
              "          docLink.innerHTML = docLinkHtml;\n",
              "          element.appendChild(docLink);\n",
              "        }\n",
              "      </script>\n",
              "    </div>\n",
              "  </div>\n",
              "  "
            ]
          },
          "metadata": {},
          "execution_count": 207
        }
      ]
    },
    {
      "cell_type": "code",
      "source": [
        "X_test"
      ],
      "metadata": {
        "colab": {
          "base_uri": "https://localhost:8080/",
          "height": 424
        },
        "id": "unGvOqoFyGI8",
        "outputId": "eb591b06-5034-4fda-8b34-3607a98a2374"
      },
      "execution_count": 208,
      "outputs": [
        {
          "output_type": "execute_result",
          "data": {
            "text/plain": [
              "      ID  Comp  Circ  D.Circ  Rad.Ra  Pr.Axis.Ra  Max.L.Ra  Scat.Ra  Elong  \\\n",
              "59    60    93    36      63     139          57         8      132     50   \n",
              "60    61   111    50     103     199          60        11      211     31   \n",
              "214  215    83    44      68     144          61         8      147     45   \n",
              "636  637    94    38      88     179          60         7      170     39   \n",
              "8      9   107    55      98     199          59         7      240     27   \n",
              "..   ...   ...   ...     ...     ...         ...       ...      ...    ...   \n",
              "354  355   100    36      73     199          73         6      162     40   \n",
              "584  585    87    46      71     159          66         6      151     44   \n",
              "29    30    83    39      69     127          54         5      135     49   \n",
              "587  588    93    37      76     183          63         8      164     40   \n",
              "706  707   104    52     101     206          62        10      198     33   \n",
              "\n",
              "     Pr.Axis.Rect  Max.L.Rect  Sc.Var.Maxis  Sc.Var.maxis  Ra.Gyr  Skew.Maxis  \\\n",
              "59             18         136           158           260     121          67   \n",
              "60             24         156           223           663     188          68   \n",
              "214            19         143           170           325     180          74   \n",
              "636            21         131           188           435     144          66   \n",
              "8              26         168           258           866     245          80   \n",
              "..            ...         ...           ...           ...     ...         ...   \n",
              "354            20         127           189           401     125          72   \n",
              "584            19         146           175           343     189          73   \n",
              "29             18         131           155           274     162          69   \n",
              "587            20         134           191           405     139          67   \n",
              "706            23         161           207           587     204          64   \n",
              "\n",
              "     Skew.maxis  Kurt.maxis  Kurt.Maxis  Holl.Ra  \n",
              "59            3          27         193      201  \n",
              "60            9           9         190      200  \n",
              "214           1           1         185      191  \n",
              "636           2          28         195      204  \n",
              "8             3           1         186      184  \n",
              "..          ...         ...         ...      ...  \n",
              "354           6          19         200      204  \n",
              "584           2           0         186      190  \n",
              "29           16           6         187      190  \n",
              "587           4           7         192      197  \n",
              "706           2           5         195      204  \n",
              "\n",
              "[216 rows x 19 columns]"
            ],
            "text/html": [
              "\n",
              "  <div id=\"df-ca44f793-6080-4078-98e6-bdc377a168c0\">\n",
              "    <div class=\"colab-df-container\">\n",
              "      <div>\n",
              "<style scoped>\n",
              "    .dataframe tbody tr th:only-of-type {\n",
              "        vertical-align: middle;\n",
              "    }\n",
              "\n",
              "    .dataframe tbody tr th {\n",
              "        vertical-align: top;\n",
              "    }\n",
              "\n",
              "    .dataframe thead th {\n",
              "        text-align: right;\n",
              "    }\n",
              "</style>\n",
              "<table border=\"1\" class=\"dataframe\">\n",
              "  <thead>\n",
              "    <tr style=\"text-align: right;\">\n",
              "      <th></th>\n",
              "      <th>ID</th>\n",
              "      <th>Comp</th>\n",
              "      <th>Circ</th>\n",
              "      <th>D.Circ</th>\n",
              "      <th>Rad.Ra</th>\n",
              "      <th>Pr.Axis.Ra</th>\n",
              "      <th>Max.L.Ra</th>\n",
              "      <th>Scat.Ra</th>\n",
              "      <th>Elong</th>\n",
              "      <th>Pr.Axis.Rect</th>\n",
              "      <th>Max.L.Rect</th>\n",
              "      <th>Sc.Var.Maxis</th>\n",
              "      <th>Sc.Var.maxis</th>\n",
              "      <th>Ra.Gyr</th>\n",
              "      <th>Skew.Maxis</th>\n",
              "      <th>Skew.maxis</th>\n",
              "      <th>Kurt.maxis</th>\n",
              "      <th>Kurt.Maxis</th>\n",
              "      <th>Holl.Ra</th>\n",
              "    </tr>\n",
              "  </thead>\n",
              "  <tbody>\n",
              "    <tr>\n",
              "      <th>59</th>\n",
              "      <td>60</td>\n",
              "      <td>93</td>\n",
              "      <td>36</td>\n",
              "      <td>63</td>\n",
              "      <td>139</td>\n",
              "      <td>57</td>\n",
              "      <td>8</td>\n",
              "      <td>132</td>\n",
              "      <td>50</td>\n",
              "      <td>18</td>\n",
              "      <td>136</td>\n",
              "      <td>158</td>\n",
              "      <td>260</td>\n",
              "      <td>121</td>\n",
              "      <td>67</td>\n",
              "      <td>3</td>\n",
              "      <td>27</td>\n",
              "      <td>193</td>\n",
              "      <td>201</td>\n",
              "    </tr>\n",
              "    <tr>\n",
              "      <th>60</th>\n",
              "      <td>61</td>\n",
              "      <td>111</td>\n",
              "      <td>50</td>\n",
              "      <td>103</td>\n",
              "      <td>199</td>\n",
              "      <td>60</td>\n",
              "      <td>11</td>\n",
              "      <td>211</td>\n",
              "      <td>31</td>\n",
              "      <td>24</td>\n",
              "      <td>156</td>\n",
              "      <td>223</td>\n",
              "      <td>663</td>\n",
              "      <td>188</td>\n",
              "      <td>68</td>\n",
              "      <td>9</td>\n",
              "      <td>9</td>\n",
              "      <td>190</td>\n",
              "      <td>200</td>\n",
              "    </tr>\n",
              "    <tr>\n",
              "      <th>214</th>\n",
              "      <td>215</td>\n",
              "      <td>83</td>\n",
              "      <td>44</td>\n",
              "      <td>68</td>\n",
              "      <td>144</td>\n",
              "      <td>61</td>\n",
              "      <td>8</td>\n",
              "      <td>147</td>\n",
              "      <td>45</td>\n",
              "      <td>19</td>\n",
              "      <td>143</td>\n",
              "      <td>170</td>\n",
              "      <td>325</td>\n",
              "      <td>180</td>\n",
              "      <td>74</td>\n",
              "      <td>1</td>\n",
              "      <td>1</td>\n",
              "      <td>185</td>\n",
              "      <td>191</td>\n",
              "    </tr>\n",
              "    <tr>\n",
              "      <th>636</th>\n",
              "      <td>637</td>\n",
              "      <td>94</td>\n",
              "      <td>38</td>\n",
              "      <td>88</td>\n",
              "      <td>179</td>\n",
              "      <td>60</td>\n",
              "      <td>7</td>\n",
              "      <td>170</td>\n",
              "      <td>39</td>\n",
              "      <td>21</td>\n",
              "      <td>131</td>\n",
              "      <td>188</td>\n",
              "      <td>435</td>\n",
              "      <td>144</td>\n",
              "      <td>66</td>\n",
              "      <td>2</td>\n",
              "      <td>28</td>\n",
              "      <td>195</td>\n",
              "      <td>204</td>\n",
              "    </tr>\n",
              "    <tr>\n",
              "      <th>8</th>\n",
              "      <td>9</td>\n",
              "      <td>107</td>\n",
              "      <td>55</td>\n",
              "      <td>98</td>\n",
              "      <td>199</td>\n",
              "      <td>59</td>\n",
              "      <td>7</td>\n",
              "      <td>240</td>\n",
              "      <td>27</td>\n",
              "      <td>26</td>\n",
              "      <td>168</td>\n",
              "      <td>258</td>\n",
              "      <td>866</td>\n",
              "      <td>245</td>\n",
              "      <td>80</td>\n",
              "      <td>3</td>\n",
              "      <td>1</td>\n",
              "      <td>186</td>\n",
              "      <td>184</td>\n",
              "    </tr>\n",
              "    <tr>\n",
              "      <th>...</th>\n",
              "      <td>...</td>\n",
              "      <td>...</td>\n",
              "      <td>...</td>\n",
              "      <td>...</td>\n",
              "      <td>...</td>\n",
              "      <td>...</td>\n",
              "      <td>...</td>\n",
              "      <td>...</td>\n",
              "      <td>...</td>\n",
              "      <td>...</td>\n",
              "      <td>...</td>\n",
              "      <td>...</td>\n",
              "      <td>...</td>\n",
              "      <td>...</td>\n",
              "      <td>...</td>\n",
              "      <td>...</td>\n",
              "      <td>...</td>\n",
              "      <td>...</td>\n",
              "      <td>...</td>\n",
              "    </tr>\n",
              "    <tr>\n",
              "      <th>354</th>\n",
              "      <td>355</td>\n",
              "      <td>100</td>\n",
              "      <td>36</td>\n",
              "      <td>73</td>\n",
              "      <td>199</td>\n",
              "      <td>73</td>\n",
              "      <td>6</td>\n",
              "      <td>162</td>\n",
              "      <td>40</td>\n",
              "      <td>20</td>\n",
              "      <td>127</td>\n",
              "      <td>189</td>\n",
              "      <td>401</td>\n",
              "      <td>125</td>\n",
              "      <td>72</td>\n",
              "      <td>6</td>\n",
              "      <td>19</td>\n",
              "      <td>200</td>\n",
              "      <td>204</td>\n",
              "    </tr>\n",
              "    <tr>\n",
              "      <th>584</th>\n",
              "      <td>585</td>\n",
              "      <td>87</td>\n",
              "      <td>46</td>\n",
              "      <td>71</td>\n",
              "      <td>159</td>\n",
              "      <td>66</td>\n",
              "      <td>6</td>\n",
              "      <td>151</td>\n",
              "      <td>44</td>\n",
              "      <td>19</td>\n",
              "      <td>146</td>\n",
              "      <td>175</td>\n",
              "      <td>343</td>\n",
              "      <td>189</td>\n",
              "      <td>73</td>\n",
              "      <td>2</td>\n",
              "      <td>0</td>\n",
              "      <td>186</td>\n",
              "      <td>190</td>\n",
              "    </tr>\n",
              "    <tr>\n",
              "      <th>29</th>\n",
              "      <td>30</td>\n",
              "      <td>83</td>\n",
              "      <td>39</td>\n",
              "      <td>69</td>\n",
              "      <td>127</td>\n",
              "      <td>54</td>\n",
              "      <td>5</td>\n",
              "      <td>135</td>\n",
              "      <td>49</td>\n",
              "      <td>18</td>\n",
              "      <td>131</td>\n",
              "      <td>155</td>\n",
              "      <td>274</td>\n",
              "      <td>162</td>\n",
              "      <td>69</td>\n",
              "      <td>16</td>\n",
              "      <td>6</td>\n",
              "      <td>187</td>\n",
              "      <td>190</td>\n",
              "    </tr>\n",
              "    <tr>\n",
              "      <th>587</th>\n",
              "      <td>588</td>\n",
              "      <td>93</td>\n",
              "      <td>37</td>\n",
              "      <td>76</td>\n",
              "      <td>183</td>\n",
              "      <td>63</td>\n",
              "      <td>8</td>\n",
              "      <td>164</td>\n",
              "      <td>40</td>\n",
              "      <td>20</td>\n",
              "      <td>134</td>\n",
              "      <td>191</td>\n",
              "      <td>405</td>\n",
              "      <td>139</td>\n",
              "      <td>67</td>\n",
              "      <td>4</td>\n",
              "      <td>7</td>\n",
              "      <td>192</td>\n",
              "      <td>197</td>\n",
              "    </tr>\n",
              "    <tr>\n",
              "      <th>706</th>\n",
              "      <td>707</td>\n",
              "      <td>104</td>\n",
              "      <td>52</td>\n",
              "      <td>101</td>\n",
              "      <td>206</td>\n",
              "      <td>62</td>\n",
              "      <td>10</td>\n",
              "      <td>198</td>\n",
              "      <td>33</td>\n",
              "      <td>23</td>\n",
              "      <td>161</td>\n",
              "      <td>207</td>\n",
              "      <td>587</td>\n",
              "      <td>204</td>\n",
              "      <td>64</td>\n",
              "      <td>2</td>\n",
              "      <td>5</td>\n",
              "      <td>195</td>\n",
              "      <td>204</td>\n",
              "    </tr>\n",
              "  </tbody>\n",
              "</table>\n",
              "<p>216 rows × 19 columns</p>\n",
              "</div>\n",
              "      <button class=\"colab-df-convert\" onclick=\"convertToInteractive('df-ca44f793-6080-4078-98e6-bdc377a168c0')\"\n",
              "              title=\"Convert this dataframe to an interactive table.\"\n",
              "              style=\"display:none;\">\n",
              "        \n",
              "  <svg xmlns=\"http://www.w3.org/2000/svg\" height=\"24px\"viewBox=\"0 0 24 24\"\n",
              "       width=\"24px\">\n",
              "    <path d=\"M0 0h24v24H0V0z\" fill=\"none\"/>\n",
              "    <path d=\"M18.56 5.44l.94 2.06.94-2.06 2.06-.94-2.06-.94-.94-2.06-.94 2.06-2.06.94zm-11 1L8.5 8.5l.94-2.06 2.06-.94-2.06-.94L8.5 2.5l-.94 2.06-2.06.94zm10 10l.94 2.06.94-2.06 2.06-.94-2.06-.94-.94-2.06-.94 2.06-2.06.94z\"/><path d=\"M17.41 7.96l-1.37-1.37c-.4-.4-.92-.59-1.43-.59-.52 0-1.04.2-1.43.59L10.3 9.45l-7.72 7.72c-.78.78-.78 2.05 0 2.83L4 21.41c.39.39.9.59 1.41.59.51 0 1.02-.2 1.41-.59l7.78-7.78 2.81-2.81c.8-.78.8-2.07 0-2.86zM5.41 20L4 18.59l7.72-7.72 1.47 1.35L5.41 20z\"/>\n",
              "  </svg>\n",
              "      </button>\n",
              "      \n",
              "  <style>\n",
              "    .colab-df-container {\n",
              "      display:flex;\n",
              "      flex-wrap:wrap;\n",
              "      gap: 12px;\n",
              "    }\n",
              "\n",
              "    .colab-df-convert {\n",
              "      background-color: #E8F0FE;\n",
              "      border: none;\n",
              "      border-radius: 50%;\n",
              "      cursor: pointer;\n",
              "      display: none;\n",
              "      fill: #1967D2;\n",
              "      height: 32px;\n",
              "      padding: 0 0 0 0;\n",
              "      width: 32px;\n",
              "    }\n",
              "\n",
              "    .colab-df-convert:hover {\n",
              "      background-color: #E2EBFA;\n",
              "      box-shadow: 0px 1px 2px rgba(60, 64, 67, 0.3), 0px 1px 3px 1px rgba(60, 64, 67, 0.15);\n",
              "      fill: #174EA6;\n",
              "    }\n",
              "\n",
              "    [theme=dark] .colab-df-convert {\n",
              "      background-color: #3B4455;\n",
              "      fill: #D2E3FC;\n",
              "    }\n",
              "\n",
              "    [theme=dark] .colab-df-convert:hover {\n",
              "      background-color: #434B5C;\n",
              "      box-shadow: 0px 1px 3px 1px rgba(0, 0, 0, 0.15);\n",
              "      filter: drop-shadow(0px 1px 2px rgba(0, 0, 0, 0.3));\n",
              "      fill: #FFFFFF;\n",
              "    }\n",
              "  </style>\n",
              "\n",
              "      <script>\n",
              "        const buttonEl =\n",
              "          document.querySelector('#df-ca44f793-6080-4078-98e6-bdc377a168c0 button.colab-df-convert');\n",
              "        buttonEl.style.display =\n",
              "          google.colab.kernel.accessAllowed ? 'block' : 'none';\n",
              "\n",
              "        async function convertToInteractive(key) {\n",
              "          const element = document.querySelector('#df-ca44f793-6080-4078-98e6-bdc377a168c0');\n",
              "          const dataTable =\n",
              "            await google.colab.kernel.invokeFunction('convertToInteractive',\n",
              "                                                     [key], {});\n",
              "          if (!dataTable) return;\n",
              "\n",
              "          const docLinkHtml = 'Like what you see? Visit the ' +\n",
              "            '<a target=\"_blank\" href=https://colab.research.google.com/notebooks/data_table.ipynb>data table notebook</a>'\n",
              "            + ' to learn more about interactive tables.';\n",
              "          element.innerHTML = '';\n",
              "          dataTable['output_type'] = 'display_data';\n",
              "          await google.colab.output.renderOutput(dataTable, element);\n",
              "          const docLink = document.createElement('div');\n",
              "          docLink.innerHTML = docLinkHtml;\n",
              "          element.appendChild(docLink);\n",
              "        }\n",
              "      </script>\n",
              "    </div>\n",
              "  </div>\n",
              "  "
            ]
          },
          "metadata": {},
          "execution_count": 208
        }
      ]
    },
    {
      "cell_type": "code",
      "source": [
        "y_train"
      ],
      "metadata": {
        "colab": {
          "base_uri": "https://localhost:8080/"
        },
        "id": "OKq8qkQsyJqm",
        "outputId": "e1663874-13e1-4c0d-cc12-58f022099e11"
      },
      "execution_count": 209,
      "outputs": [
        {
          "output_type": "execute_result",
          "data": {
            "text/plain": [
              "529    0\n",
              "310    1\n",
              "635    0\n",
              "619    0\n",
              "550    1\n",
              "      ..\n",
              "645    2\n",
              "715    2\n",
              "72     0\n",
              "235    1\n",
              "37     1\n",
              "Name: Class, Length: 503, dtype: int64"
            ]
          },
          "metadata": {},
          "execution_count": 209
        }
      ]
    },
    {
      "cell_type": "code",
      "source": [
        "y_test"
      ],
      "metadata": {
        "colab": {
          "base_uri": "https://localhost:8080/"
        },
        "id": "Bnf3yNxayPzX",
        "outputId": "c997b628-0770-4599-8027-3cb7661b3035"
      },
      "execution_count": 210,
      "outputs": [
        {
          "output_type": "execute_result",
          "data": {
            "text/plain": [
              "59     3\n",
              "60     2\n",
              "214    0\n",
              "636    2\n",
              "8      0\n",
              "      ..\n",
              "354    0\n",
              "584    0\n",
              "29     1\n",
              "587    2\n",
              "706    1\n",
              "Name: Class, Length: 216, dtype: int64"
            ]
          },
          "metadata": {},
          "execution_count": 210
        }
      ]
    },
    {
      "cell_type": "code",
      "source": [
        "X_train.head()"
      ],
      "metadata": {
        "colab": {
          "base_uri": "https://localhost:8080/",
          "height": 206
        },
        "id": "HjVE7NODySWf",
        "outputId": "a1a2884b-33d0-4061-8b97-549f6bcf1cc4"
      },
      "execution_count": 211,
      "outputs": [
        {
          "output_type": "execute_result",
          "data": {
            "text/plain": [
              "      ID  Comp  Circ  D.Circ  Rad.Ra  Pr.Axis.Ra  Max.L.Ra  Scat.Ra  Elong  \\\n",
              "529  530    85    42      64     121          55         7      149     46   \n",
              "310  311   101    53     108     184          54        12      216     31   \n",
              "635  636    85    42      66     122          54         6      148     46   \n",
              "619  620    82    44      72     150          64         7      154     44   \n",
              "550  551    93    35      72     172          62         7      149     44   \n",
              "\n",
              "     Pr.Axis.Rect  Max.L.Rect  Sc.Var.Maxis  Sc.Var.maxis  Ra.Gyr  Skew.Maxis  \\\n",
              "529            19         146           167           323     172          85   \n",
              "310            24         172           220           685     187          68   \n",
              "635            19         141           172           317     174          88   \n",
              "619            19         144           181           350     177          80   \n",
              "550            19         124           169           334     125          62   \n",
              "\n",
              "     Skew.maxis  Kurt.maxis  Kurt.Maxis  Holl.Ra  \n",
              "529           1           6         179      182  \n",
              "310           4          24         190      201  \n",
              "635           6          14         180      182  \n",
              "619           0          16         183      187  \n",
              "550           5          30         203      210  "
            ],
            "text/html": [
              "\n",
              "  <div id=\"df-80ce2304-948c-490e-9215-56424009e8d5\">\n",
              "    <div class=\"colab-df-container\">\n",
              "      <div>\n",
              "<style scoped>\n",
              "    .dataframe tbody tr th:only-of-type {\n",
              "        vertical-align: middle;\n",
              "    }\n",
              "\n",
              "    .dataframe tbody tr th {\n",
              "        vertical-align: top;\n",
              "    }\n",
              "\n",
              "    .dataframe thead th {\n",
              "        text-align: right;\n",
              "    }\n",
              "</style>\n",
              "<table border=\"1\" class=\"dataframe\">\n",
              "  <thead>\n",
              "    <tr style=\"text-align: right;\">\n",
              "      <th></th>\n",
              "      <th>ID</th>\n",
              "      <th>Comp</th>\n",
              "      <th>Circ</th>\n",
              "      <th>D.Circ</th>\n",
              "      <th>Rad.Ra</th>\n",
              "      <th>Pr.Axis.Ra</th>\n",
              "      <th>Max.L.Ra</th>\n",
              "      <th>Scat.Ra</th>\n",
              "      <th>Elong</th>\n",
              "      <th>Pr.Axis.Rect</th>\n",
              "      <th>Max.L.Rect</th>\n",
              "      <th>Sc.Var.Maxis</th>\n",
              "      <th>Sc.Var.maxis</th>\n",
              "      <th>Ra.Gyr</th>\n",
              "      <th>Skew.Maxis</th>\n",
              "      <th>Skew.maxis</th>\n",
              "      <th>Kurt.maxis</th>\n",
              "      <th>Kurt.Maxis</th>\n",
              "      <th>Holl.Ra</th>\n",
              "    </tr>\n",
              "  </thead>\n",
              "  <tbody>\n",
              "    <tr>\n",
              "      <th>529</th>\n",
              "      <td>530</td>\n",
              "      <td>85</td>\n",
              "      <td>42</td>\n",
              "      <td>64</td>\n",
              "      <td>121</td>\n",
              "      <td>55</td>\n",
              "      <td>7</td>\n",
              "      <td>149</td>\n",
              "      <td>46</td>\n",
              "      <td>19</td>\n",
              "      <td>146</td>\n",
              "      <td>167</td>\n",
              "      <td>323</td>\n",
              "      <td>172</td>\n",
              "      <td>85</td>\n",
              "      <td>1</td>\n",
              "      <td>6</td>\n",
              "      <td>179</td>\n",
              "      <td>182</td>\n",
              "    </tr>\n",
              "    <tr>\n",
              "      <th>310</th>\n",
              "      <td>311</td>\n",
              "      <td>101</td>\n",
              "      <td>53</td>\n",
              "      <td>108</td>\n",
              "      <td>184</td>\n",
              "      <td>54</td>\n",
              "      <td>12</td>\n",
              "      <td>216</td>\n",
              "      <td>31</td>\n",
              "      <td>24</td>\n",
              "      <td>172</td>\n",
              "      <td>220</td>\n",
              "      <td>685</td>\n",
              "      <td>187</td>\n",
              "      <td>68</td>\n",
              "      <td>4</td>\n",
              "      <td>24</td>\n",
              "      <td>190</td>\n",
              "      <td>201</td>\n",
              "    </tr>\n",
              "    <tr>\n",
              "      <th>635</th>\n",
              "      <td>636</td>\n",
              "      <td>85</td>\n",
              "      <td>42</td>\n",
              "      <td>66</td>\n",
              "      <td>122</td>\n",
              "      <td>54</td>\n",
              "      <td>6</td>\n",
              "      <td>148</td>\n",
              "      <td>46</td>\n",
              "      <td>19</td>\n",
              "      <td>141</td>\n",
              "      <td>172</td>\n",
              "      <td>317</td>\n",
              "      <td>174</td>\n",
              "      <td>88</td>\n",
              "      <td>6</td>\n",
              "      <td>14</td>\n",
              "      <td>180</td>\n",
              "      <td>182</td>\n",
              "    </tr>\n",
              "    <tr>\n",
              "      <th>619</th>\n",
              "      <td>620</td>\n",
              "      <td>82</td>\n",
              "      <td>44</td>\n",
              "      <td>72</td>\n",
              "      <td>150</td>\n",
              "      <td>64</td>\n",
              "      <td>7</td>\n",
              "      <td>154</td>\n",
              "      <td>44</td>\n",
              "      <td>19</td>\n",
              "      <td>144</td>\n",
              "      <td>181</td>\n",
              "      <td>350</td>\n",
              "      <td>177</td>\n",
              "      <td>80</td>\n",
              "      <td>0</td>\n",
              "      <td>16</td>\n",
              "      <td>183</td>\n",
              "      <td>187</td>\n",
              "    </tr>\n",
              "    <tr>\n",
              "      <th>550</th>\n",
              "      <td>551</td>\n",
              "      <td>93</td>\n",
              "      <td>35</td>\n",
              "      <td>72</td>\n",
              "      <td>172</td>\n",
              "      <td>62</td>\n",
              "      <td>7</td>\n",
              "      <td>149</td>\n",
              "      <td>44</td>\n",
              "      <td>19</td>\n",
              "      <td>124</td>\n",
              "      <td>169</td>\n",
              "      <td>334</td>\n",
              "      <td>125</td>\n",
              "      <td>62</td>\n",
              "      <td>5</td>\n",
              "      <td>30</td>\n",
              "      <td>203</td>\n",
              "      <td>210</td>\n",
              "    </tr>\n",
              "  </tbody>\n",
              "</table>\n",
              "</div>\n",
              "      <button class=\"colab-df-convert\" onclick=\"convertToInteractive('df-80ce2304-948c-490e-9215-56424009e8d5')\"\n",
              "              title=\"Convert this dataframe to an interactive table.\"\n",
              "              style=\"display:none;\">\n",
              "        \n",
              "  <svg xmlns=\"http://www.w3.org/2000/svg\" height=\"24px\"viewBox=\"0 0 24 24\"\n",
              "       width=\"24px\">\n",
              "    <path d=\"M0 0h24v24H0V0z\" fill=\"none\"/>\n",
              "    <path d=\"M18.56 5.44l.94 2.06.94-2.06 2.06-.94-2.06-.94-.94-2.06-.94 2.06-2.06.94zm-11 1L8.5 8.5l.94-2.06 2.06-.94-2.06-.94L8.5 2.5l-.94 2.06-2.06.94zm10 10l.94 2.06.94-2.06 2.06-.94-2.06-.94-.94-2.06-.94 2.06-2.06.94z\"/><path d=\"M17.41 7.96l-1.37-1.37c-.4-.4-.92-.59-1.43-.59-.52 0-1.04.2-1.43.59L10.3 9.45l-7.72 7.72c-.78.78-.78 2.05 0 2.83L4 21.41c.39.39.9.59 1.41.59.51 0 1.02-.2 1.41-.59l7.78-7.78 2.81-2.81c.8-.78.8-2.07 0-2.86zM5.41 20L4 18.59l7.72-7.72 1.47 1.35L5.41 20z\"/>\n",
              "  </svg>\n",
              "      </button>\n",
              "      \n",
              "  <style>\n",
              "    .colab-df-container {\n",
              "      display:flex;\n",
              "      flex-wrap:wrap;\n",
              "      gap: 12px;\n",
              "    }\n",
              "\n",
              "    .colab-df-convert {\n",
              "      background-color: #E8F0FE;\n",
              "      border: none;\n",
              "      border-radius: 50%;\n",
              "      cursor: pointer;\n",
              "      display: none;\n",
              "      fill: #1967D2;\n",
              "      height: 32px;\n",
              "      padding: 0 0 0 0;\n",
              "      width: 32px;\n",
              "    }\n",
              "\n",
              "    .colab-df-convert:hover {\n",
              "      background-color: #E2EBFA;\n",
              "      box-shadow: 0px 1px 2px rgba(60, 64, 67, 0.3), 0px 1px 3px 1px rgba(60, 64, 67, 0.15);\n",
              "      fill: #174EA6;\n",
              "    }\n",
              "\n",
              "    [theme=dark] .colab-df-convert {\n",
              "      background-color: #3B4455;\n",
              "      fill: #D2E3FC;\n",
              "    }\n",
              "\n",
              "    [theme=dark] .colab-df-convert:hover {\n",
              "      background-color: #434B5C;\n",
              "      box-shadow: 0px 1px 3px 1px rgba(0, 0, 0, 0.15);\n",
              "      filter: drop-shadow(0px 1px 2px rgba(0, 0, 0, 0.3));\n",
              "      fill: #FFFFFF;\n",
              "    }\n",
              "  </style>\n",
              "\n",
              "      <script>\n",
              "        const buttonEl =\n",
              "          document.querySelector('#df-80ce2304-948c-490e-9215-56424009e8d5 button.colab-df-convert');\n",
              "        buttonEl.style.display =\n",
              "          google.colab.kernel.accessAllowed ? 'block' : 'none';\n",
              "\n",
              "        async function convertToInteractive(key) {\n",
              "          const element = document.querySelector('#df-80ce2304-948c-490e-9215-56424009e8d5');\n",
              "          const dataTable =\n",
              "            await google.colab.kernel.invokeFunction('convertToInteractive',\n",
              "                                                     [key], {});\n",
              "          if (!dataTable) return;\n",
              "\n",
              "          const docLinkHtml = 'Like what you see? Visit the ' +\n",
              "            '<a target=\"_blank\" href=https://colab.research.google.com/notebooks/data_table.ipynb>data table notebook</a>'\n",
              "            + ' to learn more about interactive tables.';\n",
              "          element.innerHTML = '';\n",
              "          dataTable['output_type'] = 'display_data';\n",
              "          await google.colab.output.renderOutput(dataTable, element);\n",
              "          const docLink = document.createElement('div');\n",
              "          docLink.innerHTML = docLinkHtml;\n",
              "          element.appendChild(docLink);\n",
              "        }\n",
              "      </script>\n",
              "    </div>\n",
              "  </div>\n",
              "  "
            ]
          },
          "metadata": {},
          "execution_count": 211
        }
      ]
    },
    {
      "cell_type": "markdown",
      "source": [
        "Data are splitted into train and test data"
      ],
      "metadata": {
        "id": "fdzuQZtIymDo"
      }
    },
    {
      "cell_type": "markdown",
      "source": [
        "# Scalling the feature"
      ],
      "metadata": {
        "id": "X5hhXVh4yzSa"
      }
    },
    {
      "cell_type": "markdown",
      "source": [
        "Check the scalling"
      ],
      "metadata": {
        "id": "HXd0_GdHy9RQ"
      }
    },
    {
      "cell_type": "code",
      "source": [
        "import seaborn as sns"
      ],
      "metadata": {
        "id": "m8zCOBy7yhXT"
      },
      "execution_count": 212,
      "outputs": []
    },
    {
      "cell_type": "code",
      "source": [
        "data.describe()"
      ],
      "metadata": {
        "colab": {
          "base_uri": "https://localhost:8080/",
          "height": 364
        },
        "id": "DRlu9ycwzGjD",
        "outputId": "7d849c5b-8186-4a59-f34c-1498481d8c35"
      },
      "execution_count": 213,
      "outputs": [
        {
          "output_type": "execute_result",
          "data": {
            "text/plain": [
              "               ID        Comp        Circ      D.Circ      Rad.Ra  Pr.Axis.Ra  \\\n",
              "count  719.000000  719.000000  719.000000  719.000000  719.000000  719.000000   \n",
              "mean   360.000000   93.435327   44.851182   81.723227  168.579972   61.847010   \n",
              "std    207.701709    8.111406    6.150286   15.528208   33.809172    8.259136   \n",
              "min      1.000000   73.000000   33.000000   40.000000  105.000000   47.000000   \n",
              "25%    180.500000   87.000000   40.000000   70.000000  141.000000   57.000000   \n",
              "50%    360.000000   93.000000   44.000000   79.000000  166.000000   61.000000   \n",
              "75%    539.500000   99.000000   49.000000   96.000000  194.500000   65.000000   \n",
              "max    719.000000  119.000000   59.000000  110.000000  333.000000  138.000000   \n",
              "\n",
              "         Max.L.Ra     Scat.Ra       Elong  Pr.Axis.Rect  Max.L.Rect  \\\n",
              "count  719.000000  719.000000  719.000000    719.000000  719.000000   \n",
              "mean     8.625869  168.137691   41.075104     20.531293  148.030598   \n",
              "std      4.916908   32.937591    7.764459      2.560969   14.560092   \n",
              "min      2.000000  112.000000   26.000000     17.000000  118.000000   \n",
              "25%      6.000000  146.000000   33.000000     19.000000  137.000000   \n",
              "50%      8.000000  157.000000   43.000000     20.000000  146.000000   \n",
              "75%     10.000000  197.500000   46.000000     23.000000  159.000000   \n",
              "max     55.000000  265.000000   61.000000     29.000000  188.000000   \n",
              "\n",
              "       Sc.Var.Maxis  Sc.Var.maxis      Ra.Gyr  Skew.Maxis  Skew.maxis  \\\n",
              "count    719.000000    719.000000  719.000000  719.000000  719.000000   \n",
              "mean     188.168289    436.215577  174.726008   72.682893    6.343533   \n",
              "std       31.235395    174.964977   32.149568    7.542055    4.856169   \n",
              "min      130.000000    184.000000  109.000000   59.000000    0.000000   \n",
              "25%      167.000000    317.000000  149.000000   68.000000    2.000000   \n",
              "50%      178.000000    362.000000  174.000000   72.000000    6.000000   \n",
              "75%      216.000000    584.500000  198.000000   76.000000    9.000000   \n",
              "max      320.000000   1018.000000  262.000000  135.000000   22.000000   \n",
              "\n",
              "       Kurt.maxis  Kurt.Maxis     Holl.Ra       Class  \n",
              "count  719.000000  719.000000  719.000000  719.000000  \n",
              "mean    12.394993  188.798331  195.407510    1.470097  \n",
              "std      8.742511    6.048522    7.235166    1.126477  \n",
              "min      0.000000  176.000000  181.000000    0.000000  \n",
              "25%      5.500000  184.000000  190.000000    0.000000  \n",
              "50%     11.000000  188.000000  196.000000    1.000000  \n",
              "75%     18.000000  193.000000  201.000000    2.000000  \n",
              "max     41.000000  204.000000  211.000000    3.000000  "
            ],
            "text/html": [
              "\n",
              "  <div id=\"df-b1ccefd6-8deb-4840-9d09-939a6ee3361d\">\n",
              "    <div class=\"colab-df-container\">\n",
              "      <div>\n",
              "<style scoped>\n",
              "    .dataframe tbody tr th:only-of-type {\n",
              "        vertical-align: middle;\n",
              "    }\n",
              "\n",
              "    .dataframe tbody tr th {\n",
              "        vertical-align: top;\n",
              "    }\n",
              "\n",
              "    .dataframe thead th {\n",
              "        text-align: right;\n",
              "    }\n",
              "</style>\n",
              "<table border=\"1\" class=\"dataframe\">\n",
              "  <thead>\n",
              "    <tr style=\"text-align: right;\">\n",
              "      <th></th>\n",
              "      <th>ID</th>\n",
              "      <th>Comp</th>\n",
              "      <th>Circ</th>\n",
              "      <th>D.Circ</th>\n",
              "      <th>Rad.Ra</th>\n",
              "      <th>Pr.Axis.Ra</th>\n",
              "      <th>Max.L.Ra</th>\n",
              "      <th>Scat.Ra</th>\n",
              "      <th>Elong</th>\n",
              "      <th>Pr.Axis.Rect</th>\n",
              "      <th>Max.L.Rect</th>\n",
              "      <th>Sc.Var.Maxis</th>\n",
              "      <th>Sc.Var.maxis</th>\n",
              "      <th>Ra.Gyr</th>\n",
              "      <th>Skew.Maxis</th>\n",
              "      <th>Skew.maxis</th>\n",
              "      <th>Kurt.maxis</th>\n",
              "      <th>Kurt.Maxis</th>\n",
              "      <th>Holl.Ra</th>\n",
              "      <th>Class</th>\n",
              "    </tr>\n",
              "  </thead>\n",
              "  <tbody>\n",
              "    <tr>\n",
              "      <th>count</th>\n",
              "      <td>719.000000</td>\n",
              "      <td>719.000000</td>\n",
              "      <td>719.000000</td>\n",
              "      <td>719.000000</td>\n",
              "      <td>719.000000</td>\n",
              "      <td>719.000000</td>\n",
              "      <td>719.000000</td>\n",
              "      <td>719.000000</td>\n",
              "      <td>719.000000</td>\n",
              "      <td>719.000000</td>\n",
              "      <td>719.000000</td>\n",
              "      <td>719.000000</td>\n",
              "      <td>719.000000</td>\n",
              "      <td>719.000000</td>\n",
              "      <td>719.000000</td>\n",
              "      <td>719.000000</td>\n",
              "      <td>719.000000</td>\n",
              "      <td>719.000000</td>\n",
              "      <td>719.000000</td>\n",
              "      <td>719.000000</td>\n",
              "    </tr>\n",
              "    <tr>\n",
              "      <th>mean</th>\n",
              "      <td>360.000000</td>\n",
              "      <td>93.435327</td>\n",
              "      <td>44.851182</td>\n",
              "      <td>81.723227</td>\n",
              "      <td>168.579972</td>\n",
              "      <td>61.847010</td>\n",
              "      <td>8.625869</td>\n",
              "      <td>168.137691</td>\n",
              "      <td>41.075104</td>\n",
              "      <td>20.531293</td>\n",
              "      <td>148.030598</td>\n",
              "      <td>188.168289</td>\n",
              "      <td>436.215577</td>\n",
              "      <td>174.726008</td>\n",
              "      <td>72.682893</td>\n",
              "      <td>6.343533</td>\n",
              "      <td>12.394993</td>\n",
              "      <td>188.798331</td>\n",
              "      <td>195.407510</td>\n",
              "      <td>1.470097</td>\n",
              "    </tr>\n",
              "    <tr>\n",
              "      <th>std</th>\n",
              "      <td>207.701709</td>\n",
              "      <td>8.111406</td>\n",
              "      <td>6.150286</td>\n",
              "      <td>15.528208</td>\n",
              "      <td>33.809172</td>\n",
              "      <td>8.259136</td>\n",
              "      <td>4.916908</td>\n",
              "      <td>32.937591</td>\n",
              "      <td>7.764459</td>\n",
              "      <td>2.560969</td>\n",
              "      <td>14.560092</td>\n",
              "      <td>31.235395</td>\n",
              "      <td>174.964977</td>\n",
              "      <td>32.149568</td>\n",
              "      <td>7.542055</td>\n",
              "      <td>4.856169</td>\n",
              "      <td>8.742511</td>\n",
              "      <td>6.048522</td>\n",
              "      <td>7.235166</td>\n",
              "      <td>1.126477</td>\n",
              "    </tr>\n",
              "    <tr>\n",
              "      <th>min</th>\n",
              "      <td>1.000000</td>\n",
              "      <td>73.000000</td>\n",
              "      <td>33.000000</td>\n",
              "      <td>40.000000</td>\n",
              "      <td>105.000000</td>\n",
              "      <td>47.000000</td>\n",
              "      <td>2.000000</td>\n",
              "      <td>112.000000</td>\n",
              "      <td>26.000000</td>\n",
              "      <td>17.000000</td>\n",
              "      <td>118.000000</td>\n",
              "      <td>130.000000</td>\n",
              "      <td>184.000000</td>\n",
              "      <td>109.000000</td>\n",
              "      <td>59.000000</td>\n",
              "      <td>0.000000</td>\n",
              "      <td>0.000000</td>\n",
              "      <td>176.000000</td>\n",
              "      <td>181.000000</td>\n",
              "      <td>0.000000</td>\n",
              "    </tr>\n",
              "    <tr>\n",
              "      <th>25%</th>\n",
              "      <td>180.500000</td>\n",
              "      <td>87.000000</td>\n",
              "      <td>40.000000</td>\n",
              "      <td>70.000000</td>\n",
              "      <td>141.000000</td>\n",
              "      <td>57.000000</td>\n",
              "      <td>6.000000</td>\n",
              "      <td>146.000000</td>\n",
              "      <td>33.000000</td>\n",
              "      <td>19.000000</td>\n",
              "      <td>137.000000</td>\n",
              "      <td>167.000000</td>\n",
              "      <td>317.000000</td>\n",
              "      <td>149.000000</td>\n",
              "      <td>68.000000</td>\n",
              "      <td>2.000000</td>\n",
              "      <td>5.500000</td>\n",
              "      <td>184.000000</td>\n",
              "      <td>190.000000</td>\n",
              "      <td>0.000000</td>\n",
              "    </tr>\n",
              "    <tr>\n",
              "      <th>50%</th>\n",
              "      <td>360.000000</td>\n",
              "      <td>93.000000</td>\n",
              "      <td>44.000000</td>\n",
              "      <td>79.000000</td>\n",
              "      <td>166.000000</td>\n",
              "      <td>61.000000</td>\n",
              "      <td>8.000000</td>\n",
              "      <td>157.000000</td>\n",
              "      <td>43.000000</td>\n",
              "      <td>20.000000</td>\n",
              "      <td>146.000000</td>\n",
              "      <td>178.000000</td>\n",
              "      <td>362.000000</td>\n",
              "      <td>174.000000</td>\n",
              "      <td>72.000000</td>\n",
              "      <td>6.000000</td>\n",
              "      <td>11.000000</td>\n",
              "      <td>188.000000</td>\n",
              "      <td>196.000000</td>\n",
              "      <td>1.000000</td>\n",
              "    </tr>\n",
              "    <tr>\n",
              "      <th>75%</th>\n",
              "      <td>539.500000</td>\n",
              "      <td>99.000000</td>\n",
              "      <td>49.000000</td>\n",
              "      <td>96.000000</td>\n",
              "      <td>194.500000</td>\n",
              "      <td>65.000000</td>\n",
              "      <td>10.000000</td>\n",
              "      <td>197.500000</td>\n",
              "      <td>46.000000</td>\n",
              "      <td>23.000000</td>\n",
              "      <td>159.000000</td>\n",
              "      <td>216.000000</td>\n",
              "      <td>584.500000</td>\n",
              "      <td>198.000000</td>\n",
              "      <td>76.000000</td>\n",
              "      <td>9.000000</td>\n",
              "      <td>18.000000</td>\n",
              "      <td>193.000000</td>\n",
              "      <td>201.000000</td>\n",
              "      <td>2.000000</td>\n",
              "    </tr>\n",
              "    <tr>\n",
              "      <th>max</th>\n",
              "      <td>719.000000</td>\n",
              "      <td>119.000000</td>\n",
              "      <td>59.000000</td>\n",
              "      <td>110.000000</td>\n",
              "      <td>333.000000</td>\n",
              "      <td>138.000000</td>\n",
              "      <td>55.000000</td>\n",
              "      <td>265.000000</td>\n",
              "      <td>61.000000</td>\n",
              "      <td>29.000000</td>\n",
              "      <td>188.000000</td>\n",
              "      <td>320.000000</td>\n",
              "      <td>1018.000000</td>\n",
              "      <td>262.000000</td>\n",
              "      <td>135.000000</td>\n",
              "      <td>22.000000</td>\n",
              "      <td>41.000000</td>\n",
              "      <td>204.000000</td>\n",
              "      <td>211.000000</td>\n",
              "      <td>3.000000</td>\n",
              "    </tr>\n",
              "  </tbody>\n",
              "</table>\n",
              "</div>\n",
              "      <button class=\"colab-df-convert\" onclick=\"convertToInteractive('df-b1ccefd6-8deb-4840-9d09-939a6ee3361d')\"\n",
              "              title=\"Convert this dataframe to an interactive table.\"\n",
              "              style=\"display:none;\">\n",
              "        \n",
              "  <svg xmlns=\"http://www.w3.org/2000/svg\" height=\"24px\"viewBox=\"0 0 24 24\"\n",
              "       width=\"24px\">\n",
              "    <path d=\"M0 0h24v24H0V0z\" fill=\"none\"/>\n",
              "    <path d=\"M18.56 5.44l.94 2.06.94-2.06 2.06-.94-2.06-.94-.94-2.06-.94 2.06-2.06.94zm-11 1L8.5 8.5l.94-2.06 2.06-.94-2.06-.94L8.5 2.5l-.94 2.06-2.06.94zm10 10l.94 2.06.94-2.06 2.06-.94-2.06-.94-.94-2.06-.94 2.06-2.06.94z\"/><path d=\"M17.41 7.96l-1.37-1.37c-.4-.4-.92-.59-1.43-.59-.52 0-1.04.2-1.43.59L10.3 9.45l-7.72 7.72c-.78.78-.78 2.05 0 2.83L4 21.41c.39.39.9.59 1.41.59.51 0 1.02-.2 1.41-.59l7.78-7.78 2.81-2.81c.8-.78.8-2.07 0-2.86zM5.41 20L4 18.59l7.72-7.72 1.47 1.35L5.41 20z\"/>\n",
              "  </svg>\n",
              "      </button>\n",
              "      \n",
              "  <style>\n",
              "    .colab-df-container {\n",
              "      display:flex;\n",
              "      flex-wrap:wrap;\n",
              "      gap: 12px;\n",
              "    }\n",
              "\n",
              "    .colab-df-convert {\n",
              "      background-color: #E8F0FE;\n",
              "      border: none;\n",
              "      border-radius: 50%;\n",
              "      cursor: pointer;\n",
              "      display: none;\n",
              "      fill: #1967D2;\n",
              "      height: 32px;\n",
              "      padding: 0 0 0 0;\n",
              "      width: 32px;\n",
              "    }\n",
              "\n",
              "    .colab-df-convert:hover {\n",
              "      background-color: #E2EBFA;\n",
              "      box-shadow: 0px 1px 2px rgba(60, 64, 67, 0.3), 0px 1px 3px 1px rgba(60, 64, 67, 0.15);\n",
              "      fill: #174EA6;\n",
              "    }\n",
              "\n",
              "    [theme=dark] .colab-df-convert {\n",
              "      background-color: #3B4455;\n",
              "      fill: #D2E3FC;\n",
              "    }\n",
              "\n",
              "    [theme=dark] .colab-df-convert:hover {\n",
              "      background-color: #434B5C;\n",
              "      box-shadow: 0px 1px 3px 1px rgba(0, 0, 0, 0.15);\n",
              "      filter: drop-shadow(0px 1px 2px rgba(0, 0, 0, 0.3));\n",
              "      fill: #FFFFFF;\n",
              "    }\n",
              "  </style>\n",
              "\n",
              "      <script>\n",
              "        const buttonEl =\n",
              "          document.querySelector('#df-b1ccefd6-8deb-4840-9d09-939a6ee3361d button.colab-df-convert');\n",
              "        buttonEl.style.display =\n",
              "          google.colab.kernel.accessAllowed ? 'block' : 'none';\n",
              "\n",
              "        async function convertToInteractive(key) {\n",
              "          const element = document.querySelector('#df-b1ccefd6-8deb-4840-9d09-939a6ee3361d');\n",
              "          const dataTable =\n",
              "            await google.colab.kernel.invokeFunction('convertToInteractive',\n",
              "                                                     [key], {});\n",
              "          if (!dataTable) return;\n",
              "\n",
              "          const docLinkHtml = 'Like what you see? Visit the ' +\n",
              "            '<a target=\"_blank\" href=https://colab.research.google.com/notebooks/data_table.ipynb>data table notebook</a>'\n",
              "            + ' to learn more about interactive tables.';\n",
              "          element.innerHTML = '';\n",
              "          dataTable['output_type'] = 'display_data';\n",
              "          await google.colab.output.renderOutput(dataTable, element);\n",
              "          const docLink = document.createElement('div');\n",
              "          docLink.innerHTML = docLinkHtml;\n",
              "          element.appendChild(docLink);\n",
              "        }\n",
              "      </script>\n",
              "    </div>\n",
              "  </div>\n",
              "  "
            ]
          },
          "metadata": {},
          "execution_count": 213
        }
      ]
    },
    {
      "cell_type": "code",
      "source": [
        "sns.boxplot(data=data)"
      ],
      "metadata": {
        "colab": {
          "base_uri": "https://localhost:8080/",
          "height": 283
        },
        "id": "uWzdUGqWzKgW",
        "outputId": "8c67cd31-6c51-4010-8906-e6f876d249a7"
      },
      "execution_count": 214,
      "outputs": [
        {
          "output_type": "execute_result",
          "data": {
            "text/plain": [
              "<matplotlib.axes._subplots.AxesSubplot at 0x7f3136939ad0>"
            ]
          },
          "metadata": {},
          "execution_count": 214
        },
        {
          "output_type": "display_data",
          "data": {
            "text/plain": [
              "<Figure size 432x288 with 1 Axes>"
            ],
            "image/png": "[encoded data removed]"
          },
          "metadata": {
            "needs_background": "light"
          }
        }
      ]
    },
    {
      "cell_type": "code",
      "source": [
        "from sklearn.preprocessing import StandardScaler"
      ],
      "metadata": {
        "id": "BOeyJMHbzdfx"
      },
      "execution_count": 215,
      "outputs": []
    },
    {
      "cell_type": "code",
      "source": [
        "SS = StandardScaler()"
      ],
      "metadata": {
        "id": "ZeSBTkcV07BW"
      },
      "execution_count": 216,
      "outputs": []
    },
    {
      "cell_type": "code",
      "source": [
        "X_train= SS.fit_transform(X_train)"
      ],
      "metadata": {
        "id": "r1odOBUq1uYy"
      },
      "execution_count": 217,
      "outputs": []
    },
    {
      "cell_type": "code",
      "source": [
        "X_test= SS.fit_transform(X_test)"
      ],
      "metadata": {
        "id": "1yg7-Ex023Yx"
      },
      "execution_count": 218,
      "outputs": []
    },
    {
      "cell_type": "code",
      "source": [
        "sns.boxplot(data=X_train)"
      ],
      "metadata": {
        "colab": {
          "base_uri": "https://localhost:8080/",
          "height": 283
        },
        "id": "k4EF5Xka3UsD",
        "outputId": "21f19294-7c52-4a53-e20e-2b138027f910"
      },
      "execution_count": 219,
      "outputs": [
        {
          "output_type": "execute_result",
          "data": {
            "text/plain": [
              "<matplotlib.axes._subplots.AxesSubplot at 0x7f31366f8290>"
            ]
          },
          "metadata": {},
          "execution_count": 219
        },
        {
          "output_type": "display_data",
          "data": {
            "text/plain": [
              "<Figure size 432x288 with 1 Axes>"
            ],
            "image/png": "[encoded data removed]"
          },
          "metadata": {
            "needs_background": "light"
          }
        }
      ]
    },
    {
      "cell_type": "code",
      "source": [
        "X_train"
      ],
      "metadata": {
        "colab": {
          "base_uri": "https://localhost:8080/"
        },
        "id": "z4HeP97F3p20",
        "outputId": "ab07edd9-4980-4892-f5e3-83f5e3fce488"
      },
      "execution_count": 220,
      "outputs": [
        {
          "output_type": "execute_result",
          "data": {
            "text/plain": [
              "array([[ 0.81644203, -1.02362179, -0.4639543 , ..., -0.78154639,\n",
              "        -1.62510011, -1.90486296],\n",
              "       [-0.25245272,  0.92946218,  1.28115727, ...,  1.30518938,\n",
              "         0.17108025,  0.74889438],\n",
              "       [ 1.33380661, -1.02362179, -0.4639543 , ...,  0.14589173,\n",
              "        -1.46181098, -1.90486296],\n",
              "       ...,\n",
              "       [-1.41408264, -1.75602828,  0.32927824, ..., -0.31782733,\n",
              "        -0.97194361, -0.92716289],\n",
              "       [-0.61851257, -0.16914756,  0.17063173, ..., -0.31782733,\n",
              "         0.33436938,  0.32988006],\n",
              "       [-1.58491056,  0.44119118,  0.32927824, ..., -1.24526545,\n",
              "         0.4976585 ,  0.32988006]])"
            ]
          },
          "metadata": {},
          "execution_count": 220
        }
      ]
    },
    {
      "cell_type": "code",
      "source": [
        "X_test"
      ],
      "metadata": {
        "colab": {
          "base_uri": "https://localhost:8080/"
        },
        "id": "6czs8ETj3vWk",
        "outputId": "945f71db-c2f5-4c58-f002-d7b48c166e2e"
      },
      "execution_count": 221,
      "outputs": [
        {
          "output_type": "execute_result",
          "data": {
            "text/plain": [
              "array([[-1.37533525, -0.06974036, -1.50718847, ...,  1.72459941,\n",
              "         0.78104407,  0.83241273],\n",
              "       [-1.37065179,  2.20883533,  0.92360509, ..., -0.28959179,\n",
              "         0.26722015,  0.69661125],\n",
              "       [-0.64939762, -1.33561574, -0.11816358, ..., -1.18478788,\n",
              "        -0.58915304, -0.52560199],\n",
              "       ...,\n",
              "       [-1.51583931, -1.33561574, -0.98630413, ..., -0.62529032,\n",
              "        -0.24660376, -0.66140346],\n",
              "       [ 1.09753618, -0.06974036, -1.33356035, ..., -0.51339081,\n",
              "         0.60976943,  0.28920684],\n",
              "       [ 1.65486895,  1.32272256,  1.27086131, ..., -0.73718983,\n",
              "         1.12359334,  1.23981714]])"
            ]
          },
          "metadata": {},
          "execution_count": 221
        }
      ]
    },
    {
      "cell_type": "code",
      "source": [
        "sns.boxplot(data=X_test)"
      ],
      "metadata": {
        "colab": {
          "base_uri": "https://localhost:8080/",
          "height": 283
        },
        "id": "PCkHso--323D",
        "outputId": "dcf85597-4129-4172-af24-b0520d9bc84e"
      },
      "execution_count": 222,
      "outputs": [
        {
          "output_type": "execute_result",
          "data": {
            "text/plain": [
              "<matplotlib.axes._subplots.AxesSubplot at 0x7f3136988850>"
            ]
          },
          "metadata": {},
          "execution_count": 222
        },
        {
          "output_type": "display_data",
          "data": {
            "text/plain": [
              "<Figure size 432x288 with 1 Axes>"
            ],
            "image/png": "[encoded data removed]"
          },
          "metadata": {
            "needs_background": "light"
          }
        }
      ]
    },
    {
      "cell_type": "markdown",
      "source": [
        "# Final Model Building"
      ],
      "metadata": {
        "id": "c0MZWM-r4EKZ"
      }
    },
    {
      "cell_type": "code",
      "source": [
        "#importing all classification libraries models from sklearn\n",
        "\n",
        "from sklearn.linear_model import SGDClassifier,LogisticRegression\n",
        "from sklearn.svm import SVC\n",
        "from sklearn.neighbors import KNeighborsClassifier\n",
        "from sklearn.tree import DecisionTreeClassifier\n",
        "from sklearn.ensemble import RandomForestClassifier\n",
        "from sklearn.ensemble import GradientBoostingClassifier"
      ],
      "metadata": {
        "id": "BI83KHDW38UO"
      },
      "execution_count": 223,
      "outputs": []
    },
    {
      "cell_type": "code",
      "source": [
        "#Creating objects for above the models\n",
        "\n",
        "sgd = SGDClassifier()\n",
        "lr = LogisticRegression()\n",
        "svc = SVC()\n",
        "knn = KNeighborsClassifier()\n",
        "dtc = DecisionTreeClassifier()\n",
        "rfc = RandomForestClassifier()\n",
        "gbc = GradientBoostingClassifier()"
      ],
      "metadata": {
        "id": "5VRakkHH6S1O"
      },
      "execution_count": 224,
      "outputs": []
    },
    {
      "cell_type": "code",
      "source": [
        "#train fits\n",
        "import time\n",
        "start = time.time()\n",
        "sgd.fit(X_train,y_train)\n",
        "lr.fit(X_train,y_train)\n",
        "svc.fit(X_train,y_train)\n",
        "knn.fit(X_train,y_train)\n",
        "dtc.fit(X_train,y_train)\n",
        "rfc.fit(X_train,y_train)\n",
        "gbc.fit(X_train,y_train)\n",
        "end = time.time()"
      ],
      "metadata": {
        "id": "eQ1hc-tF7mS5"
      },
      "execution_count": 225,
      "outputs": []
    },
    {
      "cell_type": "code",
      "source": [
        "print(end-start)"
      ],
      "metadata": {
        "colab": {
          "base_uri": "https://localhost:8080/"
        },
        "id": "vinvb0Xd8k4x",
        "outputId": "f2280abf-0566-4d9c-f184-3327e727acd7"
      },
      "execution_count": 226,
      "outputs": [
        {
          "output_type": "stream",
          "name": "stdout",
          "text": [
            "1.2966463565826416\n"
          ]
        }
      ]
    },
    {
      "cell_type": "code",
      "source": [
        "#train scores\n",
        "print(lr.score(X_train, y_train))\n",
        "print(sgd.score(X_train, y_train))\n",
        "print(knn.score(X_train, y_train))\n",
        "print(svc.score(X_train, y_train))\n",
        "print(dtc.score(X_train, y_train))\n",
        "print(rfc.score(X_train, y_train))\n",
        "print(gbc.score(X_train, y_train))"
      ],
      "metadata": {
        "id": "OQcfGZn28q-D",
        "colab": {
          "base_uri": "https://localhost:8080/"
        },
        "outputId": "713817bd-1383-46b7-8092-c328f49bc1c6"
      },
      "execution_count": 227,
      "outputs": [
        {
          "output_type": "stream",
          "name": "stdout",
          "text": [
            "0.8170974155069582\n",
            "0.7892644135188867\n",
            "0.8230616302186878\n",
            "0.8449304174950298\n",
            "1.0\n",
            "1.0\n",
            "1.0\n"
          ]
        }
      ]
    },
    {
      "cell_type": "code",
      "source": [
        "print(end-start)"
      ],
      "metadata": {
        "colab": {
          "base_uri": "https://localhost:8080/"
        },
        "id": "kUCpZNaQ89Cb",
        "outputId": "5291db40-3d17-4a1e-8171-abfa04494f8c"
      },
      "execution_count": 228,
      "outputs": [
        {
          "output_type": "stream",
          "name": "stdout",
          "text": [
            "1.2966463565826416\n"
          ]
        }
      ]
    },
    {
      "cell_type": "code",
      "source": [
        "print(start-end)"
      ],
      "metadata": {
        "colab": {
          "base_uri": "https://localhost:8080/"
        },
        "id": "7mY49TZ89BN7",
        "outputId": "57aaa7c7-77a6-4a72-da5f-890e6777b74d"
      },
      "execution_count": 229,
      "outputs": [
        {
          "output_type": "stream",
          "name": "stdout",
          "text": [
            "-1.2966463565826416\n"
          ]
        }
      ]
    },
    {
      "cell_type": "code",
      "source": [
        "#test scores\n",
        "print(lr.score(X_test, y_test))\n",
        "print(sgd.score(X_test, y_test))\n",
        "print(knn.score(X_test, y_test))\n",
        "print(svc.score(X_test, y_test))\n",
        "print(dtc.score(X_test, y_test))\n",
        "print(rfc.score(X_test, y_test))\n",
        "print(gbc.score(X_test, y_test))"
      ],
      "metadata": {
        "id": "sNPxejp49Eak",
        "colab": {
          "base_uri": "https://localhost:8080/"
        },
        "outputId": "a52ff3e2-ebb6-49fe-b1b8-a8be8aebe119"
      },
      "execution_count": 230,
      "outputs": [
        {
          "output_type": "stream",
          "name": "stdout",
          "text": [
            "0.7592592592592593\n",
            "0.7407407407407407\n",
            "0.7037037037037037\n",
            "0.7407407407407407\n",
            "0.6990740740740741\n",
            "0.75\n",
            "0.7222222222222222\n"
          ]
        }
      ]
    },
    {
      "cell_type": "code",
      "source": [
        "print(end-start)"
      ],
      "metadata": {
        "colab": {
          "base_uri": "https://localhost:8080/"
        },
        "id": "kdQL1WOC-Lx4",
        "outputId": "4932e424-43f9-4d92-df6a-f80ca9273188"
      },
      "execution_count": 231,
      "outputs": [
        {
          "output_type": "stream",
          "name": "stdout",
          "text": [
            "1.2966463565826416\n"
          ]
        }
      ]
    },
    {
      "cell_type": "code",
      "source": [
        "print(start-end)"
      ],
      "metadata": {
        "colab": {
          "base_uri": "https://localhost:8080/"
        },
        "id": "U3cUwFsJ-O1N",
        "outputId": "e90fa59a-a0d1-4dea-c8dc-38c6c4cfa4c7"
      },
      "execution_count": 232,
      "outputs": [
        {
          "output_type": "stream",
          "name": "stdout",
          "text": [
            "-1.2966463565826416\n"
          ]
        }
      ]
    },
    {
      "cell_type": "markdown",
      "source": [
        "# F1 scores"
      ],
      "metadata": {
        "id": "Su76ShcCB6EG"
      }
    },
    {
      "cell_type": "code",
      "source": [
        "from sklearn.metrics import f1_score\n",
        "\n",
        "y_pred1 = lr.predict(X_test)\n",
        "y_pred2 = sgd.predict(X_test)\n",
        "y_pred3 = knn.predict(X_test)\n",
        "y_pred4 = svc.predict(X_test)\n",
        "y_pred5 = dtc.predict(X_test)\n",
        "y_pred6 = rfc.predict(X_test)\n",
        "y_pred7 = gbc.predict(X_test)"
      ],
      "metadata": {
        "id": "aq541z86B9k6"
      },
      "execution_count": 233,
      "outputs": []
    },
    {
      "cell_type": "code",
      "source": [
        "print(f1_score(y_test, y_pred1, average = 'macro'))\n",
        "print(f1_score(y_test, y_pred2, average = 'macro'))\n",
        "print(f1_score(y_test, y_pred3, average = 'macro'))\n",
        "print(f1_score(y_test, y_pred4, average = 'macro'))\n",
        "print(f1_score(y_test, y_pred5, average = 'macro'))\n",
        "print(f1_score(y_test, y_pred6, average = 'macro'))\n",
        "print(f1_score(y_test, y_pred7, average = 'macro'))"
      ],
      "metadata": {
        "colab": {
          "base_uri": "https://localhost:8080/"
        },
        "id": "K4iyoc9oCBpD",
        "outputId": "821d63f1-ae62-422f-eaa7-76becd9a1bbd"
      },
      "execution_count": 234,
      "outputs": [
        {
          "output_type": "stream",
          "name": "stdout",
          "text": [
            "0.7480675592991606\n",
            "0.7214435602083991\n",
            "0.684981171693579\n",
            "0.7239328544900068\n",
            "0.67205030968337\n",
            "0.7277916838238883\n",
            "0.7087981510015409\n"
          ]
        }
      ]
    },
    {
      "cell_type": "markdown",
      "source": [
        "# Confusion Matrix"
      ],
      "metadata": {
        "id": "cvIrp539CH-v"
      }
    },
    {
      "cell_type": "code",
      "source": [
        "from sklearn.metrics import plot_confusion_matrix\n"
      ],
      "metadata": {
        "id": "M7Ih5sNg-ROh"
      },
      "execution_count": 235,
      "outputs": []
    },
    {
      "cell_type": "code",
      "source": [
        "plot_confusion_matrix(sgd,X_test,y_test)"
      ],
      "metadata": {
        "colab": {
          "base_uri": "https://localhost:8080/",
          "height": 354
        },
        "id": "jqYTNWTU-lD9",
        "outputId": "a5b2a67f-867b-43e6-c070-96c1375c746c"
      },
      "execution_count": 236,
      "outputs": [
        {
          "output_type": "stream",
          "name": "stderr",
          "text": [
            "/usr/local/lib/python3.7/dist-packages/sklearn/utils/deprecation.py:87: FutureWarning: Function plot_confusion_matrix is deprecated; Function `plot_confusion_matrix` is deprecated in 1.0 and will be removed in 1.2. Use one of the class methods: ConfusionMatrixDisplay.from_predictions or ConfusionMatrixDisplay.from_estimator.\n",
            "  warnings.warn(msg, category=FutureWarning)\n"
          ]
        },
        {
          "output_type": "execute_result",
          "data": {
            "text/plain": [
              "<sklearn.metrics._plot.confusion_matrix.ConfusionMatrixDisplay at 0x7f3136abed50>"
            ]
          },
          "metadata": {},
          "execution_count": 236
        },
        {
          "output_type": "display_data",
          "data": {
            "text/plain": [
              "<Figure size 432x288 with 2 Axes>"
            ],
            "image/png": "[encoded data removed]"
          },
          "metadata": {
            "needs_background": "light"
          }
        }
      ]
    },
    {
      "cell_type": "code",
      "source": [
        "plot_confusion_matrix(lr, X_test, y_test)"
      ],
      "metadata": {
        "colab": {
          "base_uri": "https://localhost:8080/",
          "height": 354
        },
        "id": "NOrEn7S0CTL6",
        "outputId": "a5c1baa3-6802-4440-b757-15aebb1c9b19"
      },
      "execution_count": 237,
      "outputs": [
        {
          "output_type": "stream",
          "name": "stderr",
          "text": [
            "/usr/local/lib/python3.7/dist-packages/sklearn/utils/deprecation.py:87: FutureWarning: Function plot_confusion_matrix is deprecated; Function `plot_confusion_matrix` is deprecated in 1.0 and will be removed in 1.2. Use one of the class methods: ConfusionMatrixDisplay.from_predictions or ConfusionMatrixDisplay.from_estimator.\n",
            "  warnings.warn(msg, category=FutureWarning)\n"
          ]
        },
        {
          "output_type": "execute_result",
          "data": {
            "text/plain": [
              "<sklearn.metrics._plot.confusion_matrix.ConfusionMatrixDisplay at 0x7f31363c2310>"
            ]
          },
          "metadata": {},
          "execution_count": 237
        },
        {
          "output_type": "display_data",
          "data": {
            "text/plain": [
              "<Figure size 432x288 with 2 Axes>"
            ],
            "image/png": "[encoded data removed]"
          },
          "metadata": {
            "needs_background": "light"
          }
        }
      ]
    },
    {
      "cell_type": "code",
      "source": [
        "plot_confusion_matrix(svc,X_test,y_test)"
      ],
      "metadata": {
        "colab": {
          "base_uri": "https://localhost:8080/",
          "height": 354
        },
        "id": "TOdd-vK9--Rt",
        "outputId": "eb729688-67e9-4173-8c02-b65cc456d04d"
      },
      "execution_count": 238,
      "outputs": [
        {
          "output_type": "stream",
          "name": "stderr",
          "text": [
            "/usr/local/lib/python3.7/dist-packages/sklearn/utils/deprecation.py:87: FutureWarning: Function plot_confusion_matrix is deprecated; Function `plot_confusion_matrix` is deprecated in 1.0 and will be removed in 1.2. Use one of the class methods: ConfusionMatrixDisplay.from_predictions or ConfusionMatrixDisplay.from_estimator.\n",
            "  warnings.warn(msg, category=FutureWarning)\n"
          ]
        },
        {
          "output_type": "execute_result",
          "data": {
            "text/plain": [
              "<sklearn.metrics._plot.confusion_matrix.ConfusionMatrixDisplay at 0x7f3136abec50>"
            ]
          },
          "metadata": {},
          "execution_count": 238
        },
        {
          "output_type": "display_data",
          "data": {
            "text/plain": [
              "<Figure size 432x288 with 2 Axes>"
            ],
            "image/png": "[encoded data removed]"
          },
          "metadata": {
            "needs_background": "light"
          }
        }
      ]
    },
    {
      "cell_type": "code",
      "source": [
        "plot_confusion_matrix(knn,X_test,y_test)"
      ],
      "metadata": {
        "colab": {
          "base_uri": "https://localhost:8080/",
          "height": 354
        },
        "id": "dbJhjmuq_KBk",
        "outputId": "de1c999e-f9c6-4118-d514-fea04b1b1133"
      },
      "execution_count": 239,
      "outputs": [
        {
          "output_type": "stream",
          "name": "stderr",
          "text": [
            "/usr/local/lib/python3.7/dist-packages/sklearn/utils/deprecation.py:87: FutureWarning: Function plot_confusion_matrix is deprecated; Function `plot_confusion_matrix` is deprecated in 1.0 and will be removed in 1.2. Use one of the class methods: ConfusionMatrixDisplay.from_predictions or ConfusionMatrixDisplay.from_estimator.\n",
            "  warnings.warn(msg, category=FutureWarning)\n"
          ]
        },
        {
          "output_type": "execute_result",
          "data": {
            "text/plain": [
              "<sklearn.metrics._plot.confusion_matrix.ConfusionMatrixDisplay at 0x7f31362bb250>"
            ]
          },
          "metadata": {},
          "execution_count": 239
        },
        {
          "output_type": "display_data",
          "data": {
            "text/plain": [
              "<Figure size 432x288 with 2 Axes>"
            ],
            "image/png": "[encoded data removed]"
          },
          "metadata": {
            "needs_background": "light"
          }
        }
      ]
    },
    {
      "cell_type": "code",
      "source": [
        "plot_confusion_matrix(rfc,X_test,y_test)"
      ],
      "metadata": {
        "colab": {
          "base_uri": "https://localhost:8080/",
          "height": 354
        },
        "id": "oRt-FX93_Uds",
        "outputId": "67876903-05bb-4cc6-963d-2d8c36329b31"
      },
      "execution_count": 240,
      "outputs": [
        {
          "output_type": "stream",
          "name": "stderr",
          "text": [
            "/usr/local/lib/python3.7/dist-packages/sklearn/utils/deprecation.py:87: FutureWarning: Function plot_confusion_matrix is deprecated; Function `plot_confusion_matrix` is deprecated in 1.0 and will be removed in 1.2. Use one of the class methods: ConfusionMatrixDisplay.from_predictions or ConfusionMatrixDisplay.from_estimator.\n",
            "  warnings.warn(msg, category=FutureWarning)\n"
          ]
        },
        {
          "output_type": "execute_result",
          "data": {
            "text/plain": [
              "<sklearn.metrics._plot.confusion_matrix.ConfusionMatrixDisplay at 0x7f31361e9810>"
            ]
          },
          "metadata": {},
          "execution_count": 240
        },
        {
          "output_type": "display_data",
          "data": {
            "text/plain": [
              "<Figure size 432x288 with 2 Axes>"
            ],
            "image/png": "[encoded data removed]"
          },
          "metadata": {
            "needs_background": "light"
          }
        }
      ]
    },
    {
      "cell_type": "code",
      "source": [
        "plot_confusion_matrix(gbc,X_test,y_test)"
      ],
      "metadata": {
        "colab": {
          "base_uri": "https://localhost:8080/",
          "height": 354
        },
        "id": "b57BXHpf_klG",
        "outputId": "a5e2ea5c-6f4b-4b72-dc9f-8be1500acfbb"
      },
      "execution_count": 241,
      "outputs": [
        {
          "output_type": "stream",
          "name": "stderr",
          "text": [
            "/usr/local/lib/python3.7/dist-packages/sklearn/utils/deprecation.py:87: FutureWarning: Function plot_confusion_matrix is deprecated; Function `plot_confusion_matrix` is deprecated in 1.0 and will be removed in 1.2. Use one of the class methods: ConfusionMatrixDisplay.from_predictions or ConfusionMatrixDisplay.from_estimator.\n",
            "  warnings.warn(msg, category=FutureWarning)\n"
          ]
        },
        {
          "output_type": "execute_result",
          "data": {
            "text/plain": [
              "<sklearn.metrics._plot.confusion_matrix.ConfusionMatrixDisplay at 0x7f313607a250>"
            ]
          },
          "metadata": {},
          "execution_count": 241
        },
        {
          "output_type": "display_data",
          "data": {
            "text/plain": [
              "<Figure size 432x288 with 2 Axes>"
            ],
            "image/png": "[encoded data removed]"
          },
          "metadata": {
            "needs_background": "light"
          }
        }
      ]
    },
    {
      "cell_type": "code",
      "source": [
        "from sklearn.model_selection import GridSearchCV"
      ],
      "metadata": {
        "id": "kFzX37wrCrB4"
      },
      "execution_count": 242,
      "outputs": []
    },
    {
      "cell_type": "code",
      "source": [
        "param_grid = {'C': [0.001, 0.01, 0.1, 1, 10, 100, 1000], 'solver': ['newton-cg',  'lbfgs', 'liblinear', 'sag', 'saga']}"
      ],
      "metadata": {
        "id": "W2TEfggMCvYH"
      },
      "execution_count": 243,
      "outputs": []
    },
    {
      "cell_type": "code",
      "source": [
        "gscv = GridSearchCV(LogisticRegression(), param_grid = param_grid)"
      ],
      "metadata": {
        "id": "Q0GnwrQ_C2Jz"
      },
      "execution_count": 244,
      "outputs": []
    },
    {
      "cell_type": "code",
      "source": [
        "gscv.fit(X_train, y_train)"
      ],
      "metadata": {
        "colab": {
          "base_uri": "https://localhost:8080/"
        },
        "id": "pE9aLbHuC6gB",
        "outputId": "e5b2d73b-835f-4b92-bad5-cac2f7e8efa6"
      },
      "execution_count": 245,
      "outputs": [
        {
          "output_type": "stream",
          "name": "stderr",
          "text": [
            "/usr/local/lib/python3.7/dist-packages/sklearn/linear_model/_sag.py:354: ConvergenceWarning: The max_iter was reached which means the coef_ did not converge\n",
            "  ConvergenceWarning,\n",
            "/usr/local/lib/python3.7/dist-packages/sklearn/linear_model/_sag.py:354: ConvergenceWarning: The max_iter was reached which means the coef_ did not converge\n",
            "  ConvergenceWarning,\n",
            "/usr/local/lib/python3.7/dist-packages/sklearn/linear_model/_sag.py:354: ConvergenceWarning: The max_iter was reached which means the coef_ did not converge\n",
            "  ConvergenceWarning,\n",
            "/usr/local/lib/python3.7/dist-packages/sklearn/linear_model/_sag.py:354: ConvergenceWarning: The max_iter was reached which means the coef_ did not converge\n",
            "  ConvergenceWarning,\n",
            "/usr/local/lib/python3.7/dist-packages/sklearn/linear_model/_sag.py:354: ConvergenceWarning: The max_iter was reached which means the coef_ did not converge\n",
            "  ConvergenceWarning,\n",
            "/usr/local/lib/python3.7/dist-packages/sklearn/linear_model/_sag.py:354: ConvergenceWarning: The max_iter was reached which means the coef_ did not converge\n",
            "  ConvergenceWarning,\n",
            "/usr/local/lib/python3.7/dist-packages/sklearn/linear_model/_sag.py:354: ConvergenceWarning: The max_iter was reached which means the coef_ did not converge\n",
            "  ConvergenceWarning,\n",
            "/usr/local/lib/python3.7/dist-packages/sklearn/linear_model/_sag.py:354: ConvergenceWarning: The max_iter was reached which means the coef_ did not converge\n",
            "  ConvergenceWarning,\n",
            "/usr/local/lib/python3.7/dist-packages/sklearn/linear_model/_sag.py:354: ConvergenceWarning: The max_iter was reached which means the coef_ did not converge\n",
            "  ConvergenceWarning,\n",
            "/usr/local/lib/python3.7/dist-packages/sklearn/linear_model/_sag.py:354: ConvergenceWarning: The max_iter was reached which means the coef_ did not converge\n",
            "  ConvergenceWarning,\n",
            "/usr/local/lib/python3.7/dist-packages/sklearn/linear_model/_logistic.py:818: ConvergenceWarning: lbfgs failed to converge (status=1):\n",
            "STOP: TOTAL NO. of ITERATIONS REACHED LIMIT.\n",
            "\n",
            "Increase the number of iterations (max_iter) or scale the data as shown in:\n",
            "    https://scikit-learn.org/stable/modules/preprocessing.html\n",
            "Please also refer to the documentation for alternative solver options:\n",
            "    https://scikit-learn.org/stable/modules/linear_model.html#logistic-regression\n",
            "  extra_warning_msg=_LOGISTIC_SOLVER_CONVERGENCE_MSG,\n",
            "/usr/local/lib/python3.7/dist-packages/sklearn/linear_model/_logistic.py:818: ConvergenceWarning: lbfgs failed to converge (status=1):\n",
            "STOP: TOTAL NO. of ITERATIONS REACHED LIMIT.\n",
            "\n",
            "Increase the number of iterations (max_iter) or scale the data as shown in:\n",
            "    https://scikit-learn.org/stable/modules/preprocessing.html\n",
            "Please also refer to the documentation for alternative solver options:\n",
            "    https://scikit-learn.org/stable/modules/linear_model.html#logistic-regression\n",
            "  extra_warning_msg=_LOGISTIC_SOLVER_CONVERGENCE_MSG,\n",
            "/usr/local/lib/python3.7/dist-packages/sklearn/linear_model/_logistic.py:818: ConvergenceWarning: lbfgs failed to converge (status=1):\n",
            "STOP: TOTAL NO. of ITERATIONS REACHED LIMIT.\n",
            "\n",
            "Increase the number of iterations (max_iter) or scale the data as shown in:\n",
            "    https://scikit-learn.org/stable/modules/preprocessing.html\n",
            "Please also refer to the documentation for alternative solver options:\n",
            "    https://scikit-learn.org/stable/modules/linear_model.html#logistic-regression\n",
            "  extra_warning_msg=_LOGISTIC_SOLVER_CONVERGENCE_MSG,\n",
            "/usr/local/lib/python3.7/dist-packages/sklearn/linear_model/_logistic.py:818: ConvergenceWarning: lbfgs failed to converge (status=1):\n",
            "STOP: TOTAL NO. of ITERATIONS REACHED LIMIT.\n",
            "\n",
            "Increase the number of iterations (max_iter) or scale the data as shown in:\n",
            "    https://scikit-learn.org/stable/modules/preprocessing.html\n",
            "Please also refer to the documentation for alternative solver options:\n",
            "    https://scikit-learn.org/stable/modules/linear_model.html#logistic-regression\n",
            "  extra_warning_msg=_LOGISTIC_SOLVER_CONVERGENCE_MSG,\n",
            "/usr/local/lib/python3.7/dist-packages/sklearn/linear_model/_logistic.py:818: ConvergenceWarning: lbfgs failed to converge (status=1):\n",
            "STOP: TOTAL NO. of ITERATIONS REACHED LIMIT.\n",
            "\n",
            "Increase the number of iterations (max_iter) or scale the data as shown in:\n",
            "    https://scikit-learn.org/stable/modules/preprocessing.html\n",
            "Please also refer to the documentation for alternative solver options:\n",
            "    https://scikit-learn.org/stable/modules/linear_model.html#logistic-regression\n",
            "  extra_warning_msg=_LOGISTIC_SOLVER_CONVERGENCE_MSG,\n",
            "/usr/local/lib/python3.7/dist-packages/sklearn/linear_model/_sag.py:354: ConvergenceWarning: The max_iter was reached which means the coef_ did not converge\n",
            "  ConvergenceWarning,\n",
            "/usr/local/lib/python3.7/dist-packages/sklearn/linear_model/_sag.py:354: ConvergenceWarning: The max_iter was reached which means the coef_ did not converge\n",
            "  ConvergenceWarning,\n",
            "/usr/local/lib/python3.7/dist-packages/sklearn/linear_model/_sag.py:354: ConvergenceWarning: The max_iter was reached which means the coef_ did not converge\n",
            "  ConvergenceWarning,\n",
            "/usr/local/lib/python3.7/dist-packages/sklearn/linear_model/_sag.py:354: ConvergenceWarning: The max_iter was reached which means the coef_ did not converge\n",
            "  ConvergenceWarning,\n",
            "/usr/local/lib/python3.7/dist-packages/sklearn/linear_model/_sag.py:354: ConvergenceWarning: The max_iter was reached which means the coef_ did not converge\n",
            "  ConvergenceWarning,\n",
            "/usr/local/lib/python3.7/dist-packages/sklearn/linear_model/_sag.py:354: ConvergenceWarning: The max_iter was reached which means the coef_ did not converge\n",
            "  ConvergenceWarning,\n",
            "/usr/local/lib/python3.7/dist-packages/sklearn/linear_model/_sag.py:354: ConvergenceWarning: The max_iter was reached which means the coef_ did not converge\n",
            "  ConvergenceWarning,\n",
            "/usr/local/lib/python3.7/dist-packages/sklearn/linear_model/_sag.py:354: ConvergenceWarning: The max_iter was reached which means the coef_ did not converge\n",
            "  ConvergenceWarning,\n",
            "/usr/local/lib/python3.7/dist-packages/sklearn/linear_model/_sag.py:354: ConvergenceWarning: The max_iter was reached which means the coef_ did not converge\n",
            "  ConvergenceWarning,\n",
            "/usr/local/lib/python3.7/dist-packages/sklearn/linear_model/_sag.py:354: ConvergenceWarning: The max_iter was reached which means the coef_ did not converge\n",
            "  ConvergenceWarning,\n",
            "/usr/local/lib/python3.7/dist-packages/sklearn/linear_model/_logistic.py:818: ConvergenceWarning: lbfgs failed to converge (status=1):\n",
            "STOP: TOTAL NO. of ITERATIONS REACHED LIMIT.\n",
            "\n",
            "Increase the number of iterations (max_iter) or scale the data as shown in:\n",
            "    https://scikit-learn.org/stable/modules/preprocessing.html\n",
            "Please also refer to the documentation for alternative solver options:\n",
            "    https://scikit-learn.org/stable/modules/linear_model.html#logistic-regression\n",
            "  extra_warning_msg=_LOGISTIC_SOLVER_CONVERGENCE_MSG,\n",
            "/usr/local/lib/python3.7/dist-packages/sklearn/linear_model/_logistic.py:818: ConvergenceWarning: lbfgs failed to converge (status=1):\n",
            "STOP: TOTAL NO. of ITERATIONS REACHED LIMIT.\n",
            "\n",
            "Increase the number of iterations (max_iter) or scale the data as shown in:\n",
            "    https://scikit-learn.org/stable/modules/preprocessing.html\n",
            "Please also refer to the documentation for alternative solver options:\n",
            "    https://scikit-learn.org/stable/modules/linear_model.html#logistic-regression\n",
            "  extra_warning_msg=_LOGISTIC_SOLVER_CONVERGENCE_MSG,\n",
            "/usr/local/lib/python3.7/dist-packages/sklearn/linear_model/_logistic.py:818: ConvergenceWarning: lbfgs failed to converge (status=1):\n",
            "STOP: TOTAL NO. of ITERATIONS REACHED LIMIT.\n",
            "\n",
            "Increase the number of iterations (max_iter) or scale the data as shown in:\n",
            "    https://scikit-learn.org/stable/modules/preprocessing.html\n",
            "Please also refer to the documentation for alternative solver options:\n",
            "    https://scikit-learn.org/stable/modules/linear_model.html#logistic-regression\n",
            "  extra_warning_msg=_LOGISTIC_SOLVER_CONVERGENCE_MSG,\n",
            "/usr/local/lib/python3.7/dist-packages/sklearn/linear_model/_logistic.py:818: ConvergenceWarning: lbfgs failed to converge (status=1):\n",
            "STOP: TOTAL NO. of ITERATIONS REACHED LIMIT.\n",
            "\n",
            "Increase the number of iterations (max_iter) or scale the data as shown in:\n",
            "    https://scikit-learn.org/stable/modules/preprocessing.html\n",
            "Please also refer to the documentation for alternative solver options:\n",
            "    https://scikit-learn.org/stable/modules/linear_model.html#logistic-regression\n",
            "  extra_warning_msg=_LOGISTIC_SOLVER_CONVERGENCE_MSG,\n",
            "/usr/local/lib/python3.7/dist-packages/sklearn/linear_model/_logistic.py:818: ConvergenceWarning: lbfgs failed to converge (status=1):\n",
            "STOP: TOTAL NO. of ITERATIONS REACHED LIMIT.\n",
            "\n",
            "Increase the number of iterations (max_iter) or scale the data as shown in:\n",
            "    https://scikit-learn.org/stable/modules/preprocessing.html\n",
            "Please also refer to the documentation for alternative solver options:\n",
            "    https://scikit-learn.org/stable/modules/linear_model.html#logistic-regression\n",
            "  extra_warning_msg=_LOGISTIC_SOLVER_CONVERGENCE_MSG,\n",
            "/usr/local/lib/python3.7/dist-packages/sklearn/linear_model/_sag.py:354: ConvergenceWarning: The max_iter was reached which means the coef_ did not converge\n",
            "  ConvergenceWarning,\n",
            "/usr/local/lib/python3.7/dist-packages/sklearn/linear_model/_sag.py:354: ConvergenceWarning: The max_iter was reached which means the coef_ did not converge\n",
            "  ConvergenceWarning,\n",
            "/usr/local/lib/python3.7/dist-packages/sklearn/linear_model/_sag.py:354: ConvergenceWarning: The max_iter was reached which means the coef_ did not converge\n",
            "  ConvergenceWarning,\n",
            "/usr/local/lib/python3.7/dist-packages/sklearn/linear_model/_sag.py:354: ConvergenceWarning: The max_iter was reached which means the coef_ did not converge\n",
            "  ConvergenceWarning,\n",
            "/usr/local/lib/python3.7/dist-packages/sklearn/linear_model/_sag.py:354: ConvergenceWarning: The max_iter was reached which means the coef_ did not converge\n",
            "  ConvergenceWarning,\n",
            "/usr/local/lib/python3.7/dist-packages/sklearn/linear_model/_sag.py:354: ConvergenceWarning: The max_iter was reached which means the coef_ did not converge\n",
            "  ConvergenceWarning,\n",
            "/usr/local/lib/python3.7/dist-packages/sklearn/linear_model/_sag.py:354: ConvergenceWarning: The max_iter was reached which means the coef_ did not converge\n",
            "  ConvergenceWarning,\n",
            "/usr/local/lib/python3.7/dist-packages/sklearn/linear_model/_sag.py:354: ConvergenceWarning: The max_iter was reached which means the coef_ did not converge\n",
            "  ConvergenceWarning,\n",
            "/usr/local/lib/python3.7/dist-packages/sklearn/linear_model/_sag.py:354: ConvergenceWarning: The max_iter was reached which means the coef_ did not converge\n",
            "  ConvergenceWarning,\n",
            "/usr/local/lib/python3.7/dist-packages/sklearn/linear_model/_sag.py:354: ConvergenceWarning: The max_iter was reached which means the coef_ did not converge\n",
            "  ConvergenceWarning,\n",
            "/usr/local/lib/python3.7/dist-packages/sklearn/linear_model/_logistic.py:818: ConvergenceWarning: lbfgs failed to converge (status=1):\n",
            "STOP: TOTAL NO. of ITERATIONS REACHED LIMIT.\n",
            "\n",
            "Increase the number of iterations (max_iter) or scale the data as shown in:\n",
            "    https://scikit-learn.org/stable/modules/preprocessing.html\n",
            "Please also refer to the documentation for alternative solver options:\n",
            "    https://scikit-learn.org/stable/modules/linear_model.html#logistic-regression\n",
            "  extra_warning_msg=_LOGISTIC_SOLVER_CONVERGENCE_MSG,\n",
            "/usr/local/lib/python3.7/dist-packages/sklearn/linear_model/_logistic.py:818: ConvergenceWarning: lbfgs failed to converge (status=1):\n",
            "STOP: TOTAL NO. of ITERATIONS REACHED LIMIT.\n",
            "\n",
            "Increase the number of iterations (max_iter) or scale the data as shown in:\n",
            "    https://scikit-learn.org/stable/modules/preprocessing.html\n",
            "Please also refer to the documentation for alternative solver options:\n",
            "    https://scikit-learn.org/stable/modules/linear_model.html#logistic-regression\n",
            "  extra_warning_msg=_LOGISTIC_SOLVER_CONVERGENCE_MSG,\n",
            "/usr/local/lib/python3.7/dist-packages/sklearn/linear_model/_logistic.py:818: ConvergenceWarning: lbfgs failed to converge (status=1):\n",
            "STOP: TOTAL NO. of ITERATIONS REACHED LIMIT.\n",
            "\n",
            "Increase the number of iterations (max_iter) or scale the data as shown in:\n",
            "    https://scikit-learn.org/stable/modules/preprocessing.html\n",
            "Please also refer to the documentation for alternative solver options:\n",
            "    https://scikit-learn.org/stable/modules/linear_model.html#logistic-regression\n",
            "  extra_warning_msg=_LOGISTIC_SOLVER_CONVERGENCE_MSG,\n",
            "/usr/local/lib/python3.7/dist-packages/sklearn/linear_model/_logistic.py:818: ConvergenceWarning: lbfgs failed to converge (status=1):\n",
            "STOP: TOTAL NO. of ITERATIONS REACHED LIMIT.\n",
            "\n",
            "Increase the number of iterations (max_iter) or scale the data as shown in:\n",
            "    https://scikit-learn.org/stable/modules/preprocessing.html\n",
            "Please also refer to the documentation for alternative solver options:\n",
            "    https://scikit-learn.org/stable/modules/linear_model.html#logistic-regression\n",
            "  extra_warning_msg=_LOGISTIC_SOLVER_CONVERGENCE_MSG,\n",
            "/usr/local/lib/python3.7/dist-packages/sklearn/linear_model/_logistic.py:818: ConvergenceWarning: lbfgs failed to converge (status=1):\n",
            "STOP: TOTAL NO. of ITERATIONS REACHED LIMIT.\n",
            "\n",
            "Increase the number of iterations (max_iter) or scale the data as shown in:\n",
            "    https://scikit-learn.org/stable/modules/preprocessing.html\n",
            "Please also refer to the documentation for alternative solver options:\n",
            "    https://scikit-learn.org/stable/modules/linear_model.html#logistic-regression\n",
            "  extra_warning_msg=_LOGISTIC_SOLVER_CONVERGENCE_MSG,\n",
            "/usr/local/lib/python3.7/dist-packages/sklearn/linear_model/_sag.py:354: ConvergenceWarning: The max_iter was reached which means the coef_ did not converge\n",
            "  ConvergenceWarning,\n",
            "/usr/local/lib/python3.7/dist-packages/sklearn/linear_model/_sag.py:354: ConvergenceWarning: The max_iter was reached which means the coef_ did not converge\n",
            "  ConvergenceWarning,\n",
            "/usr/local/lib/python3.7/dist-packages/sklearn/linear_model/_sag.py:354: ConvergenceWarning: The max_iter was reached which means the coef_ did not converge\n",
            "  ConvergenceWarning,\n",
            "/usr/local/lib/python3.7/dist-packages/sklearn/linear_model/_sag.py:354: ConvergenceWarning: The max_iter was reached which means the coef_ did not converge\n",
            "  ConvergenceWarning,\n",
            "/usr/local/lib/python3.7/dist-packages/sklearn/linear_model/_sag.py:354: ConvergenceWarning: The max_iter was reached which means the coef_ did not converge\n",
            "  ConvergenceWarning,\n",
            "/usr/local/lib/python3.7/dist-packages/sklearn/linear_model/_sag.py:354: ConvergenceWarning: The max_iter was reached which means the coef_ did not converge\n",
            "  ConvergenceWarning,\n",
            "/usr/local/lib/python3.7/dist-packages/sklearn/linear_model/_sag.py:354: ConvergenceWarning: The max_iter was reached which means the coef_ did not converge\n",
            "  ConvergenceWarning,\n",
            "/usr/local/lib/python3.7/dist-packages/sklearn/linear_model/_sag.py:354: ConvergenceWarning: The max_iter was reached which means the coef_ did not converge\n",
            "  ConvergenceWarning,\n",
            "/usr/local/lib/python3.7/dist-packages/sklearn/linear_model/_sag.py:354: ConvergenceWarning: The max_iter was reached which means the coef_ did not converge\n",
            "  ConvergenceWarning,\n",
            "/usr/local/lib/python3.7/dist-packages/sklearn/linear_model/_sag.py:354: ConvergenceWarning: The max_iter was reached which means the coef_ did not converge\n",
            "  ConvergenceWarning,\n",
            "/usr/local/lib/python3.7/dist-packages/sklearn/linear_model/_logistic.py:818: ConvergenceWarning: lbfgs failed to converge (status=1):\n",
            "STOP: TOTAL NO. of ITERATIONS REACHED LIMIT.\n",
            "\n",
            "Increase the number of iterations (max_iter) or scale the data as shown in:\n",
            "    https://scikit-learn.org/stable/modules/preprocessing.html\n",
            "Please also refer to the documentation for alternative solver options:\n",
            "    https://scikit-learn.org/stable/modules/linear_model.html#logistic-regression\n",
            "  extra_warning_msg=_LOGISTIC_SOLVER_CONVERGENCE_MSG,\n"
          ]
        },
        {
          "output_type": "execute_result",
          "data": {
            "text/plain": [
              "GridSearchCV(estimator=LogisticRegression(),\n",
              "             param_grid={'C': [0.001, 0.01, 0.1, 1, 10, 100, 1000],\n",
              "                         'solver': ['newton-cg', 'lbfgs', 'liblinear', 'sag',\n",
              "                                    'saga']})"
            ]
          },
          "metadata": {},
          "execution_count": 245
        }
      ]
    },
    {
      "cell_type": "markdown",
      "source": [
        "# Final_model"
      ],
      "metadata": {
        "id": "KCtyrR9v_Jer"
      }
    },
    {
      "cell_type": "code",
      "source": [
        "final_model = LogisticRegression(C = 10,solver='saga')"
      ],
      "metadata": {
        "id": "RocuTae1_oae"
      },
      "execution_count": 246,
      "outputs": []
    },
    {
      "cell_type": "code",
      "source": [
        "final_model.fit(X_train, y_train)"
      ],
      "metadata": {
        "colab": {
          "base_uri": "https://localhost:8080/"
        },
        "id": "HzE5OMsk_QPU",
        "outputId": "e73502e1-21b0-48b8-efbe-a5761df0a2de"
      },
      "execution_count": 247,
      "outputs": [
        {
          "output_type": "stream",
          "name": "stderr",
          "text": [
            "/usr/local/lib/python3.7/dist-packages/sklearn/linear_model/_sag.py:354: ConvergenceWarning: The max_iter was reached which means the coef_ did not converge\n",
            "  ConvergenceWarning,\n"
          ]
        },
        {
          "output_type": "execute_result",
          "data": {
            "text/plain": [
              "LogisticRegression(C=10, solver='saga')"
            ]
          },
          "metadata": {},
          "execution_count": 247
        }
      ]
    },
    {
      "cell_type": "code",
      "source": [
        "final_model.score(X_test, y_test)"
      ],
      "metadata": {
        "colab": {
          "base_uri": "https://localhost:8080/"
        },
        "id": "vCrZikK2APbd",
        "outputId": "a3eb6398-e164-4ee7-a7c7-97d1369dfc18"
      },
      "execution_count": 248,
      "outputs": [
        {
          "output_type": "execute_result",
          "data": {
            "text/plain": [
              "0.7685185185185185"
            ]
          },
          "metadata": {},
          "execution_count": 248
        }
      ]
    },
    {
      "cell_type": "code",
      "source": [
        "y_pred = lr.predict(X_test)\n",
        "print(f1_score(y_test, y_pred, average = 'macro'))"
      ],
      "metadata": {
        "colab": {
          "base_uri": "https://localhost:8080/"
        },
        "id": "p9U9SXxiATDb",
        "outputId": "89d6ffa3-9c38-498c-bee8-f6b9a9f43d10"
      },
      "execution_count": 249,
      "outputs": [
        {
          "output_type": "stream",
          "name": "stdout",
          "text": [
            "0.7480675592991606\n"
          ]
        }
      ]
    },
    {
      "cell_type": "code",
      "source": [
        "plot_confusion_matrix(final_model, X_test, y_test)"
      ],
      "metadata": {
        "colab": {
          "base_uri": "https://localhost:8080/",
          "height": 354
        },
        "id": "PjcDorZkAZ6-",
        "outputId": "bbce0644-79de-44e9-bb4d-aa1b4c294fac"
      },
      "execution_count": 250,
      "outputs": [
        {
          "output_type": "stream",
          "name": "stderr",
          "text": [
            "/usr/local/lib/python3.7/dist-packages/sklearn/utils/deprecation.py:87: FutureWarning: Function plot_confusion_matrix is deprecated; Function `plot_confusion_matrix` is deprecated in 1.0 and will be removed in 1.2. Use one of the class methods: ConfusionMatrixDisplay.from_predictions or ConfusionMatrixDisplay.from_estimator.\n",
            "  warnings.warn(msg, category=FutureWarning)\n"
          ]
        },
        {
          "output_type": "execute_result",
          "data": {
            "text/plain": [
              "<sklearn.metrics._plot.confusion_matrix.ConfusionMatrixDisplay at 0x7f313607a0d0>"
            ]
          },
          "metadata": {},
          "execution_count": 250
        },
        {
          "output_type": "display_data",
          "data": {
            "text/plain": [
              "<Figure size 432x288 with 2 Axes>"
            ],
            "image/png": "[encoded data removed]"
          },
          "metadata": {
            "needs_background": "light"
          }
        }
      ]
    },
    {
      "cell_type": "code",
      "source": [],
      "metadata": {
        "id": "d4FnxyNrCftA"
      },
      "execution_count": 250,
      "outputs": []
    }
  ]
}